{
 "cells": [
  {
   "cell_type": "markdown",
   "metadata": {},
   "source": [
    "# Descriptores <a class=\"anchor\" id=\"des\"></a>\n",
    "\n",
    "([Volver al inicio](#inicio))\n",
    "\n",
    "Debemos primero representar las letras proposicionales, las cuales cruzan la información de qué número está en qué casilla:\n",
    "\n",
    "$OenCasilla_{x,y,n}$ es verdadera sii el número $n$ está en la casilla $(x,y)$\n",
    "\n",
    "Para hacer la implementación en python, sugerimos usar la clase `Descriptor`, que se encuentra en la librería `Logica`.  Básicamente, lo que hace la codificación es representar un átomo como un solo caracter (es decir, una cadena de longitud 1).\n",
    "\n",
    "Importamos la clase a partir de la librería:"
   ]
  },
  {
   "cell_type": "code",
   "execution_count": 1,
   "metadata": {},
   "outputs": [],
   "source": [
    "from Logica import Descriptor"
   ]
  },
  {
   "cell_type": "markdown",
   "metadata": {},
   "source": [
    "Ahora creamos un descriptor de dos argumentos,  uno para la casilla $(y)$ y uno para los números:"
   ]
  },
  {
   "cell_type": "code",
   "execution_count": 2,
   "metadata": {},
   "outputs": [],
   "source": [
    "Nx = 16\n",
    "Ny = 5\n",
    "Nn = Nx*Ny\n",
    "X = list(range(Nx))\n",
    "Y = list(range(Ny))\n",
    "xt = [0,1,2,3,4,5,6,7,8,9,\"A\",\"B\",\"C\",\"D\",\"E\",\"F\"]\n",
    "CaracterenCasilla = Descriptor([Nx, Ny])\n",
    "\n"
   ]
  },
  {
   "cell_type": "markdown",
   "metadata": {},
   "source": [
    "Métodos importantes del `Descriptor`:\n",
    "\n",
    "* P(`lista_valores`): Codifica el cruce de información correspondiente a los valores en `lista_valores` mediante un caracter.\n",
    "* inv(`caracter`): Decodifica `caracter` en una lista de valores. Esta lista depende del número de argumentos con que se haya inicializado el objeto descriptor. \n",
    "\n",
    "### Codificando en un solo caracter\n",
    "\n",
    "Mediante el método P() podemos crear las codificaciones. A continuación presentaremos cada uno de los caracteres que codifican los cruces de información de que un número $x$ (con $x\\in\\{0, 1, 2, 3,4,5,6,7,8,9,10,11,12,13,14,15\\}$) se encuentra en una casilla $(y)$ (donde $y\\in\\{0, 1,2,3,4\\}$):"
   ]
  },
  {
   "cell_type": "code",
   "execution_count": 3,
   "metadata": {},
   "outputs": [
    {
     "name": "stdout",
     "output_type": "stream",
     "text": [
      "Cantidad de átomos en Casillas: 80\n",
      "Caracteres correspondientes a los átomos en Casillas:\n",
      "\n",
      "Que el número 0 está en la casilla (0) es el átomo Ā\n",
      "Que el número 0 está en la casilla (1) es el átomo Đ\n",
      "Que el número 0 está en la casilla (2) es el átomo Ġ\n",
      "Que el número 0 está en la casilla (3) es el átomo İ\n",
      "Que el número 0 está en la casilla (4) es el átomo ŀ\n",
      "\n",
      "Que el número 1 está en la casilla (0) es el átomo ā\n",
      "Que el número 1 está en la casilla (1) es el átomo đ\n",
      "Que el número 1 está en la casilla (2) es el átomo ġ\n",
      "Que el número 1 está en la casilla (3) es el átomo ı\n",
      "Que el número 1 está en la casilla (4) es el átomo Ł\n",
      "\n",
      "Que el número 2 está en la casilla (0) es el átomo Ă\n",
      "Que el número 2 está en la casilla (1) es el átomo Ē\n",
      "Que el número 2 está en la casilla (2) es el átomo Ģ\n",
      "Que el número 2 está en la casilla (3) es el átomo Ĳ\n",
      "Que el número 2 está en la casilla (4) es el átomo ł\n",
      "\n",
      "Que el número 3 está en la casilla (0) es el átomo ă\n",
      "Que el número 3 está en la casilla (1) es el átomo ē\n",
      "Que el número 3 está en la casilla (2) es el átomo ģ\n",
      "Que el número 3 está en la casilla (3) es el átomo ĳ\n",
      "Que el número 3 está en la casilla (4) es el átomo Ń\n",
      "\n",
      "Que el número 4 está en la casilla (0) es el átomo Ą\n",
      "Que el número 4 está en la casilla (1) es el átomo Ĕ\n",
      "Que el número 4 está en la casilla (2) es el átomo Ĥ\n",
      "Que el número 4 está en la casilla (3) es el átomo Ĵ\n",
      "Que el número 4 está en la casilla (4) es el átomo ń\n",
      "\n",
      "Que el número 5 está en la casilla (0) es el átomo ą\n",
      "Que el número 5 está en la casilla (1) es el átomo ĕ\n",
      "Que el número 5 está en la casilla (2) es el átomo ĥ\n",
      "Que el número 5 está en la casilla (3) es el átomo ĵ\n",
      "Que el número 5 está en la casilla (4) es el átomo Ņ\n",
      "\n",
      "Que el número 6 está en la casilla (0) es el átomo Ć\n",
      "Que el número 6 está en la casilla (1) es el átomo Ė\n",
      "Que el número 6 está en la casilla (2) es el átomo Ħ\n",
      "Que el número 6 está en la casilla (3) es el átomo Ķ\n",
      "Que el número 6 está en la casilla (4) es el átomo ņ\n",
      "\n",
      "Que el número 7 está en la casilla (0) es el átomo ć\n",
      "Que el número 7 está en la casilla (1) es el átomo ė\n",
      "Que el número 7 está en la casilla (2) es el átomo ħ\n",
      "Que el número 7 está en la casilla (3) es el átomo ķ\n",
      "Que el número 7 está en la casilla (4) es el átomo Ň\n",
      "\n",
      "Que el número 8 está en la casilla (0) es el átomo Ĉ\n",
      "Que el número 8 está en la casilla (1) es el átomo Ę\n",
      "Que el número 8 está en la casilla (2) es el átomo Ĩ\n",
      "Que el número 8 está en la casilla (3) es el átomo ĸ\n",
      "Que el número 8 está en la casilla (4) es el átomo ň\n",
      "\n",
      "Que el número 9 está en la casilla (0) es el átomo ĉ\n",
      "Que el número 9 está en la casilla (1) es el átomo ę\n",
      "Que el número 9 está en la casilla (2) es el átomo ĩ\n",
      "Que el número 9 está en la casilla (3) es el átomo Ĺ\n",
      "Que el número 9 está en la casilla (4) es el átomo ŉ\n",
      "\n",
      "Que el número A está en la casilla (0) es el átomo Ċ\n",
      "Que el número A está en la casilla (1) es el átomo Ě\n",
      "Que el número A está en la casilla (2) es el átomo Ī\n",
      "Que el número A está en la casilla (3) es el átomo ĺ\n",
      "Que el número A está en la casilla (4) es el átomo Ŋ\n",
      "\n",
      "Que el número B está en la casilla (0) es el átomo ċ\n",
      "Que el número B está en la casilla (1) es el átomo ě\n",
      "Que el número B está en la casilla (2) es el átomo ī\n",
      "Que el número B está en la casilla (3) es el átomo Ļ\n",
      "Que el número B está en la casilla (4) es el átomo ŋ\n",
      "\n",
      "Que el número C está en la casilla (0) es el átomo Č\n",
      "Que el número C está en la casilla (1) es el átomo Ĝ\n",
      "Que el número C está en la casilla (2) es el átomo Ĭ\n",
      "Que el número C está en la casilla (3) es el átomo ļ\n",
      "Que el número C está en la casilla (4) es el átomo Ō\n",
      "\n",
      "Que el número D está en la casilla (0) es el átomo č\n",
      "Que el número D está en la casilla (1) es el átomo ĝ\n",
      "Que el número D está en la casilla (2) es el átomo ĭ\n",
      "Que el número D está en la casilla (3) es el átomo Ľ\n",
      "Que el número D está en la casilla (4) es el átomo ō\n",
      "\n",
      "Que el número E está en la casilla (0) es el átomo Ď\n",
      "Que el número E está en la casilla (1) es el átomo Ğ\n",
      "Que el número E está en la casilla (2) es el átomo Į\n",
      "Que el número E está en la casilla (3) es el átomo ľ\n",
      "Que el número E está en la casilla (4) es el átomo Ŏ\n",
      "\n",
      "Que el número F está en la casilla (0) es el átomo ď\n",
      "Que el número F está en la casilla (1) es el átomo ğ\n",
      "Que el número F está en la casilla (2) es el átomo į\n",
      "Que el número F está en la casilla (3) es el átomo Ŀ\n",
      "Que el número F está en la casilla (4) es el átomo ŏ\n",
      "\n"
     ]
    }
   ],
   "source": [
    "lista_regla_4 = []\n",
    "\n",
    "print(\"Cantidad de átomos en Casillas:\", CaracterenCasilla.rango[1] - CaracterenCasilla.rango[0])\n",
    "print(\"Caracteres correspondientes a los átomos en Casillas:\\n\")\n",
    "for x in range(Nx):\n",
    "    for y in range(Ny):\n",
    "        atomo = CaracterenCasilla.P([x,y])\n",
    "        print(f\"Que el número {xt[x]} está en la casilla ({Y[y]}) es el átomo {atomo}\")\n",
    "        lista_regla_4.append(atomo)\n",
    "    print(\"\")"
   ]
  },
  {
   "cell_type": "markdown",
   "metadata": {},
   "source": [
    "# Visualización <a class=\"anchor\" id=\"comp\"></a>\n",
    "\n",
    "Visualización del problema:"
   ]
  },
  {
   "cell_type": "code",
   "execution_count": 41,
   "metadata": {},
   "outputs": [],
   "source": [
    "from itertools import combinations\n",
    "from Logica import *\n",
    "import matplotlib.pyplot as plt\n",
    "import matplotlib.patches as patches\n",
    "from matplotlib.offsetbox import AnnotationBbox, OffsetImage\n",
    "from types import MethodType\n",
    "xt = [0,1,2,3,4,5,6,7,8,9,\"A\",\"B\",\"C\",\"D\",\"E\",\"F\"]\n",
    "\n",
    "def escribir_rejilla(self, literal):\n",
    "    if '-' in literal:\n",
    "        atomo = literal[1:]\n",
    "        neg = ' no'\n",
    "    else:\n",
    "        atomo = literal\n",
    "        neg = ''\n",
    "    x, y  = self.inv(atomo)\n",
    "    return f\"El número {xt[x]}{neg} está en la casilla ({Y[y]})\"\n",
    "\n",
    "class Rejilla:\n",
    "\n",
    "    '''\n",
    "    Clase para representar el problema de poner\n",
    "    un número distinto en cada una de las casillas\n",
    "    de una rejilla nxn\n",
    "    '''\n",
    "\n",
    "    def __init__(self):\n",
    "        self.Nx = 16\n",
    "        self.Ny = 5\n",
    "        self.Nn = self.Nx*self.Ny\n",
    "        self.X = list(range(self.Nx))\n",
    "        self.Y = list(range(self.Ny))\n",
    "        self.CaracterenCasilla = Descriptor([self.Nx, self.Ny])\n",
    "        r1 = self.regla1()\n",
    "        r2 = self.regla2()\n",
    "        r3 = self.regla3()\n",
    "        r6 = self.regla6()\n",
    "        r7 = self.regla7()\n",
    "        self.reglas = [r1, r2, r3, r6, r7]\n",
    "        \n",
    "    def regla1(self):\n",
    "        formula1 = ''\n",
    "        formulaF = ''\n",
    "        inicial2 = True\n",
    "        from Logica import visualizar_formula\n",
    "\n",
    "        for x in self.X:\n",
    "            for y in self.Y:\n",
    "                inicial = True\n",
    "                otras_casillas = [(j) for j in self.Y if (j) != (y)]\n",
    "                for casilla in otras_casillas:\n",
    "                    u = casilla\n",
    "                    if inicial:\n",
    "                        formula1 = self.CaracterenCasilla.P([x,u])\n",
    "                        inicial = False\n",
    "                    else:\n",
    "                        formula1 = \"(\" + formula1 + \"O\" + self.CaracterenCasilla.P([x,u]) + \")\"\n",
    "\n",
    "                if inicial2:\n",
    "                    formulaF = \"(\" + self.CaracterenCasilla.P([x,y]) + \">-\" + formula1 + \")\"\n",
    "                    inicial2 = False\n",
    "                else:\n",
    "                    formulaF = \"(\" + formulaF + \"Y\" +\"(\" + self.CaracterenCasilla.P([x,y]) + \">-\" + formula1 + \")\" + \")\"\n",
    "\n",
    "                \n",
    "                    \n",
    "    def regla2(self):\n",
    "        y = 0\n",
    "        casilla = (y)\n",
    "        otras_casillas = [(j) for j in self.Y if (j) != (y)]\n",
    "        hexadecimal = [11,12,13,14,15]\n",
    "        formula2 = ''\n",
    "        inicial = True\n",
    "        for num in hexadecimal:\n",
    "            for casilla in otras_casillas:\n",
    "                u = casilla\n",
    "                if inicial:\n",
    "                    formula2 = self.CaracterenCasilla.P([num,u])\n",
    "                    inicial = False\n",
    "                else:\n",
    "                    formula2 = \"(\" + formula2 + \"O\" + self.CaracterenCasilla.P([num,u]) + \")\"\n",
    "                \n",
    "    def regla3(self):\n",
    "        y = 0\n",
    "        casilla = y\n",
    "        pares = [2,4,6,8,10,12,14]\n",
    "        formula3 = ''\n",
    "        inicial = True\n",
    "        for num in pares:\n",
    "            u = casilla\n",
    "            if inicial:\n",
    "                formula3 = self.CaracterenCasilla.P([num,u])\n",
    "                inicial = False\n",
    "            else:\n",
    "                formula3 = \"(\" + formula3 + \"O\" + self.CaracterenCasilla.P([num,u]) + \")\"\n",
    "                \n",
    "    def regla6(self):\n",
    "        y = 3\n",
    "        casilla = y\n",
    "        primos = [2,3,5,7,11,13]\n",
    "        formula6 = ''\n",
    "        inicial = True\n",
    "        for num in primos:\n",
    "            u = casilla\n",
    "            if inicial:\n",
    "                formula6 = self.CaracterenCasilla.P([num,u])\n",
    "                inicial = False\n",
    "            else:\n",
    "                formula6 = \"(\" + formula6 + \"O\" + self.CaracterenCasilla.P([num,u]) + \")\"\n",
    "\n",
    "                \n",
    "    def regla7(self):\n",
    "        y = 4\n",
    "        casilla = y\n",
    "        compuestos = [4,6,8,9,10,12,14,15]\n",
    "        formula7 = ''\n",
    "        inicial = True\n",
    "        for num in compuestos:\n",
    "            u = casilla\n",
    "            if inicial:\n",
    "                formula7 = self.CaracterenCasilla.P([num,u])\n",
    "                inicial = False\n",
    "            else:\n",
    "                formula7 = \"(\" + formula7 + \"O\" + self.CaracterenCasilla.P([num,u]) + \")\"\n",
    "                \n",
    "    def visualizar(self, I):\n",
    "        fig, axes = plt.subplots()\n",
    "        N = 5\n",
    "        M = 1\n",
    "        fig.set_size_inches(N, M)\n",
    "        step_x = 1. / N\n",
    "        step_y = 1. / M\n",
    "        offset = 0.001\n",
    "        tangulos = []\n",
    "        tangulos.append(patches.Rectangle((0, 0), 1, 1, \\\n",
    "        facecolor='cornsilk', edgecolor='black', linewidth=2))\n",
    "        u = N // 2 if N % 2 == 0 else N // 2 + 1  # Filas par o impar\n",
    "        v = M // 2 if M % 2 == 0 else M // 2 + 1\n",
    "        for i in range(u + 1):\n",
    "            for j in range(v):\n",
    "                # Verificar si la posición está dentro de las primeras 5 celdas\n",
    "                if i * 2 < 5:\n",
    "                    tangulos.append(patches.Rectangle((2 * i * step_x, 2 * j * step_y), \\\n",
    "                                                      step_x - offset, step_y, \\\n",
    "                                                      facecolor='lightslategrey', \\\n",
    "                                                      ec='k', lw=3))\n",
    "                    tangulos.append(patches.Rectangle((step_x + 2 * i * step_x, (2 * j + 1) * step_y), \\\n",
    "                                                      step_x - offset, step_y, \\\n",
    "                                                      facecolor='lightslategrey', \\\n",
    "                                                      ec='k', lw=3))\n",
    "        for t in tangulos:\n",
    "            axes.add_patch(t)\n",
    "        offsetX = 0.065\n",
    "        offsetY = 0.065\n",
    "        for k in I:\n",
    "            X, Y = self.CaracterenCasilla.inv(k)\n",
    "            if I[k]:\n",
    "                # Verificar si la posición está dentro de las primeras 5 celdas\n",
    "                if Y * step_x < 5 * step_x:\n",
    "                    axes.text(Y * step_x + step_x / 2, 0 * step_y + step_y / 2, xt[X], \\\n",
    "                              ha=\"center\", va=\"center\", size=30, c='k')\n",
    "        axes.axis('off')\n",
    "        plt.show()"
   ]
  },
  {
   "cell_type": "markdown",
   "metadata": {},
   "source": [
    "### Decodificando el caracter\n",
    "\n",
    "Ahora podemos incluir un método para visualizar más fácilmente la información que porta cada letra proposicional. Esto es, en nuestro ejemplo en cuestión, nuestro objeto `OenCasilla` representa el cruce de información de que un número se encuentra en un lugar. Entonces, al decodificar una letra proposicional, queremos que nos presente claramente esta información y no un caracter inpronunciable (aunque es precisamente este caracter el que usará la máquina). \n",
    "\n",
    "Para ello podemos usar el siguiente método `escribir`: "
   ]
  },
  {
   "cell_type": "code",
   "execution_count": 5,
   "metadata": {},
   "outputs": [],
   "source": [
    "def escribir(self, literal):\n",
    "    if '-' in literal:\n",
    "        atomo = literal[1:]\n",
    "        neg = ' no'\n",
    "    else:\n",
    "        atomo = literal\n",
    "        neg = ''\n",
    "    x, y  = self.inv(atomo)\n",
    "    return f\"El número {xt[x]}{neg} está en la casilla ({Y[y]})\"\n",
    "    \n",
    "from types import MethodType\n",
    "\n",
    "CaracterenCasilla.escribir = MethodType(escribir, CaracterenCasilla)"
   ]
  },
  {
   "cell_type": "code",
   "execution_count": 6,
   "metadata": {},
   "outputs": [
    {
     "name": "stdout",
     "output_type": "stream",
     "text": [
      "El caracter que codifica es Ĝ\n",
      "\n",
      "Su decodificación es:\n"
     ]
    },
    {
     "data": {
      "text/plain": [
       "'El número C está en la casilla (1)'"
      ]
     },
     "execution_count": 6,
     "metadata": {},
     "output_type": "execute_result"
    }
   ],
   "source": [
    "atomo = CaracterenCasilla.P([12,1])\n",
    "print(f\"El caracter que codifica es {atomo}\")\n",
    "print(\"\\nSu decodificación es:\")\n",
    "CaracterenCasilla.escribir(atomo)"
   ]
  },
  {
   "cell_type": "markdown",
   "metadata": {},
   "source": [
    "Este método también toma en cuenta si el literal es positivo o negativo:"
   ]
  },
  {
   "cell_type": "code",
   "execution_count": 7,
   "metadata": {},
   "outputs": [
    {
     "data": {
      "text/plain": [
       "'El número C no está en la casilla (1)'"
      ]
     },
     "execution_count": 7,
     "metadata": {},
     "output_type": "execute_result"
    }
   ],
   "source": [
    "CaracterenCasilla.escribir( '-' + atomo)"
   ]
  },
  {
   "cell_type": "markdown",
   "metadata": {},
   "source": [
    "# Implementación de restricciones <a class=\"anchor\" id=\"imp\"></a>\n",
    "\n",
    "([Volver al inicio](#inicio))\n",
    "\n",
    "Ahora es necesario crear las reglas que limitarán los valores de verdad para las letras proposicionales. En nuestro problema de ejemplo tenemos tres restricciones:\n",
    "\n",
    "1. Un número sólo está en una casilla.\n",
    "2. No hay más de un número en una casilla.\n",
    "3. Debe haber por lo menos un número en una casilla."
   ]
  },
  {
   "cell_type": "markdown",
   "metadata": {},
   "source": [
    "### REGLA 1\n",
    "\n",
    "La fórmula para representar que Para todo carácter x, si x está en la posición y, entonces no puede estar en ninguna otra posición. \n",
    "\n",
    "$$CenP_{x,y} \\to \\neg\\left(\\bigvee_{(j)\\neq (y)} CenP_{x,j}\\right)$$\n",
    "\n",
    "Esta fórmula se implementa en Python de la siguiente manera:"
   ]
  },
  {
   "cell_type": "code",
   "execution_count": 7,
   "metadata": {},
   "outputs": [
    {
     "name": "stdout",
     "output_type": "stream",
     "text": [
      "--------------------------------------------------PASO 3 CODIFICADA---------------------------------------------------------\n",
      "\n",
      "((((((((((((((((((((((((((((((((((((((((((((((((((((((((((((((((((((((((((((((((Ā>-(((ĐOĠ)Oİ)Oŀ))Y(Đ>-(((ĀOĠ)Oİ)Oŀ)))Y(Ġ>-(((ĀOĐ)Oİ)Oŀ)))Y(İ>-(((ĀOĐ)OĠ)Oŀ)))Y(ŀ>-(((ĀOĐ)OĠ)Oİ)))Y(ā>-(((đOġ)Oı)OŁ)))Y(đ>-(((āOġ)Oı)OŁ)))Y(ġ>-(((āOđ)Oı)OŁ)))Y(ı>-(((āOđ)Oġ)OŁ)))Y(Ł>-(((āOđ)Oġ)Oı)))Y(Ă>-(((ĒOĢ)OĲ)Oł)))Y(Ē>-(((ĂOĢ)OĲ)Oł)))Y(Ģ>-(((ĂOĒ)OĲ)Oł)))Y(Ĳ>-(((ĂOĒ)OĢ)Oł)))Y(ł>-(((ĂOĒ)OĢ)OĲ)))Y(ă>-(((ēOģ)Oĳ)OŃ)))Y(ē>-(((ăOģ)Oĳ)OŃ)))Y(ģ>-(((ăOē)Oĳ)OŃ)))Y(ĳ>-(((ăOē)Oģ)OŃ)))Y(Ń>-(((ăOē)Oģ)Oĳ)))Y(Ą>-(((ĔOĤ)OĴ)Oń)))Y(Ĕ>-(((ĄOĤ)OĴ)Oń)))Y(Ĥ>-(((ĄOĔ)OĴ)Oń)))Y(Ĵ>-(((ĄOĔ)OĤ)Oń)))Y(ń>-(((ĄOĔ)OĤ)OĴ)))Y(ą>-(((ĕOĥ)Oĵ)OŅ)))Y(ĕ>-(((ąOĥ)Oĵ)OŅ)))Y(ĥ>-(((ąOĕ)Oĵ)OŅ)))Y(ĵ>-(((ąOĕ)Oĥ)OŅ)))Y(Ņ>-(((ąOĕ)Oĥ)Oĵ)))Y(Ć>-(((ĖOĦ)OĶ)Oņ)))Y(Ė>-(((ĆOĦ)OĶ)Oņ)))Y(Ħ>-(((ĆOĖ)OĶ)Oņ)))Y(Ķ>-(((ĆOĖ)OĦ)Oņ)))Y(ņ>-(((ĆOĖ)OĦ)OĶ)))Y(ć>-(((ėOħ)Oķ)OŇ)))Y(ė>-(((ćOħ)Oķ)OŇ)))Y(ħ>-(((ćOė)Oķ)OŇ)))Y(ķ>-(((ćOė)Oħ)OŇ)))Y(Ň>-(((ćOė)Oħ)Oķ)))Y(Ĉ>-(((ĘOĨ)Oĸ)Oň)))Y(Ę>-(((ĈOĨ)Oĸ)Oň)))Y(Ĩ>-(((ĈOĘ)Oĸ)Oň)))Y(ĸ>-(((ĈOĘ)OĨ)Oň)))Y(ň>-(((ĈOĘ)OĨ)Oĸ)))Y(ĉ>-(((ęOĩ)OĹ)Oŉ)))Y(ę>-(((ĉOĩ)OĹ)Oŉ)))Y(ĩ>-(((ĉOę)OĹ)Oŉ)))Y(Ĺ>-(((ĉOę)Oĩ)Oŉ)))Y(ŉ>-(((ĉOę)Oĩ)OĹ)))Y(Ċ>-(((ĚOĪ)Oĺ)OŊ)))Y(Ě>-(((ĊOĪ)Oĺ)OŊ)))Y(Ī>-(((ĊOĚ)Oĺ)OŊ)))Y(ĺ>-(((ĊOĚ)OĪ)OŊ)))Y(Ŋ>-(((ĊOĚ)OĪ)Oĺ)))Y(ċ>-(((ěOī)OĻ)Oŋ)))Y(ě>-(((ċOī)OĻ)Oŋ)))Y(ī>-(((ċOě)OĻ)Oŋ)))Y(Ļ>-(((ċOě)Oī)Oŋ)))Y(ŋ>-(((ċOě)Oī)OĻ)))Y(Č>-(((ĜOĬ)Oļ)OŌ)))Y(Ĝ>-(((ČOĬ)Oļ)OŌ)))Y(Ĭ>-(((ČOĜ)Oļ)OŌ)))Y(ļ>-(((ČOĜ)OĬ)OŌ)))Y(Ō>-(((ČOĜ)OĬ)Oļ)))Y(č>-(((ĝOĭ)OĽ)Oō)))Y(ĝ>-(((čOĭ)OĽ)Oō)))Y(ĭ>-(((čOĝ)OĽ)Oō)))Y(Ľ>-(((čOĝ)Oĭ)Oō)))Y(ō>-(((čOĝ)Oĭ)OĽ)))Y(Ď>-(((ĞOĮ)Oľ)OŎ)))Y(Ğ>-(((ĎOĮ)Oľ)OŎ)))Y(Į>-(((ĎOĞ)Oľ)OŎ)))Y(ľ>-(((ĎOĞ)OĮ)OŎ)))Y(Ŏ>-(((ĎOĞ)OĮ)Oľ)))Y(ď>-(((ğOį)OĿ)Oŏ)))Y(ğ>-(((ďOį)OĿ)Oŏ)))Y(į>-(((ďOğ)OĿ)Oŏ)))Y(Ŀ>-(((ďOğ)Oį)Oŏ)))Y(ŏ>-(((ďOğ)Oį)OĿ)))\n",
      "\n"
     ]
    }
   ],
   "source": [
    "\n",
    "\n",
    "formula1 = ''\n",
    "formulaF = ''\n",
    "inicial2 = True\n",
    "from Logica import visualizar_formula\n",
    "\n",
    "for x in X:\n",
    "    for y in Y:\n",
    "        inicial = True\n",
    "        otras_casillas = [(j) for j in Y if (j) != (y)]\n",
    "        for casilla in otras_casillas:\n",
    "            u = casilla\n",
    "            if inicial:\n",
    "                formula1 = CaracterenCasilla.P([x,u])\n",
    "                inicial = False\n",
    "            else:\n",
    "                formula1 = \"(\" + formula1 + \"O\" + CaracterenCasilla.P([x,u]) + \")\"\n",
    "\n",
    "        if inicial2:\n",
    "            formulaF = \"(\" + CaracterenCasilla.P([x,y]) + \">-\" + formula1 + \")\"\n",
    "            inicial2 = False\n",
    "        else:\n",
    "            formulaF = \"(\" + formulaF + \"Y\" +\"(\" + CaracterenCasilla.P([x,y]) + \">-\" + formula1 + \")\" + \")\"\n",
    "\n",
    "        \n",
    "print(\"--------------------------------------------------PASO 3 CODIFICADA---------------------------------------------------------\")\n",
    "print(\"\")\n",
    "print(formulaF)\n",
    "print(\"\")\n",
    "\n",
    "formula1 = formulaF\n"
   ]
  },
  {
   "cell_type": "markdown",
   "metadata": {},
   "source": [
    "Observe que la fórmula resultante es difícil de entender a simple vista, aunque un computador pueda trabajarla fácilmente. Para visualizarla de manera más comprensible y entender el significado del string generado por el código anterior, usaremos la función `visualizar_formula` que se encuentra en la librería `Logica`:"
   ]
  },
  {
   "cell_type": "code",
   "execution_count": 9,
   "metadata": {},
   "outputs": [
    {
     "name": "stdout",
     "output_type": "stream",
     "text": [
      "((((((((((((((((((((((((((((((((((((((((((((((((((((((((((((((((((((((((((((((((El número 0 está en la casilla (0) >  no (((El número 0 está en la casilla (1) O El número 0 está en la casilla (2)) O El número 0 está en la casilla (3)) O El número 0 está en la casilla (4))) Y (El número 0 está en la casilla (1) >  no (((El número 0 está en la casilla (0) O El número 0 está en la casilla (2)) O El número 0 está en la casilla (3)) O El número 0 está en la casilla (4)))) Y (El número 0 está en la casilla (2) >  no (((El número 0 está en la casilla (0) O El número 0 está en la casilla (1)) O El número 0 está en la casilla (3)) O El número 0 está en la casilla (4)))) Y (El número 0 está en la casilla (3) >  no (((El número 0 está en la casilla (0) O El número 0 está en la casilla (1)) O El número 0 está en la casilla (2)) O El número 0 está en la casilla (4)))) Y (El número 0 está en la casilla (4) >  no (((El número 0 está en la casilla (0) O El número 0 está en la casilla (1)) O El número 0 está en la casilla (2)) O El número 0 está en la casilla (3)))) Y (El número 1 está en la casilla (0) >  no (((El número 1 está en la casilla (1) O El número 1 está en la casilla (2)) O El número 1 está en la casilla (3)) O El número 1 está en la casilla (4)))) Y (El número 1 está en la casilla (1) >  no (((El número 1 está en la casilla (0) O El número 1 está en la casilla (2)) O El número 1 está en la casilla (3)) O El número 1 está en la casilla (4)))) Y (El número 1 está en la casilla (2) >  no (((El número 1 está en la casilla (0) O El número 1 está en la casilla (1)) O El número 1 está en la casilla (3)) O El número 1 está en la casilla (4)))) Y (El número 1 está en la casilla (3) >  no (((El número 1 está en la casilla (0) O El número 1 está en la casilla (1)) O El número 1 está en la casilla (2)) O El número 1 está en la casilla (4)))) Y (El número 1 está en la casilla (4) >  no (((El número 1 está en la casilla (0) O El número 1 está en la casilla (1)) O El número 1 está en la casilla (2)) O El número 1 está en la casilla (3)))) Y (El número 2 está en la casilla (0) >  no (((El número 2 está en la casilla (1) O El número 2 está en la casilla (2)) O El número 2 está en la casilla (3)) O El número 2 está en la casilla (4)))) Y (El número 2 está en la casilla (1) >  no (((El número 2 está en la casilla (0) O El número 2 está en la casilla (2)) O El número 2 está en la casilla (3)) O El número 2 está en la casilla (4)))) Y (El número 2 está en la casilla (2) >  no (((El número 2 está en la casilla (0) O El número 2 está en la casilla (1)) O El número 2 está en la casilla (3)) O El número 2 está en la casilla (4)))) Y (El número 2 está en la casilla (3) >  no (((El número 2 está en la casilla (0) O El número 2 está en la casilla (1)) O El número 2 está en la casilla (2)) O El número 2 está en la casilla (4)))) Y (El número 2 está en la casilla (4) >  no (((El número 2 está en la casilla (0) O El número 2 está en la casilla (1)) O El número 2 está en la casilla (2)) O El número 2 está en la casilla (3)))) Y (El número 3 está en la casilla (0) >  no (((El número 3 está en la casilla (1) O El número 3 está en la casilla (2)) O El número 3 está en la casilla (3)) O El número 3 está en la casilla (4)))) Y (El número 3 está en la casilla (1) >  no (((El número 3 está en la casilla (0) O El número 3 está en la casilla (2)) O El número 3 está en la casilla (3)) O El número 3 está en la casilla (4)))) Y (El número 3 está en la casilla (2) >  no (((El número 3 está en la casilla (0) O El número 3 está en la casilla (1)) O El número 3 está en la casilla (3)) O El número 3 está en la casilla (4)))) Y (El número 3 está en la casilla (3) >  no (((El número 3 está en la casilla (0) O El número 3 está en la casilla (1)) O El número 3 está en la casilla (2)) O El número 3 está en la casilla (4)))) Y (El número 3 está en la casilla (4) >  no (((El número 3 está en la casilla (0) O El número 3 está en la casilla (1)) O El número 3 está en la casilla (2)) O El número 3 está en la casilla (3)))) Y (El número 4 está en la casilla (0) >  no (((El número 4 está en la casilla (1) O El número 4 está en la casilla (2)) O El número 4 está en la casilla (3)) O El número 4 está en la casilla (4)))) Y (El número 4 está en la casilla (1) >  no (((El número 4 está en la casilla (0) O El número 4 está en la casilla (2)) O El número 4 está en la casilla (3)) O El número 4 está en la casilla (4)))) Y (El número 4 está en la casilla (2) >  no (((El número 4 está en la casilla (0) O El número 4 está en la casilla (1)) O El número 4 está en la casilla (3)) O El número 4 está en la casilla (4)))) Y (El número 4 está en la casilla (3) >  no (((El número 4 está en la casilla (0) O El número 4 está en la casilla (1)) O El número 4 está en la casilla (2)) O El número 4 está en la casilla (4)))) Y (El número 4 está en la casilla (4) >  no (((El número 4 está en la casilla (0) O El número 4 está en la casilla (1)) O El número 4 está en la casilla (2)) O El número 4 está en la casilla (3)))) Y (El número 5 está en la casilla (0) >  no (((El número 5 está en la casilla (1) O El número 5 está en la casilla (2)) O El número 5 está en la casilla (3)) O El número 5 está en la casilla (4)))) Y (El número 5 está en la casilla (1) >  no (((El número 5 está en la casilla (0) O El número 5 está en la casilla (2)) O El número 5 está en la casilla (3)) O El número 5 está en la casilla (4)))) Y (El número 5 está en la casilla (2) >  no (((El número 5 está en la casilla (0) O El número 5 está en la casilla (1)) O El número 5 está en la casilla (3)) O El número 5 está en la casilla (4)))) Y (El número 5 está en la casilla (3) >  no (((El número 5 está en la casilla (0) O El número 5 está en la casilla (1)) O El número 5 está en la casilla (2)) O El número 5 está en la casilla (4)))) Y (El número 5 está en la casilla (4) >  no (((El número 5 está en la casilla (0) O El número 5 está en la casilla (1)) O El número 5 está en la casilla (2)) O El número 5 está en la casilla (3)))) Y (El número 6 está en la casilla (0) >  no (((El número 6 está en la casilla (1) O El número 6 está en la casilla (2)) O El número 6 está en la casilla (3)) O El número 6 está en la casilla (4)))) Y (El número 6 está en la casilla (1) >  no (((El número 6 está en la casilla (0) O El número 6 está en la casilla (2)) O El número 6 está en la casilla (3)) O El número 6 está en la casilla (4)))) Y (El número 6 está en la casilla (2) >  no (((El número 6 está en la casilla (0) O El número 6 está en la casilla (1)) O El número 6 está en la casilla (3)) O El número 6 está en la casilla (4)))) Y (El número 6 está en la casilla (3) >  no (((El número 6 está en la casilla (0) O El número 6 está en la casilla (1)) O El número 6 está en la casilla (2)) O El número 6 está en la casilla (4)))) Y (El número 6 está en la casilla (4) >  no (((El número 6 está en la casilla (0) O El número 6 está en la casilla (1)) O El número 6 está en la casilla (2)) O El número 6 está en la casilla (3)))) Y (El número 7 está en la casilla (0) >  no (((El número 7 está en la casilla (1) O El número 7 está en la casilla (2)) O El número 7 está en la casilla (3)) O El número 7 está en la casilla (4)))) Y (El número 7 está en la casilla (1) >  no (((El número 7 está en la casilla (0) O El número 7 está en la casilla (2)) O El número 7 está en la casilla (3)) O El número 7 está en la casilla (4)))) Y (El número 7 está en la casilla (2) >  no (((El número 7 está en la casilla (0) O El número 7 está en la casilla (1)) O El número 7 está en la casilla (3)) O El número 7 está en la casilla (4)))) Y (El número 7 está en la casilla (3) >  no (((El número 7 está en la casilla (0) O El número 7 está en la casilla (1)) O El número 7 está en la casilla (2)) O El número 7 está en la casilla (4)))) Y (El número 7 está en la casilla (4) >  no (((El número 7 está en la casilla (0) O El número 7 está en la casilla (1)) O El número 7 está en la casilla (2)) O El número 7 está en la casilla (3)))) Y (El número 8 está en la casilla (0) >  no (((El número 8 está en la casilla (1) O El número 8 está en la casilla (2)) O El número 8 está en la casilla (3)) O El número 8 está en la casilla (4)))) Y (El número 8 está en la casilla (1) >  no (((El número 8 está en la casilla (0) O El número 8 está en la casilla (2)) O El número 8 está en la casilla (3)) O El número 8 está en la casilla (4)))) Y (El número 8 está en la casilla (2) >  no (((El número 8 está en la casilla (0) O El número 8 está en la casilla (1)) O El número 8 está en la casilla (3)) O El número 8 está en la casilla (4)))) Y (El número 8 está en la casilla (3) >  no (((El número 8 está en la casilla (0) O El número 8 está en la casilla (1)) O El número 8 está en la casilla (2)) O El número 8 está en la casilla (4)))) Y (El número 8 está en la casilla (4) >  no (((El número 8 está en la casilla (0) O El número 8 está en la casilla (1)) O El número 8 está en la casilla (2)) O El número 8 está en la casilla (3)))) Y (El número 9 está en la casilla (0) >  no (((El número 9 está en la casilla (1) O El número 9 está en la casilla (2)) O El número 9 está en la casilla (3)) O El número 9 está en la casilla (4)))) Y (El número 9 está en la casilla (1) >  no (((El número 9 está en la casilla (0) O El número 9 está en la casilla (2)) O El número 9 está en la casilla (3)) O El número 9 está en la casilla (4)))) Y (El número 9 está en la casilla (2) >  no (((El número 9 está en la casilla (0) O El número 9 está en la casilla (1)) O El número 9 está en la casilla (3)) O El número 9 está en la casilla (4)))) Y (El número 9 está en la casilla (3) >  no (((El número 9 está en la casilla (0) O El número 9 está en la casilla (1)) O El número 9 está en la casilla (2)) O El número 9 está en la casilla (4)))) Y (El número 9 está en la casilla (4) >  no (((El número 9 está en la casilla (0) O El número 9 está en la casilla (1)) O El número 9 está en la casilla (2)) O El número 9 está en la casilla (3)))) Y (El número A está en la casilla (0) >  no (((El número A está en la casilla (1) O El número A está en la casilla (2)) O El número A está en la casilla (3)) O El número A está en la casilla (4)))) Y (El número A está en la casilla (1) >  no (((El número A está en la casilla (0) O El número A está en la casilla (2)) O El número A está en la casilla (3)) O El número A está en la casilla (4)))) Y (El número A está en la casilla (2) >  no (((El número A está en la casilla (0) O El número A está en la casilla (1)) O El número A está en la casilla (3)) O El número A está en la casilla (4)))) Y (El número A está en la casilla (3) >  no (((El número A está en la casilla (0) O El número A está en la casilla (1)) O El número A está en la casilla (2)) O El número A está en la casilla (4)))) Y (El número A está en la casilla (4) >  no (((El número A está en la casilla (0) O El número A está en la casilla (1)) O El número A está en la casilla (2)) O El número A está en la casilla (3)))) Y (El número B está en la casilla (0) >  no (((El número B está en la casilla (1) O El número B está en la casilla (2)) O El número B está en la casilla (3)) O El número B está en la casilla (4)))) Y (El número B está en la casilla (1) >  no (((El número B está en la casilla (0) O El número B está en la casilla (2)) O El número B está en la casilla (3)) O El número B está en la casilla (4)))) Y (El número B está en la casilla (2) >  no (((El número B está en la casilla (0) O El número B está en la casilla (1)) O El número B está en la casilla (3)) O El número B está en la casilla (4)))) Y (El número B está en la casilla (3) >  no (((El número B está en la casilla (0) O El número B está en la casilla (1)) O El número B está en la casilla (2)) O El número B está en la casilla (4)))) Y (El número B está en la casilla (4) >  no (((El número B está en la casilla (0) O El número B está en la casilla (1)) O El número B está en la casilla (2)) O El número B está en la casilla (3)))) Y (El número C está en la casilla (0) >  no (((El número C está en la casilla (1) O El número C está en la casilla (2)) O El número C está en la casilla (3)) O El número C está en la casilla (4)))) Y (El número C está en la casilla (1) >  no (((El número C está en la casilla (0) O El número C está en la casilla (2)) O El número C está en la casilla (3)) O El número C está en la casilla (4)))) Y (El número C está en la casilla (2) >  no (((El número C está en la casilla (0) O El número C está en la casilla (1)) O El número C está en la casilla (3)) O El número C está en la casilla (4)))) Y (El número C está en la casilla (3) >  no (((El número C está en la casilla (0) O El número C está en la casilla (1)) O El número C está en la casilla (2)) O El número C está en la casilla (4)))) Y (El número C está en la casilla (4) >  no (((El número C está en la casilla (0) O El número C está en la casilla (1)) O El número C está en la casilla (2)) O El número C está en la casilla (3)))) Y (El número D está en la casilla (0) >  no (((El número D está en la casilla (1) O El número D está en la casilla (2)) O El número D está en la casilla (3)) O El número D está en la casilla (4)))) Y (El número D está en la casilla (1) >  no (((El número D está en la casilla (0) O El número D está en la casilla (2)) O El número D está en la casilla (3)) O El número D está en la casilla (4)))) Y (El número D está en la casilla (2) >  no (((El número D está en la casilla (0) O El número D está en la casilla (1)) O El número D está en la casilla (3)) O El número D está en la casilla (4)))) Y (El número D está en la casilla (3) >  no (((El número D está en la casilla (0) O El número D está en la casilla (1)) O El número D está en la casilla (2)) O El número D está en la casilla (4)))) Y (El número D está en la casilla (4) >  no (((El número D está en la casilla (0) O El número D está en la casilla (1)) O El número D está en la casilla (2)) O El número D está en la casilla (3)))) Y (El número E está en la casilla (0) >  no (((El número E está en la casilla (1) O El número E está en la casilla (2)) O El número E está en la casilla (3)) O El número E está en la casilla (4)))) Y (El número E está en la casilla (1) >  no (((El número E está en la casilla (0) O El número E está en la casilla (2)) O El número E está en la casilla (3)) O El número E está en la casilla (4)))) Y (El número E está en la casilla (2) >  no (((El número E está en la casilla (0) O El número E está en la casilla (1)) O El número E está en la casilla (3)) O El número E está en la casilla (4)))) Y (El número E está en la casilla (3) >  no (((El número E está en la casilla (0) O El número E está en la casilla (1)) O El número E está en la casilla (2)) O El número E está en la casilla (4)))) Y (El número E está en la casilla (4) >  no (((El número E está en la casilla (0) O El número E está en la casilla (1)) O El número E está en la casilla (2)) O El número E está en la casilla (3)))) Y (El número F está en la casilla (0) >  no (((El número F está en la casilla (1) O El número F está en la casilla (2)) O El número F está en la casilla (3)) O El número F está en la casilla (4)))) Y (El número F está en la casilla (1) >  no (((El número F está en la casilla (0) O El número F está en la casilla (2)) O El número F está en la casilla (3)) O El número F está en la casilla (4)))) Y (El número F está en la casilla (2) >  no (((El número F está en la casilla (0) O El número F está en la casilla (1)) O El número F está en la casilla (3)) O El número F está en la casilla (4)))) Y (El número F está en la casilla (3) >  no (((El número F está en la casilla (0) O El número F está en la casilla (1)) O El número F está en la casilla (2)) O El número F está en la casilla (4)))) Y (El número F está en la casilla (4) >  no (((El número F está en la casilla (0) O El número F está en la casilla (1)) O El número F está en la casilla (2)) O El número F está en la casilla (3))))\n"
     ]
    }
   ],
   "source": [
    "from Logica import visualizar_formula\n",
    "\n",
    "print(visualizar_formula(formula1, CaracterenCasilla))"
   ]
  },
  {
   "cell_type": "markdown",
   "metadata": {},
   "source": [
    "### REGLA 2\n",
    "\n",
    "Existe un carácter x en la posición y, tal que x∈Letras={A,B,C,D,E,F}⊆Hexadecimales. \n",
    "\n",
    "$$CenP_{x,y} \\to \\neg\\left(\\bigvee_{n€Letras} CenP_{n,y}\\right)$$\n",
    "\n",
    "Esta fórmula se implementa en Python de la siguiente manera:\n"
   ]
  },
  {
   "cell_type": "code",
   "execution_count": 8,
   "metadata": {},
   "outputs": [
    {
     "name": "stdout",
     "output_type": "stream",
     "text": [
      "(((((((((((((((((((ěOī)OĻ)Oŋ)OĜ)OĬ)Oļ)OŌ)Oĝ)Oĭ)OĽ)Oō)OĞ)OĮ)Oľ)OŎ)Oğ)Oį)OĿ)Oŏ)\n"
     ]
    }
   ],
   "source": [
    "y = 0\n",
    "casilla = (y)\n",
    "otras_casillas = [(j) for j in Y if (j) != (y)]\n",
    "hexadecimal = [11,12,13,14,15]\n",
    "formula2 = ''\n",
    "inicial = True\n",
    "for num in hexadecimal:\n",
    "    for casilla in otras_casillas:\n",
    "        u = casilla\n",
    "        if inicial:\n",
    "            formula2 = CaracterenCasilla.P([num,u])\n",
    "            inicial = False\n",
    "        else:\n",
    "            formula2 = \"(\" + formula2 + \"O\" + CaracterenCasilla.P([num,u]) + \")\"\n",
    "\n",
    "\n",
    "print(formula2)"
   ]
  },
  {
   "cell_type": "markdown",
   "metadata": {},
   "source": [
    "Observe que la fórmula resultante es difícil de entender a simple vista, aunque un computador pueda trabajarla fácilmente. Para visualizarla de manera más comprensible y entender el significado del string generado por el código anterior, usaremos la función `visualizar_formula` que se encuentra en la librería `Logica`:"
   ]
  },
  {
   "cell_type": "code",
   "execution_count": 11,
   "metadata": {},
   "outputs": [
    {
     "name": "stdout",
     "output_type": "stream",
     "text": [
      "(((((((((((((((((((El número B está en la casilla (1) O El número B está en la casilla (2)) O El número B está en la casilla (3)) O El número B está en la casilla (4)) O El número C está en la casilla (1)) O El número C está en la casilla (2)) O El número C está en la casilla (3)) O El número C está en la casilla (4)) O El número D está en la casilla (1)) O El número D está en la casilla (2)) O El número D está en la casilla (3)) O El número D está en la casilla (4)) O El número E está en la casilla (1)) O El número E está en la casilla (2)) O El número E está en la casilla (3)) O El número E está en la casilla (4)) O El número F está en la casilla (1)) O El número F está en la casilla (2)) O El número F está en la casilla (3)) O El número F está en la casilla (4))\n"
     ]
    }
   ],
   "source": [
    "from Logica import visualizar_formula\n",
    "\n",
    "print(visualizar_formula(formula2, CaracterenCasilla))"
   ]
  },
  {
   "cell_type": "markdown",
   "metadata": {},
   "source": [
    "### REGLA 3\n",
    "\n",
    "Para todo carácter x, si x está en la posición 0, entonces x∈Pares={0,2,4,6,8,A,C,E}.\n",
    "\n",
    "$$CenP_{x,0} \\to \\left(\\bigwedge_{n€Pares} CenP_{n,0}\\right)$$\n",
    "\n",
    "Esta fórmula se implementa en Python de la siguiente manera:"
   ]
  },
  {
   "cell_type": "code",
   "execution_count": 9,
   "metadata": {},
   "outputs": [
    {
     "name": "stdout",
     "output_type": "stream",
     "text": [
      "((((((ĂOĄ)OĆ)OĈ)OĊ)OČ)OĎ)\n"
     ]
    }
   ],
   "source": [
    "y = 0\n",
    "casilla = y\n",
    "pares = [2,4,6,8,10,12,14]\n",
    "formula3 = ''\n",
    "inicial = True\n",
    "for num in pares:\n",
    "    u = casilla\n",
    "    if inicial:\n",
    "        formula3 = CaracterenCasilla.P([num,u])\n",
    "        inicial = False\n",
    "    else:\n",
    "        formula3 = \"(\" + formula3 + \"O\" + CaracterenCasilla.P([num,u]) + \")\"\n",
    "\n",
    "\n",
    "print(formula3)"
   ]
  },
  {
   "cell_type": "markdown",
   "metadata": {},
   "source": [
    "Observe que la fórmula resultante es difícil de entender a simple vista, aunque un computador pueda trabajarla fácilmente. Para visualizarla de manera más comprensible y entender el significado del string generado por el código anterior, usaremos la función `visualizar_formula` que se encuentra en la librería `Logica`:"
   ]
  },
  {
   "cell_type": "code",
   "execution_count": 13,
   "metadata": {},
   "outputs": [
    {
     "name": "stdout",
     "output_type": "stream",
     "text": [
      "((((((El número 2 está en la casilla (0) O El número 4 está en la casilla (0)) O El número 6 está en la casilla (0)) O El número 8 está en la casilla (0)) O El número A está en la casilla (0)) O El número C está en la casilla (0)) O El número E está en la casilla (0))\n"
     ]
    }
   ],
   "source": [
    "from Logica import visualizar_formula\n",
    "\n",
    "print(visualizar_formula(formula3, CaracterenCasilla))"
   ]
  },
  {
   "cell_type": "markdown",
   "metadata": {},
   "source": [
    "### REGLA 4\n",
    "\n",
    "Para todo carácter x, si x está en la posición 2, entonces x∈Multiplos3={1,3,6,9,C,F}.\n",
    "\n",
    "$$CenP_{x,1} \\to \\left(\\bigwedge_{n€Multiplos} CenP_{n,1}\\right)$$\n",
    "\n",
    "Esta fórmula se implementa en Python de la siguiente manera:"
   ]
  },
  {
   "cell_type": "code",
   "execution_count": 10,
   "metadata": {},
   "outputs": [
    {
     "name": "stdout",
     "output_type": "stream",
     "text": [
      "(((((đOē)OĖ)Oę)OĜ)Oğ)\n"
     ]
    }
   ],
   "source": [
    "y = 1\n",
    "casilla = y\n",
    "multiplos = [1,3,6,9,12,15]\n",
    "formula4 = ''\n",
    "inicial = True\n",
    "for num in multiplos:\n",
    "    u = casilla\n",
    "    if inicial:\n",
    "        formula4 = CaracterenCasilla.P([num,u])\n",
    "        inicial = False\n",
    "    else:\n",
    "        formula4 = \"(\" + formula4 + \"O\" + CaracterenCasilla.P([num,u]) + \")\"\n",
    "\n",
    "\n",
    "print(formula4)"
   ]
  },
  {
   "cell_type": "markdown",
   "metadata": {},
   "source": [
    "Observe que la fórmula resultante es difícil de entender a simple vista, aunque un computador pueda trabajarla fácilmente. Para visualizarla de manera más comprensible y entender el significado del string generado por el código anterior, usaremos la función `visualizar_formula` que se encuentra en la librería `Logica`:"
   ]
  },
  {
   "cell_type": "code",
   "execution_count": 15,
   "metadata": {},
   "outputs": [
    {
     "name": "stdout",
     "output_type": "stream",
     "text": [
      "(((((El número 1 está en la casilla (1) O El número 3 está en la casilla (1)) O El número 6 está en la casilla (1)) O El número 9 está en la casilla (1)) O El número C está en la casilla (1)) O El número F está en la casilla (1))\n"
     ]
    }
   ],
   "source": [
    "from Logica import visualizar_formula\n",
    "\n",
    "print(visualizar_formula(formula4, CaracterenCasilla))"
   ]
  },
  {
   "cell_type": "markdown",
   "metadata": {},
   "source": [
    "### REGLA 5\n",
    "\n",
    "Para todo carácter x, si x está en la posición 2, entonces x∈Impares={1,3,5,7,9,11,13,15}.\n",
    "\n",
    "$$CenP_{x,2} \\to \\left(\\bigwedge_{n€Impares} CenP_{n,2}\\right)$$\n",
    "\n",
    "Esta fórmula se implementa en Python de la siguiente manera:"
   ]
  },
  {
   "cell_type": "code",
   "execution_count": 11,
   "metadata": {},
   "outputs": [
    {
     "name": "stdout",
     "output_type": "stream",
     "text": [
      "(((((((ġOģ)Oĥ)Oħ)Oĩ)Oī)Oĭ)Oį)\n"
     ]
    }
   ],
   "source": [
    "y = 2\n",
    "casilla = y\n",
    "impares = [1,3,5,7,9,11,13,15]\n",
    "formula5 = ''\n",
    "inicial = True\n",
    "for num in impares:\n",
    "    u = casilla\n",
    "    if inicial:\n",
    "        formula5 = CaracterenCasilla.P([num,u])\n",
    "        inicial = False\n",
    "    else:\n",
    "        formula5 = \"(\" + formula5 + \"O\" + CaracterenCasilla.P([num,u]) + \")\"\n",
    "\n",
    "\n",
    "print(formula5)"
   ]
  },
  {
   "cell_type": "markdown",
   "metadata": {},
   "source": [
    "Observe que la fórmula resultante es difícil de entender a simple vista, aunque un computador pueda trabajarla fácilmente. Para visualizarla de manera más comprensible y entender el significado del string generado por el código anterior, usaremos la función `visualizar_formula` que se encuentra en la librería `Logica`:"
   ]
  },
  {
   "cell_type": "code",
   "execution_count": 17,
   "metadata": {},
   "outputs": [
    {
     "name": "stdout",
     "output_type": "stream",
     "text": [
      "(((((((El número 1 está en la casilla (2) O El número 3 está en la casilla (2)) O El número 5 está en la casilla (2)) O El número 7 está en la casilla (2)) O El número 9 está en la casilla (2)) O El número B está en la casilla (2)) O El número D está en la casilla (2)) O El número F está en la casilla (2))\n"
     ]
    }
   ],
   "source": [
    "from Logica import visualizar_formula\n",
    "\n",
    "print(visualizar_formula(formula5, CaracterenCasilla))"
   ]
  },
  {
   "cell_type": "markdown",
   "metadata": {},
   "source": [
    "### REGLA 6\n",
    "\n",
    "Para todo carácter x, si x está en la posición 3, entonces x∈Primos={2,3,5,7,B,D}.\n",
    "\n",
    "$$CenP_{(x,3)} \\to \\left(\\bigwedge_{n€Primos} CenP_{(n,3)}\\right)$$\n",
    "\n",
    "Esta fórmula se implementa en Python de la siguiente manera:"
   ]
  },
  {
   "cell_type": "code",
   "execution_count": 12,
   "metadata": {},
   "outputs": [
    {
     "name": "stdout",
     "output_type": "stream",
     "text": [
      "(((((ĲOĳ)Oĵ)Oķ)OĻ)OĽ)\n"
     ]
    }
   ],
   "source": [
    "y = 3\n",
    "casilla = y\n",
    "primos = [2,3,5,7,11,13]\n",
    "formula6 = ''\n",
    "inicial = True\n",
    "for num in primos:\n",
    "    u = casilla\n",
    "    if inicial:\n",
    "        formula6 = CaracterenCasilla.P([num,u])\n",
    "        inicial = False\n",
    "    else:\n",
    "        formula6 = \"(\" + formula6 + \"O\" + CaracterenCasilla.P([num,u]) + \")\"\n",
    "\n",
    "\n",
    "print(formula6)"
   ]
  },
  {
   "cell_type": "markdown",
   "metadata": {},
   "source": [
    "Observe que la fórmula resultante es difícil de entender a simple vista, aunque un computador pueda trabajarla fácilmente. Para visualizarla de manera más comprensible y entender el significado del string generado por el código anterior, usaremos la función `visualizar_formula` que se encuentra en la librería `Logica`:"
   ]
  },
  {
   "cell_type": "code",
   "execution_count": 19,
   "metadata": {},
   "outputs": [
    {
     "name": "stdout",
     "output_type": "stream",
     "text": [
      "(((((El número 2 está en la casilla (3) O El número 3 está en la casilla (3)) O El número 5 está en la casilla (3)) O El número 7 está en la casilla (3)) O El número B está en la casilla (3)) O El número D está en la casilla (3))\n"
     ]
    }
   ],
   "source": [
    "from Logica import visualizar_formula\n",
    "\n",
    "print(visualizar_formula(formula6, CaracterenCasilla))"
   ]
  },
  {
   "cell_type": "markdown",
   "metadata": {},
   "source": [
    "### REGLA 7\n",
    "\n",
    "Para todo carácter x, si x está en la posición 4, entonces x∈Compuestos={4,6,8,9,A,C,E,F}.\n",
    "\n",
    "$$CenP_{x,4} \\to \\left(\\bigwedge_{n€Compuestos} CenP_{n,4}\\right)$$\n",
    "\n",
    "Esta fórmula se implementa en Python de la siguiente manera:"
   ]
  },
  {
   "cell_type": "code",
   "execution_count": 13,
   "metadata": {},
   "outputs": [
    {
     "name": "stdout",
     "output_type": "stream",
     "text": [
      "(((((((ńOņ)Oň)Oŉ)OŊ)OŌ)OŎ)Oŏ)\n"
     ]
    }
   ],
   "source": [
    "y = 4\n",
    "casilla = y\n",
    "compuestos = [4,6,8,9,10,12,14,15]\n",
    "formula7 = ''\n",
    "inicial = True\n",
    "for num in compuestos:\n",
    "    u = casilla\n",
    "    if inicial:\n",
    "        formula7 = CaracterenCasilla.P([num,u])\n",
    "        inicial = False\n",
    "    else:\n",
    "        formula7 = \"(\" + formula7 + \"O\" + CaracterenCasilla.P([num,u]) + \")\"\n",
    "\n",
    "\n",
    "print(formula7)"
   ]
  },
  {
   "cell_type": "markdown",
   "metadata": {},
   "source": [
    "Observe que la fórmula resultante es difícil de entender a simple vista, aunque un computador pueda trabajarla fácilmente. Para visualizarla de manera más comprensible y entender el significado del string generado por el código anterior, usaremos la función `visualizar_formula` que se encuentra en la librería `Logica`:"
   ]
  },
  {
   "cell_type": "code",
   "execution_count": 21,
   "metadata": {},
   "outputs": [
    {
     "name": "stdout",
     "output_type": "stream",
     "text": [
      "(((((((El número 4 está en la casilla (4) O El número 6 está en la casilla (4)) O El número 8 está en la casilla (4)) O El número 9 está en la casilla (4)) O El número A está en la casilla (4)) O El número C está en la casilla (4)) O El número E está en la casilla (4)) O El número F está en la casilla (4))\n"
     ]
    }
   ],
   "source": [
    "from Logica import visualizar_formula\n",
    "\n",
    "print(visualizar_formula(formula7, CaracterenCasilla))"
   ]
  },
  {
   "cell_type": "markdown",
   "metadata": {},
   "source": [
    "### REGLA 8\n",
    "\n",
    "Para todo carácter x, si x está en la posición y, entonces no puede haber otro x que este en la posicion y .\n",
    "\n",
    "$$CenP_{x,y} \\to \\left(\\bigvee_{(n)\\neq (x)} CenP_{n,y}\\right)$$\n",
    "\n",
    "Esta fórmula se implementa en Python de la siguiente manera:"
   ]
  },
  {
   "cell_type": "code",
   "execution_count": 14,
   "metadata": {},
   "outputs": [
    {
     "name": "stdout",
     "output_type": "stream",
     "text": [
      "((((((((((((((((((((((((((((((((((((((((((((((((((((((((((((((((((((((((((((((((Ā>-((((((((((((((āOĂ)Oă)OĄ)Oą)OĆ)Oć)OĈ)Oĉ)OĊ)Oċ)OČ)Oč)OĎ)Oď))Y(Đ>-((((((((((((((đOĒ)Oē)OĔ)Oĕ)OĖ)Oė)OĘ)Oę)OĚ)Oě)OĜ)Oĝ)OĞ)Oğ)))Y(Ġ>-((((((((((((((ġOĢ)Oģ)OĤ)Oĥ)OĦ)Oħ)OĨ)Oĩ)OĪ)Oī)OĬ)Oĭ)OĮ)Oį)))Y(İ>-((((((((((((((ıOĲ)Oĳ)OĴ)Oĵ)OĶ)Oķ)Oĸ)OĹ)Oĺ)OĻ)Oļ)OĽ)Oľ)OĿ)))Y(ŀ>-((((((((((((((ŁOł)OŃ)Oń)OŅ)Oņ)OŇ)Oň)Oŉ)OŊ)Oŋ)OŌ)Oō)OŎ)Oŏ)))Y(ā>-((((((((((((((ĀOĂ)Oă)OĄ)Oą)OĆ)Oć)OĈ)Oĉ)OĊ)Oċ)OČ)Oč)OĎ)Oď)))Y(đ>-((((((((((((((ĐOĒ)Oē)OĔ)Oĕ)OĖ)Oė)OĘ)Oę)OĚ)Oě)OĜ)Oĝ)OĞ)Oğ)))Y(ġ>-((((((((((((((ĠOĢ)Oģ)OĤ)Oĥ)OĦ)Oħ)OĨ)Oĩ)OĪ)Oī)OĬ)Oĭ)OĮ)Oį)))Y(ı>-((((((((((((((İOĲ)Oĳ)OĴ)Oĵ)OĶ)Oķ)Oĸ)OĹ)Oĺ)OĻ)Oļ)OĽ)Oľ)OĿ)))Y(Ł>-((((((((((((((ŀOł)OŃ)Oń)OŅ)Oņ)OŇ)Oň)Oŉ)OŊ)Oŋ)OŌ)Oō)OŎ)Oŏ)))Y(Ă>-((((((((((((((ĀOā)Oă)OĄ)Oą)OĆ)Oć)OĈ)Oĉ)OĊ)Oċ)OČ)Oč)OĎ)Oď)))Y(Ē>-((((((((((((((ĐOđ)Oē)OĔ)Oĕ)OĖ)Oė)OĘ)Oę)OĚ)Oě)OĜ)Oĝ)OĞ)Oğ)))Y(Ģ>-((((((((((((((ĠOġ)Oģ)OĤ)Oĥ)OĦ)Oħ)OĨ)Oĩ)OĪ)Oī)OĬ)Oĭ)OĮ)Oį)))Y(Ĳ>-((((((((((((((İOı)Oĳ)OĴ)Oĵ)OĶ)Oķ)Oĸ)OĹ)Oĺ)OĻ)Oļ)OĽ)Oľ)OĿ)))Y(ł>-((((((((((((((ŀOŁ)OŃ)Oń)OŅ)Oņ)OŇ)Oň)Oŉ)OŊ)Oŋ)OŌ)Oō)OŎ)Oŏ)))Y(ă>-((((((((((((((ĀOā)OĂ)OĄ)Oą)OĆ)Oć)OĈ)Oĉ)OĊ)Oċ)OČ)Oč)OĎ)Oď)))Y(ē>-((((((((((((((ĐOđ)OĒ)OĔ)Oĕ)OĖ)Oė)OĘ)Oę)OĚ)Oě)OĜ)Oĝ)OĞ)Oğ)))Y(ģ>-((((((((((((((ĠOġ)OĢ)OĤ)Oĥ)OĦ)Oħ)OĨ)Oĩ)OĪ)Oī)OĬ)Oĭ)OĮ)Oį)))Y(ĳ>-((((((((((((((İOı)OĲ)OĴ)Oĵ)OĶ)Oķ)Oĸ)OĹ)Oĺ)OĻ)Oļ)OĽ)Oľ)OĿ)))Y(Ń>-((((((((((((((ŀOŁ)Oł)Oń)OŅ)Oņ)OŇ)Oň)Oŉ)OŊ)Oŋ)OŌ)Oō)OŎ)Oŏ)))Y(Ą>-((((((((((((((ĀOā)OĂ)Oă)Oą)OĆ)Oć)OĈ)Oĉ)OĊ)Oċ)OČ)Oč)OĎ)Oď)))Y(Ĕ>-((((((((((((((ĐOđ)OĒ)Oē)Oĕ)OĖ)Oė)OĘ)Oę)OĚ)Oě)OĜ)Oĝ)OĞ)Oğ)))Y(Ĥ>-((((((((((((((ĠOġ)OĢ)Oģ)Oĥ)OĦ)Oħ)OĨ)Oĩ)OĪ)Oī)OĬ)Oĭ)OĮ)Oį)))Y(Ĵ>-((((((((((((((İOı)OĲ)Oĳ)Oĵ)OĶ)Oķ)Oĸ)OĹ)Oĺ)OĻ)Oļ)OĽ)Oľ)OĿ)))Y(ń>-((((((((((((((ŀOŁ)Oł)OŃ)OŅ)Oņ)OŇ)Oň)Oŉ)OŊ)Oŋ)OŌ)Oō)OŎ)Oŏ)))Y(ą>-((((((((((((((ĀOā)OĂ)Oă)OĄ)OĆ)Oć)OĈ)Oĉ)OĊ)Oċ)OČ)Oč)OĎ)Oď)))Y(ĕ>-((((((((((((((ĐOđ)OĒ)Oē)OĔ)OĖ)Oė)OĘ)Oę)OĚ)Oě)OĜ)Oĝ)OĞ)Oğ)))Y(ĥ>-((((((((((((((ĠOġ)OĢ)Oģ)OĤ)OĦ)Oħ)OĨ)Oĩ)OĪ)Oī)OĬ)Oĭ)OĮ)Oį)))Y(ĵ>-((((((((((((((İOı)OĲ)Oĳ)OĴ)OĶ)Oķ)Oĸ)OĹ)Oĺ)OĻ)Oļ)OĽ)Oľ)OĿ)))Y(Ņ>-((((((((((((((ŀOŁ)Oł)OŃ)Oń)Oņ)OŇ)Oň)Oŉ)OŊ)Oŋ)OŌ)Oō)OŎ)Oŏ)))Y(Ć>-((((((((((((((ĀOā)OĂ)Oă)OĄ)Oą)Oć)OĈ)Oĉ)OĊ)Oċ)OČ)Oč)OĎ)Oď)))Y(Ė>-((((((((((((((ĐOđ)OĒ)Oē)OĔ)Oĕ)Oė)OĘ)Oę)OĚ)Oě)OĜ)Oĝ)OĞ)Oğ)))Y(Ħ>-((((((((((((((ĠOġ)OĢ)Oģ)OĤ)Oĥ)Oħ)OĨ)Oĩ)OĪ)Oī)OĬ)Oĭ)OĮ)Oį)))Y(Ķ>-((((((((((((((İOı)OĲ)Oĳ)OĴ)Oĵ)Oķ)Oĸ)OĹ)Oĺ)OĻ)Oļ)OĽ)Oľ)OĿ)))Y(ņ>-((((((((((((((ŀOŁ)Oł)OŃ)Oń)OŅ)OŇ)Oň)Oŉ)OŊ)Oŋ)OŌ)Oō)OŎ)Oŏ)))Y(ć>-((((((((((((((ĀOā)OĂ)Oă)OĄ)Oą)OĆ)OĈ)Oĉ)OĊ)Oċ)OČ)Oč)OĎ)Oď)))Y(ė>-((((((((((((((ĐOđ)OĒ)Oē)OĔ)Oĕ)OĖ)OĘ)Oę)OĚ)Oě)OĜ)Oĝ)OĞ)Oğ)))Y(ħ>-((((((((((((((ĠOġ)OĢ)Oģ)OĤ)Oĥ)OĦ)OĨ)Oĩ)OĪ)Oī)OĬ)Oĭ)OĮ)Oį)))Y(ķ>-((((((((((((((İOı)OĲ)Oĳ)OĴ)Oĵ)OĶ)Oĸ)OĹ)Oĺ)OĻ)Oļ)OĽ)Oľ)OĿ)))Y(Ň>-((((((((((((((ŀOŁ)Oł)OŃ)Oń)OŅ)Oņ)Oň)Oŉ)OŊ)Oŋ)OŌ)Oō)OŎ)Oŏ)))Y(Ĉ>-((((((((((((((ĀOā)OĂ)Oă)OĄ)Oą)OĆ)Oć)Oĉ)OĊ)Oċ)OČ)Oč)OĎ)Oď)))Y(Ę>-((((((((((((((ĐOđ)OĒ)Oē)OĔ)Oĕ)OĖ)Oė)Oę)OĚ)Oě)OĜ)Oĝ)OĞ)Oğ)))Y(Ĩ>-((((((((((((((ĠOġ)OĢ)Oģ)OĤ)Oĥ)OĦ)Oħ)Oĩ)OĪ)Oī)OĬ)Oĭ)OĮ)Oį)))Y(ĸ>-((((((((((((((İOı)OĲ)Oĳ)OĴ)Oĵ)OĶ)Oķ)OĹ)Oĺ)OĻ)Oļ)OĽ)Oľ)OĿ)))Y(ň>-((((((((((((((ŀOŁ)Oł)OŃ)Oń)OŅ)Oņ)OŇ)Oŉ)OŊ)Oŋ)OŌ)Oō)OŎ)Oŏ)))Y(ĉ>-((((((((((((((ĀOā)OĂ)Oă)OĄ)Oą)OĆ)Oć)OĈ)OĊ)Oċ)OČ)Oč)OĎ)Oď)))Y(ę>-((((((((((((((ĐOđ)OĒ)Oē)OĔ)Oĕ)OĖ)Oė)OĘ)OĚ)Oě)OĜ)Oĝ)OĞ)Oğ)))Y(ĩ>-((((((((((((((ĠOġ)OĢ)Oģ)OĤ)Oĥ)OĦ)Oħ)OĨ)OĪ)Oī)OĬ)Oĭ)OĮ)Oį)))Y(Ĺ>-((((((((((((((İOı)OĲ)Oĳ)OĴ)Oĵ)OĶ)Oķ)Oĸ)Oĺ)OĻ)Oļ)OĽ)Oľ)OĿ)))Y(ŉ>-((((((((((((((ŀOŁ)Oł)OŃ)Oń)OŅ)Oņ)OŇ)Oň)OŊ)Oŋ)OŌ)Oō)OŎ)Oŏ)))Y(Ċ>-((((((((((((((ĀOā)OĂ)Oă)OĄ)Oą)OĆ)Oć)OĈ)Oĉ)Oċ)OČ)Oč)OĎ)Oď)))Y(Ě>-((((((((((((((ĐOđ)OĒ)Oē)OĔ)Oĕ)OĖ)Oė)OĘ)Oę)Oě)OĜ)Oĝ)OĞ)Oğ)))Y(Ī>-((((((((((((((ĠOġ)OĢ)Oģ)OĤ)Oĥ)OĦ)Oħ)OĨ)Oĩ)Oī)OĬ)Oĭ)OĮ)Oį)))Y(ĺ>-((((((((((((((İOı)OĲ)Oĳ)OĴ)Oĵ)OĶ)Oķ)Oĸ)OĹ)OĻ)Oļ)OĽ)Oľ)OĿ)))Y(Ŋ>-((((((((((((((ŀOŁ)Oł)OŃ)Oń)OŅ)Oņ)OŇ)Oň)Oŉ)Oŋ)OŌ)Oō)OŎ)Oŏ)))Y(ċ>-((((((((((((((ĀOā)OĂ)Oă)OĄ)Oą)OĆ)Oć)OĈ)Oĉ)OĊ)OČ)Oč)OĎ)Oď)))Y(ě>-((((((((((((((ĐOđ)OĒ)Oē)OĔ)Oĕ)OĖ)Oė)OĘ)Oę)OĚ)OĜ)Oĝ)OĞ)Oğ)))Y(ī>-((((((((((((((ĠOġ)OĢ)Oģ)OĤ)Oĥ)OĦ)Oħ)OĨ)Oĩ)OĪ)OĬ)Oĭ)OĮ)Oį)))Y(Ļ>-((((((((((((((İOı)OĲ)Oĳ)OĴ)Oĵ)OĶ)Oķ)Oĸ)OĹ)Oĺ)Oļ)OĽ)Oľ)OĿ)))Y(ŋ>-((((((((((((((ŀOŁ)Oł)OŃ)Oń)OŅ)Oņ)OŇ)Oň)Oŉ)OŊ)OŌ)Oō)OŎ)Oŏ)))Y(Č>-((((((((((((((ĀOā)OĂ)Oă)OĄ)Oą)OĆ)Oć)OĈ)Oĉ)OĊ)Oċ)Oč)OĎ)Oď)))Y(Ĝ>-((((((((((((((ĐOđ)OĒ)Oē)OĔ)Oĕ)OĖ)Oė)OĘ)Oę)OĚ)Oě)Oĝ)OĞ)Oğ)))Y(Ĭ>-((((((((((((((ĠOġ)OĢ)Oģ)OĤ)Oĥ)OĦ)Oħ)OĨ)Oĩ)OĪ)Oī)Oĭ)OĮ)Oį)))Y(ļ>-((((((((((((((İOı)OĲ)Oĳ)OĴ)Oĵ)OĶ)Oķ)Oĸ)OĹ)Oĺ)OĻ)OĽ)Oľ)OĿ)))Y(Ō>-((((((((((((((ŀOŁ)Oł)OŃ)Oń)OŅ)Oņ)OŇ)Oň)Oŉ)OŊ)Oŋ)Oō)OŎ)Oŏ)))Y(č>-((((((((((((((ĀOā)OĂ)Oă)OĄ)Oą)OĆ)Oć)OĈ)Oĉ)OĊ)Oċ)OČ)OĎ)Oď)))Y(ĝ>-((((((((((((((ĐOđ)OĒ)Oē)OĔ)Oĕ)OĖ)Oė)OĘ)Oę)OĚ)Oě)OĜ)OĞ)Oğ)))Y(ĭ>-((((((((((((((ĠOġ)OĢ)Oģ)OĤ)Oĥ)OĦ)Oħ)OĨ)Oĩ)OĪ)Oī)OĬ)OĮ)Oį)))Y(Ľ>-((((((((((((((İOı)OĲ)Oĳ)OĴ)Oĵ)OĶ)Oķ)Oĸ)OĹ)Oĺ)OĻ)Oļ)Oľ)OĿ)))Y(ō>-((((((((((((((ŀOŁ)Oł)OŃ)Oń)OŅ)Oņ)OŇ)Oň)Oŉ)OŊ)Oŋ)OŌ)OŎ)Oŏ)))Y(Ď>-((((((((((((((ĀOā)OĂ)Oă)OĄ)Oą)OĆ)Oć)OĈ)Oĉ)OĊ)Oċ)OČ)Oč)Oď)))Y(Ğ>-((((((((((((((ĐOđ)OĒ)Oē)OĔ)Oĕ)OĖ)Oė)OĘ)Oę)OĚ)Oě)OĜ)Oĝ)Oğ)))Y(Į>-((((((((((((((ĠOġ)OĢ)Oģ)OĤ)Oĥ)OĦ)Oħ)OĨ)Oĩ)OĪ)Oī)OĬ)Oĭ)Oį)))Y(ľ>-((((((((((((((İOı)OĲ)Oĳ)OĴ)Oĵ)OĶ)Oķ)Oĸ)OĹ)Oĺ)OĻ)Oļ)OĽ)OĿ)))Y(Ŏ>-((((((((((((((ŀOŁ)Oł)OŃ)Oń)OŅ)Oņ)OŇ)Oň)Oŉ)OŊ)Oŋ)OŌ)Oō)Oŏ)))Y(ď>-((((((((((((((ĀOā)OĂ)Oă)OĄ)Oą)OĆ)Oć)OĈ)Oĉ)OĊ)Oċ)OČ)Oč)OĎ)))Y(ğ>-((((((((((((((ĐOđ)OĒ)Oē)OĔ)Oĕ)OĖ)Oė)OĘ)Oę)OĚ)Oě)OĜ)Oĝ)OĞ)))Y(į>-((((((((((((((ĠOġ)OĢ)Oģ)OĤ)Oĥ)OĦ)Oħ)OĨ)Oĩ)OĪ)Oī)OĬ)Oĭ)OĮ)))Y(Ŀ>-((((((((((((((İOı)OĲ)Oĳ)OĴ)Oĵ)OĶ)Oķ)Oĸ)OĹ)Oĺ)OĻ)Oļ)OĽ)Oľ)))Y(ŏ>-((((((((((((((ŀOŁ)Oł)OŃ)Oń)OŅ)Oņ)OŇ)Oň)Oŉ)OŊ)Oŋ)OŌ)Oō)OŎ)))\n"
     ]
    }
   ],
   "source": [
    "formula1 = ''\n",
    "formulaF = ''\n",
    "inicial2 = True\n",
    "\n",
    "for x in X:\n",
    "    for y in Y:\n",
    "        \n",
    "        inicial = True\n",
    "        for m in X:\n",
    "            if m != x:\n",
    "                if inicial:\n",
    "                    formula1 = CaracterenCasilla.P([m,y])\n",
    "                    inicial = False\n",
    "                else:\n",
    "                    formula1 = \"(\" + formula1 + \"O\" + CaracterenCasilla.P([m,y]) + \")\"\n",
    "\n",
    "        if inicial2:\n",
    "            formulaF = \"(\" + CaracterenCasilla.P([x,y]) + \">-\" + formula1 + \")\"\n",
    "            inicial2 = False\n",
    "        else:\n",
    "            formulaF = \"(\" + formulaF + \"Y\" +\"(\" + CaracterenCasilla.P([x,y]) + \">-\" + formula1 + \")\" + \")\"\n",
    "\n",
    "formula8 = formulaF\n",
    "print(formula8)"
   ]
  },
  {
   "cell_type": "markdown",
   "metadata": {},
   "source": [
    "Observe que la fórmula resultante es difícil de entender a simple vista, aunque un computador pueda trabajarla fácilmente. Para visualizarla de manera más comprensible y entender el significado del string generado por el código anterior, usaremos la función `visualizar_formula` que se encuentra en la librería `Logica`:"
   ]
  },
  {
   "cell_type": "code",
   "execution_count": 15,
   "metadata": {},
   "outputs": [
    {
     "name": "stdout",
     "output_type": "stream",
     "text": [
      "((((((((((((((((((((((((((((((((((((((((((((((((((((((((((((((((((((((((((((((((El número 0 está en la casilla (0) >  no ((((((((((((((El número 1 está en la casilla (0) O El número 2 está en la casilla (0)) O El número 3 está en la casilla (0)) O El número 4 está en la casilla (0)) O El número 5 está en la casilla (0)) O El número 6 está en la casilla (0)) O El número 7 está en la casilla (0)) O El número 8 está en la casilla (0)) O El número 9 está en la casilla (0)) O El número A está en la casilla (0)) O El número B está en la casilla (0)) O El número C está en la casilla (0)) O El número D está en la casilla (0)) O El número E está en la casilla (0)) O El número F está en la casilla (0))) Y (El número 0 está en la casilla (1) >  no ((((((((((((((El número 1 está en la casilla (1) O El número 2 está en la casilla (1)) O El número 3 está en la casilla (1)) O El número 4 está en la casilla (1)) O El número 5 está en la casilla (1)) O El número 6 está en la casilla (1)) O El número 7 está en la casilla (1)) O El número 8 está en la casilla (1)) O El número 9 está en la casilla (1)) O El número A está en la casilla (1)) O El número B está en la casilla (1)) O El número C está en la casilla (1)) O El número D está en la casilla (1)) O El número E está en la casilla (1)) O El número F está en la casilla (1)))) Y (El número 0 está en la casilla (2) >  no ((((((((((((((El número 1 está en la casilla (2) O El número 2 está en la casilla (2)) O El número 3 está en la casilla (2)) O El número 4 está en la casilla (2)) O El número 5 está en la casilla (2)) O El número 6 está en la casilla (2)) O El número 7 está en la casilla (2)) O El número 8 está en la casilla (2)) O El número 9 está en la casilla (2)) O El número A está en la casilla (2)) O El número B está en la casilla (2)) O El número C está en la casilla (2)) O El número D está en la casilla (2)) O El número E está en la casilla (2)) O El número F está en la casilla (2)))) Y (El número 0 está en la casilla (3) >  no ((((((((((((((El número 1 está en la casilla (3) O El número 2 está en la casilla (3)) O El número 3 está en la casilla (3)) O El número 4 está en la casilla (3)) O El número 5 está en la casilla (3)) O El número 6 está en la casilla (3)) O El número 7 está en la casilla (3)) O El número 8 está en la casilla (3)) O El número 9 está en la casilla (3)) O El número A está en la casilla (3)) O El número B está en la casilla (3)) O El número C está en la casilla (3)) O El número D está en la casilla (3)) O El número E está en la casilla (3)) O El número F está en la casilla (3)))) Y (El número 0 está en la casilla (4) >  no ((((((((((((((El número 1 está en la casilla (4) O El número 2 está en la casilla (4)) O El número 3 está en la casilla (4)) O El número 4 está en la casilla (4)) O El número 5 está en la casilla (4)) O El número 6 está en la casilla (4)) O El número 7 está en la casilla (4)) O El número 8 está en la casilla (4)) O El número 9 está en la casilla (4)) O El número A está en la casilla (4)) O El número B está en la casilla (4)) O El número C está en la casilla (4)) O El número D está en la casilla (4)) O El número E está en la casilla (4)) O El número F está en la casilla (4)))) Y (El número 1 está en la casilla (0) >  no ((((((((((((((El número 0 está en la casilla (0) O El número 2 está en la casilla (0)) O El número 3 está en la casilla (0)) O El número 4 está en la casilla (0)) O El número 5 está en la casilla (0)) O El número 6 está en la casilla (0)) O El número 7 está en la casilla (0)) O El número 8 está en la casilla (0)) O El número 9 está en la casilla (0)) O El número A está en la casilla (0)) O El número B está en la casilla (0)) O El número C está en la casilla (0)) O El número D está en la casilla (0)) O El número E está en la casilla (0)) O El número F está en la casilla (0)))) Y (El número 1 está en la casilla (1) >  no ((((((((((((((El número 0 está en la casilla (1) O El número 2 está en la casilla (1)) O El número 3 está en la casilla (1)) O El número 4 está en la casilla (1)) O El número 5 está en la casilla (1)) O El número 6 está en la casilla (1)) O El número 7 está en la casilla (1)) O El número 8 está en la casilla (1)) O El número 9 está en la casilla (1)) O El número A está en la casilla (1)) O El número B está en la casilla (1)) O El número C está en la casilla (1)) O El número D está en la casilla (1)) O El número E está en la casilla (1)) O El número F está en la casilla (1)))) Y (El número 1 está en la casilla (2) >  no ((((((((((((((El número 0 está en la casilla (2) O El número 2 está en la casilla (2)) O El número 3 está en la casilla (2)) O El número 4 está en la casilla (2)) O El número 5 está en la casilla (2)) O El número 6 está en la casilla (2)) O El número 7 está en la casilla (2)) O El número 8 está en la casilla (2)) O El número 9 está en la casilla (2)) O El número A está en la casilla (2)) O El número B está en la casilla (2)) O El número C está en la casilla (2)) O El número D está en la casilla (2)) O El número E está en la casilla (2)) O El número F está en la casilla (2)))) Y (El número 1 está en la casilla (3) >  no ((((((((((((((El número 0 está en la casilla (3) O El número 2 está en la casilla (3)) O El número 3 está en la casilla (3)) O El número 4 está en la casilla (3)) O El número 5 está en la casilla (3)) O El número 6 está en la casilla (3)) O El número 7 está en la casilla (3)) O El número 8 está en la casilla (3)) O El número 9 está en la casilla (3)) O El número A está en la casilla (3)) O El número B está en la casilla (3)) O El número C está en la casilla (3)) O El número D está en la casilla (3)) O El número E está en la casilla (3)) O El número F está en la casilla (3)))) Y (El número 1 está en la casilla (4) >  no ((((((((((((((El número 0 está en la casilla (4) O El número 2 está en la casilla (4)) O El número 3 está en la casilla (4)) O El número 4 está en la casilla (4)) O El número 5 está en la casilla (4)) O El número 6 está en la casilla (4)) O El número 7 está en la casilla (4)) O El número 8 está en la casilla (4)) O El número 9 está en la casilla (4)) O El número A está en la casilla (4)) O El número B está en la casilla (4)) O El número C está en la casilla (4)) O El número D está en la casilla (4)) O El número E está en la casilla (4)) O El número F está en la casilla (4)))) Y (El número 2 está en la casilla (0) >  no ((((((((((((((El número 0 está en la casilla (0) O El número 1 está en la casilla (0)) O El número 3 está en la casilla (0)) O El número 4 está en la casilla (0)) O El número 5 está en la casilla (0)) O El número 6 está en la casilla (0)) O El número 7 está en la casilla (0)) O El número 8 está en la casilla (0)) O El número 9 está en la casilla (0)) O El número A está en la casilla (0)) O El número B está en la casilla (0)) O El número C está en la casilla (0)) O El número D está en la casilla (0)) O El número E está en la casilla (0)) O El número F está en la casilla (0)))) Y (El número 2 está en la casilla (1) >  no ((((((((((((((El número 0 está en la casilla (1) O El número 1 está en la casilla (1)) O El número 3 está en la casilla (1)) O El número 4 está en la casilla (1)) O El número 5 está en la casilla (1)) O El número 6 está en la casilla (1)) O El número 7 está en la casilla (1)) O El número 8 está en la casilla (1)) O El número 9 está en la casilla (1)) O El número A está en la casilla (1)) O El número B está en la casilla (1)) O El número C está en la casilla (1)) O El número D está en la casilla (1)) O El número E está en la casilla (1)) O El número F está en la casilla (1)))) Y (El número 2 está en la casilla (2) >  no ((((((((((((((El número 0 está en la casilla (2) O El número 1 está en la casilla (2)) O El número 3 está en la casilla (2)) O El número 4 está en la casilla (2)) O El número 5 está en la casilla (2)) O El número 6 está en la casilla (2)) O El número 7 está en la casilla (2)) O El número 8 está en la casilla (2)) O El número 9 está en la casilla (2)) O El número A está en la casilla (2)) O El número B está en la casilla (2)) O El número C está en la casilla (2)) O El número D está en la casilla (2)) O El número E está en la casilla (2)) O El número F está en la casilla (2)))) Y (El número 2 está en la casilla (3) >  no ((((((((((((((El número 0 está en la casilla (3) O El número 1 está en la casilla (3)) O El número 3 está en la casilla (3)) O El número 4 está en la casilla (3)) O El número 5 está en la casilla (3)) O El número 6 está en la casilla (3)) O El número 7 está en la casilla (3)) O El número 8 está en la casilla (3)) O El número 9 está en la casilla (3)) O El número A está en la casilla (3)) O El número B está en la casilla (3)) O El número C está en la casilla (3)) O El número D está en la casilla (3)) O El número E está en la casilla (3)) O El número F está en la casilla (3)))) Y (El número 2 está en la casilla (4) >  no ((((((((((((((El número 0 está en la casilla (4) O El número 1 está en la casilla (4)) O El número 3 está en la casilla (4)) O El número 4 está en la casilla (4)) O El número 5 está en la casilla (4)) O El número 6 está en la casilla (4)) O El número 7 está en la casilla (4)) O El número 8 está en la casilla (4)) O El número 9 está en la casilla (4)) O El número A está en la casilla (4)) O El número B está en la casilla (4)) O El número C está en la casilla (4)) O El número D está en la casilla (4)) O El número E está en la casilla (4)) O El número F está en la casilla (4)))) Y (El número 3 está en la casilla (0) >  no ((((((((((((((El número 0 está en la casilla (0) O El número 1 está en la casilla (0)) O El número 2 está en la casilla (0)) O El número 4 está en la casilla (0)) O El número 5 está en la casilla (0)) O El número 6 está en la casilla (0)) O El número 7 está en la casilla (0)) O El número 8 está en la casilla (0)) O El número 9 está en la casilla (0)) O El número A está en la casilla (0)) O El número B está en la casilla (0)) O El número C está en la casilla (0)) O El número D está en la casilla (0)) O El número E está en la casilla (0)) O El número F está en la casilla (0)))) Y (El número 3 está en la casilla (1) >  no ((((((((((((((El número 0 está en la casilla (1) O El número 1 está en la casilla (1)) O El número 2 está en la casilla (1)) O El número 4 está en la casilla (1)) O El número 5 está en la casilla (1)) O El número 6 está en la casilla (1)) O El número 7 está en la casilla (1)) O El número 8 está en la casilla (1)) O El número 9 está en la casilla (1)) O El número A está en la casilla (1)) O El número B está en la casilla (1)) O El número C está en la casilla (1)) O El número D está en la casilla (1)) O El número E está en la casilla (1)) O El número F está en la casilla (1)))) Y (El número 3 está en la casilla (2) >  no ((((((((((((((El número 0 está en la casilla (2) O El número 1 está en la casilla (2)) O El número 2 está en la casilla (2)) O El número 4 está en la casilla (2)) O El número 5 está en la casilla (2)) O El número 6 está en la casilla (2)) O El número 7 está en la casilla (2)) O El número 8 está en la casilla (2)) O El número 9 está en la casilla (2)) O El número A está en la casilla (2)) O El número B está en la casilla (2)) O El número C está en la casilla (2)) O El número D está en la casilla (2)) O El número E está en la casilla (2)) O El número F está en la casilla (2)))) Y (El número 3 está en la casilla (3) >  no ((((((((((((((El número 0 está en la casilla (3) O El número 1 está en la casilla (3)) O El número 2 está en la casilla (3)) O El número 4 está en la casilla (3)) O El número 5 está en la casilla (3)) O El número 6 está en la casilla (3)) O El número 7 está en la casilla (3)) O El número 8 está en la casilla (3)) O El número 9 está en la casilla (3)) O El número A está en la casilla (3)) O El número B está en la casilla (3)) O El número C está en la casilla (3)) O El número D está en la casilla (3)) O El número E está en la casilla (3)) O El número F está en la casilla (3)))) Y (El número 3 está en la casilla (4) >  no ((((((((((((((El número 0 está en la casilla (4) O El número 1 está en la casilla (4)) O El número 2 está en la casilla (4)) O El número 4 está en la casilla (4)) O El número 5 está en la casilla (4)) O El número 6 está en la casilla (4)) O El número 7 está en la casilla (4)) O El número 8 está en la casilla (4)) O El número 9 está en la casilla (4)) O El número A está en la casilla (4)) O El número B está en la casilla (4)) O El número C está en la casilla (4)) O El número D está en la casilla (4)) O El número E está en la casilla (4)) O El número F está en la casilla (4)))) Y (El número 4 está en la casilla (0) >  no ((((((((((((((El número 0 está en la casilla (0) O El número 1 está en la casilla (0)) O El número 2 está en la casilla (0)) O El número 3 está en la casilla (0)) O El número 5 está en la casilla (0)) O El número 6 está en la casilla (0)) O El número 7 está en la casilla (0)) O El número 8 está en la casilla (0)) O El número 9 está en la casilla (0)) O El número A está en la casilla (0)) O El número B está en la casilla (0)) O El número C está en la casilla (0)) O El número D está en la casilla (0)) O El número E está en la casilla (0)) O El número F está en la casilla (0)))) Y (El número 4 está en la casilla (1) >  no ((((((((((((((El número 0 está en la casilla (1) O El número 1 está en la casilla (1)) O El número 2 está en la casilla (1)) O El número 3 está en la casilla (1)) O El número 5 está en la casilla (1)) O El número 6 está en la casilla (1)) O El número 7 está en la casilla (1)) O El número 8 está en la casilla (1)) O El número 9 está en la casilla (1)) O El número A está en la casilla (1)) O El número B está en la casilla (1)) O El número C está en la casilla (1)) O El número D está en la casilla (1)) O El número E está en la casilla (1)) O El número F está en la casilla (1)))) Y (El número 4 está en la casilla (2) >  no ((((((((((((((El número 0 está en la casilla (2) O El número 1 está en la casilla (2)) O El número 2 está en la casilla (2)) O El número 3 está en la casilla (2)) O El número 5 está en la casilla (2)) O El número 6 está en la casilla (2)) O El número 7 está en la casilla (2)) O El número 8 está en la casilla (2)) O El número 9 está en la casilla (2)) O El número A está en la casilla (2)) O El número B está en la casilla (2)) O El número C está en la casilla (2)) O El número D está en la casilla (2)) O El número E está en la casilla (2)) O El número F está en la casilla (2)))) Y (El número 4 está en la casilla (3) >  no ((((((((((((((El número 0 está en la casilla (3) O El número 1 está en la casilla (3)) O El número 2 está en la casilla (3)) O El número 3 está en la casilla (3)) O El número 5 está en la casilla (3)) O El número 6 está en la casilla (3)) O El número 7 está en la casilla (3)) O El número 8 está en la casilla (3)) O El número 9 está en la casilla (3)) O El número A está en la casilla (3)) O El número B está en la casilla (3)) O El número C está en la casilla (3)) O El número D está en la casilla (3)) O El número E está en la casilla (3)) O El número F está en la casilla (3)))) Y (El número 4 está en la casilla (4) >  no ((((((((((((((El número 0 está en la casilla (4) O El número 1 está en la casilla (4)) O El número 2 está en la casilla (4)) O El número 3 está en la casilla (4)) O El número 5 está en la casilla (4)) O El número 6 está en la casilla (4)) O El número 7 está en la casilla (4)) O El número 8 está en la casilla (4)) O El número 9 está en la casilla (4)) O El número A está en la casilla (4)) O El número B está en la casilla (4)) O El número C está en la casilla (4)) O El número D está en la casilla (4)) O El número E está en la casilla (4)) O El número F está en la casilla (4)))) Y (El número 5 está en la casilla (0) >  no ((((((((((((((El número 0 está en la casilla (0) O El número 1 está en la casilla (0)) O El número 2 está en la casilla (0)) O El número 3 está en la casilla (0)) O El número 4 está en la casilla (0)) O El número 6 está en la casilla (0)) O El número 7 está en la casilla (0)) O El número 8 está en la casilla (0)) O El número 9 está en la casilla (0)) O El número A está en la casilla (0)) O El número B está en la casilla (0)) O El número C está en la casilla (0)) O El número D está en la casilla (0)) O El número E está en la casilla (0)) O El número F está en la casilla (0)))) Y (El número 5 está en la casilla (1) >  no ((((((((((((((El número 0 está en la casilla (1) O El número 1 está en la casilla (1)) O El número 2 está en la casilla (1)) O El número 3 está en la casilla (1)) O El número 4 está en la casilla (1)) O El número 6 está en la casilla (1)) O El número 7 está en la casilla (1)) O El número 8 está en la casilla (1)) O El número 9 está en la casilla (1)) O El número A está en la casilla (1)) O El número B está en la casilla (1)) O El número C está en la casilla (1)) O El número D está en la casilla (1)) O El número E está en la casilla (1)) O El número F está en la casilla (1)))) Y (El número 5 está en la casilla (2) >  no ((((((((((((((El número 0 está en la casilla (2) O El número 1 está en la casilla (2)) O El número 2 está en la casilla (2)) O El número 3 está en la casilla (2)) O El número 4 está en la casilla (2)) O El número 6 está en la casilla (2)) O El número 7 está en la casilla (2)) O El número 8 está en la casilla (2)) O El número 9 está en la casilla (2)) O El número A está en la casilla (2)) O El número B está en la casilla (2)) O El número C está en la casilla (2)) O El número D está en la casilla (2)) O El número E está en la casilla (2)) O El número F está en la casilla (2)))) Y (El número 5 está en la casilla (3) >  no ((((((((((((((El número 0 está en la casilla (3) O El número 1 está en la casilla (3)) O El número 2 está en la casilla (3)) O El número 3 está en la casilla (3)) O El número 4 está en la casilla (3)) O El número 6 está en la casilla (3)) O El número 7 está en la casilla (3)) O El número 8 está en la casilla (3)) O El número 9 está en la casilla (3)) O El número A está en la casilla (3)) O El número B está en la casilla (3)) O El número C está en la casilla (3)) O El número D está en la casilla (3)) O El número E está en la casilla (3)) O El número F está en la casilla (3)))) Y (El número 5 está en la casilla (4) >  no ((((((((((((((El número 0 está en la casilla (4) O El número 1 está en la casilla (4)) O El número 2 está en la casilla (4)) O El número 3 está en la casilla (4)) O El número 4 está en la casilla (4)) O El número 6 está en la casilla (4)) O El número 7 está en la casilla (4)) O El número 8 está en la casilla (4)) O El número 9 está en la casilla (4)) O El número A está en la casilla (4)) O El número B está en la casilla (4)) O El número C está en la casilla (4)) O El número D está en la casilla (4)) O El número E está en la casilla (4)) O El número F está en la casilla (4)))) Y (El número 6 está en la casilla (0) >  no ((((((((((((((El número 0 está en la casilla (0) O El número 1 está en la casilla (0)) O El número 2 está en la casilla (0)) O El número 3 está en la casilla (0)) O El número 4 está en la casilla (0)) O El número 5 está en la casilla (0)) O El número 7 está en la casilla (0)) O El número 8 está en la casilla (0)) O El número 9 está en la casilla (0)) O El número A está en la casilla (0)) O El número B está en la casilla (0)) O El número C está en la casilla (0)) O El número D está en la casilla (0)) O El número E está en la casilla (0)) O El número F está en la casilla (0)))) Y (El número 6 está en la casilla (1) >  no ((((((((((((((El número 0 está en la casilla (1) O El número 1 está en la casilla (1)) O El número 2 está en la casilla (1)) O El número 3 está en la casilla (1)) O El número 4 está en la casilla (1)) O El número 5 está en la casilla (1)) O El número 7 está en la casilla (1)) O El número 8 está en la casilla (1)) O El número 9 está en la casilla (1)) O El número A está en la casilla (1)) O El número B está en la casilla (1)) O El número C está en la casilla (1)) O El número D está en la casilla (1)) O El número E está en la casilla (1)) O El número F está en la casilla (1)))) Y (El número 6 está en la casilla (2) >  no ((((((((((((((El número 0 está en la casilla (2) O El número 1 está en la casilla (2)) O El número 2 está en la casilla (2)) O El número 3 está en la casilla (2)) O El número 4 está en la casilla (2)) O El número 5 está en la casilla (2)) O El número 7 está en la casilla (2)) O El número 8 está en la casilla (2)) O El número 9 está en la casilla (2)) O El número A está en la casilla (2)) O El número B está en la casilla (2)) O El número C está en la casilla (2)) O El número D está en la casilla (2)) O El número E está en la casilla (2)) O El número F está en la casilla (2)))) Y (El número 6 está en la casilla (3) >  no ((((((((((((((El número 0 está en la casilla (3) O El número 1 está en la casilla (3)) O El número 2 está en la casilla (3)) O El número 3 está en la casilla (3)) O El número 4 está en la casilla (3)) O El número 5 está en la casilla (3)) O El número 7 está en la casilla (3)) O El número 8 está en la casilla (3)) O El número 9 está en la casilla (3)) O El número A está en la casilla (3)) O El número B está en la casilla (3)) O El número C está en la casilla (3)) O El número D está en la casilla (3)) O El número E está en la casilla (3)) O El número F está en la casilla (3)))) Y (El número 6 está en la casilla (4) >  no ((((((((((((((El número 0 está en la casilla (4) O El número 1 está en la casilla (4)) O El número 2 está en la casilla (4)) O El número 3 está en la casilla (4)) O El número 4 está en la casilla (4)) O El número 5 está en la casilla (4)) O El número 7 está en la casilla (4)) O El número 8 está en la casilla (4)) O El número 9 está en la casilla (4)) O El número A está en la casilla (4)) O El número B está en la casilla (4)) O El número C está en la casilla (4)) O El número D está en la casilla (4)) O El número E está en la casilla (4)) O El número F está en la casilla (4)))) Y (El número 7 está en la casilla (0) >  no ((((((((((((((El número 0 está en la casilla (0) O El número 1 está en la casilla (0)) O El número 2 está en la casilla (0)) O El número 3 está en la casilla (0)) O El número 4 está en la casilla (0)) O El número 5 está en la casilla (0)) O El número 6 está en la casilla (0)) O El número 8 está en la casilla (0)) O El número 9 está en la casilla (0)) O El número A está en la casilla (0)) O El número B está en la casilla (0)) O El número C está en la casilla (0)) O El número D está en la casilla (0)) O El número E está en la casilla (0)) O El número F está en la casilla (0)))) Y (El número 7 está en la casilla (1) >  no ((((((((((((((El número 0 está en la casilla (1) O El número 1 está en la casilla (1)) O El número 2 está en la casilla (1)) O El número 3 está en la casilla (1)) O El número 4 está en la casilla (1)) O El número 5 está en la casilla (1)) O El número 6 está en la casilla (1)) O El número 8 está en la casilla (1)) O El número 9 está en la casilla (1)) O El número A está en la casilla (1)) O El número B está en la casilla (1)) O El número C está en la casilla (1)) O El número D está en la casilla (1)) O El número E está en la casilla (1)) O El número F está en la casilla (1)))) Y (El número 7 está en la casilla (2) >  no ((((((((((((((El número 0 está en la casilla (2) O El número 1 está en la casilla (2)) O El número 2 está en la casilla (2)) O El número 3 está en la casilla (2)) O El número 4 está en la casilla (2)) O El número 5 está en la casilla (2)) O El número 6 está en la casilla (2)) O El número 8 está en la casilla (2)) O El número 9 está en la casilla (2)) O El número A está en la casilla (2)) O El número B está en la casilla (2)) O El número C está en la casilla (2)) O El número D está en la casilla (2)) O El número E está en la casilla (2)) O El número F está en la casilla (2)))) Y (El número 7 está en la casilla (3) >  no ((((((((((((((El número 0 está en la casilla (3) O El número 1 está en la casilla (3)) O El número 2 está en la casilla (3)) O El número 3 está en la casilla (3)) O El número 4 está en la casilla (3)) O El número 5 está en la casilla (3)) O El número 6 está en la casilla (3)) O El número 8 está en la casilla (3)) O El número 9 está en la casilla (3)) O El número A está en la casilla (3)) O El número B está en la casilla (3)) O El número C está en la casilla (3)) O El número D está en la casilla (3)) O El número E está en la casilla (3)) O El número F está en la casilla (3)))) Y (El número 7 está en la casilla (4) >  no ((((((((((((((El número 0 está en la casilla (4) O El número 1 está en la casilla (4)) O El número 2 está en la casilla (4)) O El número 3 está en la casilla (4)) O El número 4 está en la casilla (4)) O El número 5 está en la casilla (4)) O El número 6 está en la casilla (4)) O El número 8 está en la casilla (4)) O El número 9 está en la casilla (4)) O El número A está en la casilla (4)) O El número B está en la casilla (4)) O El número C está en la casilla (4)) O El número D está en la casilla (4)) O El número E está en la casilla (4)) O El número F está en la casilla (4)))) Y (El número 8 está en la casilla (0) >  no ((((((((((((((El número 0 está en la casilla (0) O El número 1 está en la casilla (0)) O El número 2 está en la casilla (0)) O El número 3 está en la casilla (0)) O El número 4 está en la casilla (0)) O El número 5 está en la casilla (0)) O El número 6 está en la casilla (0)) O El número 7 está en la casilla (0)) O El número 9 está en la casilla (0)) O El número A está en la casilla (0)) O El número B está en la casilla (0)) O El número C está en la casilla (0)) O El número D está en la casilla (0)) O El número E está en la casilla (0)) O El número F está en la casilla (0)))) Y (El número 8 está en la casilla (1) >  no ((((((((((((((El número 0 está en la casilla (1) O El número 1 está en la casilla (1)) O El número 2 está en la casilla (1)) O El número 3 está en la casilla (1)) O El número 4 está en la casilla (1)) O El número 5 está en la casilla (1)) O El número 6 está en la casilla (1)) O El número 7 está en la casilla (1)) O El número 9 está en la casilla (1)) O El número A está en la casilla (1)) O El número B está en la casilla (1)) O El número C está en la casilla (1)) O El número D está en la casilla (1)) O El número E está en la casilla (1)) O El número F está en la casilla (1)))) Y (El número 8 está en la casilla (2) >  no ((((((((((((((El número 0 está en la casilla (2) O El número 1 está en la casilla (2)) O El número 2 está en la casilla (2)) O El número 3 está en la casilla (2)) O El número 4 está en la casilla (2)) O El número 5 está en la casilla (2)) O El número 6 está en la casilla (2)) O El número 7 está en la casilla (2)) O El número 9 está en la casilla (2)) O El número A está en la casilla (2)) O El número B está en la casilla (2)) O El número C está en la casilla (2)) O El número D está en la casilla (2)) O El número E está en la casilla (2)) O El número F está en la casilla (2)))) Y (El número 8 está en la casilla (3) >  no ((((((((((((((El número 0 está en la casilla (3) O El número 1 está en la casilla (3)) O El número 2 está en la casilla (3)) O El número 3 está en la casilla (3)) O El número 4 está en la casilla (3)) O El número 5 está en la casilla (3)) O El número 6 está en la casilla (3)) O El número 7 está en la casilla (3)) O El número 9 está en la casilla (3)) O El número A está en la casilla (3)) O El número B está en la casilla (3)) O El número C está en la casilla (3)) O El número D está en la casilla (3)) O El número E está en la casilla (3)) O El número F está en la casilla (3)))) Y (El número 8 está en la casilla (4) >  no ((((((((((((((El número 0 está en la casilla (4) O El número 1 está en la casilla (4)) O El número 2 está en la casilla (4)) O El número 3 está en la casilla (4)) O El número 4 está en la casilla (4)) O El número 5 está en la casilla (4)) O El número 6 está en la casilla (4)) O El número 7 está en la casilla (4)) O El número 9 está en la casilla (4)) O El número A está en la casilla (4)) O El número B está en la casilla (4)) O El número C está en la casilla (4)) O El número D está en la casilla (4)) O El número E está en la casilla (4)) O El número F está en la casilla (4)))) Y (El número 9 está en la casilla (0) >  no ((((((((((((((El número 0 está en la casilla (0) O El número 1 está en la casilla (0)) O El número 2 está en la casilla (0)) O El número 3 está en la casilla (0)) O El número 4 está en la casilla (0)) O El número 5 está en la casilla (0)) O El número 6 está en la casilla (0)) O El número 7 está en la casilla (0)) O El número 8 está en la casilla (0)) O El número A está en la casilla (0)) O El número B está en la casilla (0)) O El número C está en la casilla (0)) O El número D está en la casilla (0)) O El número E está en la casilla (0)) O El número F está en la casilla (0)))) Y (El número 9 está en la casilla (1) >  no ((((((((((((((El número 0 está en la casilla (1) O El número 1 está en la casilla (1)) O El número 2 está en la casilla (1)) O El número 3 está en la casilla (1)) O El número 4 está en la casilla (1)) O El número 5 está en la casilla (1)) O El número 6 está en la casilla (1)) O El número 7 está en la casilla (1)) O El número 8 está en la casilla (1)) O El número A está en la casilla (1)) O El número B está en la casilla (1)) O El número C está en la casilla (1)) O El número D está en la casilla (1)) O El número E está en la casilla (1)) O El número F está en la casilla (1)))) Y (El número 9 está en la casilla (2) >  no ((((((((((((((El número 0 está en la casilla (2) O El número 1 está en la casilla (2)) O El número 2 está en la casilla (2)) O El número 3 está en la casilla (2)) O El número 4 está en la casilla (2)) O El número 5 está en la casilla (2)) O El número 6 está en la casilla (2)) O El número 7 está en la casilla (2)) O El número 8 está en la casilla (2)) O El número A está en la casilla (2)) O El número B está en la casilla (2)) O El número C está en la casilla (2)) O El número D está en la casilla (2)) O El número E está en la casilla (2)) O El número F está en la casilla (2)))) Y (El número 9 está en la casilla (3) >  no ((((((((((((((El número 0 está en la casilla (3) O El número 1 está en la casilla (3)) O El número 2 está en la casilla (3)) O El número 3 está en la casilla (3)) O El número 4 está en la casilla (3)) O El número 5 está en la casilla (3)) O El número 6 está en la casilla (3)) O El número 7 está en la casilla (3)) O El número 8 está en la casilla (3)) O El número A está en la casilla (3)) O El número B está en la casilla (3)) O El número C está en la casilla (3)) O El número D está en la casilla (3)) O El número E está en la casilla (3)) O El número F está en la casilla (3)))) Y (El número 9 está en la casilla (4) >  no ((((((((((((((El número 0 está en la casilla (4) O El número 1 está en la casilla (4)) O El número 2 está en la casilla (4)) O El número 3 está en la casilla (4)) O El número 4 está en la casilla (4)) O El número 5 está en la casilla (4)) O El número 6 está en la casilla (4)) O El número 7 está en la casilla (4)) O El número 8 está en la casilla (4)) O El número A está en la casilla (4)) O El número B está en la casilla (4)) O El número C está en la casilla (4)) O El número D está en la casilla (4)) O El número E está en la casilla (4)) O El número F está en la casilla (4)))) Y (El número A está en la casilla (0) >  no ((((((((((((((El número 0 está en la casilla (0) O El número 1 está en la casilla (0)) O El número 2 está en la casilla (0)) O El número 3 está en la casilla (0)) O El número 4 está en la casilla (0)) O El número 5 está en la casilla (0)) O El número 6 está en la casilla (0)) O El número 7 está en la casilla (0)) O El número 8 está en la casilla (0)) O El número 9 está en la casilla (0)) O El número B está en la casilla (0)) O El número C está en la casilla (0)) O El número D está en la casilla (0)) O El número E está en la casilla (0)) O El número F está en la casilla (0)))) Y (El número A está en la casilla (1) >  no ((((((((((((((El número 0 está en la casilla (1) O El número 1 está en la casilla (1)) O El número 2 está en la casilla (1)) O El número 3 está en la casilla (1)) O El número 4 está en la casilla (1)) O El número 5 está en la casilla (1)) O El número 6 está en la casilla (1)) O El número 7 está en la casilla (1)) O El número 8 está en la casilla (1)) O El número 9 está en la casilla (1)) O El número B está en la casilla (1)) O El número C está en la casilla (1)) O El número D está en la casilla (1)) O El número E está en la casilla (1)) O El número F está en la casilla (1)))) Y (El número A está en la casilla (2) >  no ((((((((((((((El número 0 está en la casilla (2) O El número 1 está en la casilla (2)) O El número 2 está en la casilla (2)) O El número 3 está en la casilla (2)) O El número 4 está en la casilla (2)) O El número 5 está en la casilla (2)) O El número 6 está en la casilla (2)) O El número 7 está en la casilla (2)) O El número 8 está en la casilla (2)) O El número 9 está en la casilla (2)) O El número B está en la casilla (2)) O El número C está en la casilla (2)) O El número D está en la casilla (2)) O El número E está en la casilla (2)) O El número F está en la casilla (2)))) Y (El número A está en la casilla (3) >  no ((((((((((((((El número 0 está en la casilla (3) O El número 1 está en la casilla (3)) O El número 2 está en la casilla (3)) O El número 3 está en la casilla (3)) O El número 4 está en la casilla (3)) O El número 5 está en la casilla (3)) O El número 6 está en la casilla (3)) O El número 7 está en la casilla (3)) O El número 8 está en la casilla (3)) O El número 9 está en la casilla (3)) O El número B está en la casilla (3)) O El número C está en la casilla (3)) O El número D está en la casilla (3)) O El número E está en la casilla (3)) O El número F está en la casilla (3)))) Y (El número A está en la casilla (4) >  no ((((((((((((((El número 0 está en la casilla (4) O El número 1 está en la casilla (4)) O El número 2 está en la casilla (4)) O El número 3 está en la casilla (4)) O El número 4 está en la casilla (4)) O El número 5 está en la casilla (4)) O El número 6 está en la casilla (4)) O El número 7 está en la casilla (4)) O El número 8 está en la casilla (4)) O El número 9 está en la casilla (4)) O El número B está en la casilla (4)) O El número C está en la casilla (4)) O El número D está en la casilla (4)) O El número E está en la casilla (4)) O El número F está en la casilla (4)))) Y (El número B está en la casilla (0) >  no ((((((((((((((El número 0 está en la casilla (0) O El número 1 está en la casilla (0)) O El número 2 está en la casilla (0)) O El número 3 está en la casilla (0)) O El número 4 está en la casilla (0)) O El número 5 está en la casilla (0)) O El número 6 está en la casilla (0)) O El número 7 está en la casilla (0)) O El número 8 está en la casilla (0)) O El número 9 está en la casilla (0)) O El número A está en la casilla (0)) O El número C está en la casilla (0)) O El número D está en la casilla (0)) O El número E está en la casilla (0)) O El número F está en la casilla (0)))) Y (El número B está en la casilla (1) >  no ((((((((((((((El número 0 está en la casilla (1) O El número 1 está en la casilla (1)) O El número 2 está en la casilla (1)) O El número 3 está en la casilla (1)) O El número 4 está en la casilla (1)) O El número 5 está en la casilla (1)) O El número 6 está en la casilla (1)) O El número 7 está en la casilla (1)) O El número 8 está en la casilla (1)) O El número 9 está en la casilla (1)) O El número A está en la casilla (1)) O El número C está en la casilla (1)) O El número D está en la casilla (1)) O El número E está en la casilla (1)) O El número F está en la casilla (1)))) Y (El número B está en la casilla (2) >  no ((((((((((((((El número 0 está en la casilla (2) O El número 1 está en la casilla (2)) O El número 2 está en la casilla (2)) O El número 3 está en la casilla (2)) O El número 4 está en la casilla (2)) O El número 5 está en la casilla (2)) O El número 6 está en la casilla (2)) O El número 7 está en la casilla (2)) O El número 8 está en la casilla (2)) O El número 9 está en la casilla (2)) O El número A está en la casilla (2)) O El número C está en la casilla (2)) O El número D está en la casilla (2)) O El número E está en la casilla (2)) O El número F está en la casilla (2)))) Y (El número B está en la casilla (3) >  no ((((((((((((((El número 0 está en la casilla (3) O El número 1 está en la casilla (3)) O El número 2 está en la casilla (3)) O El número 3 está en la casilla (3)) O El número 4 está en la casilla (3)) O El número 5 está en la casilla (3)) O El número 6 está en la casilla (3)) O El número 7 está en la casilla (3)) O El número 8 está en la casilla (3)) O El número 9 está en la casilla (3)) O El número A está en la casilla (3)) O El número C está en la casilla (3)) O El número D está en la casilla (3)) O El número E está en la casilla (3)) O El número F está en la casilla (3)))) Y (El número B está en la casilla (4) >  no ((((((((((((((El número 0 está en la casilla (4) O El número 1 está en la casilla (4)) O El número 2 está en la casilla (4)) O El número 3 está en la casilla (4)) O El número 4 está en la casilla (4)) O El número 5 está en la casilla (4)) O El número 6 está en la casilla (4)) O El número 7 está en la casilla (4)) O El número 8 está en la casilla (4)) O El número 9 está en la casilla (4)) O El número A está en la casilla (4)) O El número C está en la casilla (4)) O El número D está en la casilla (4)) O El número E está en la casilla (4)) O El número F está en la casilla (4)))) Y (El número C está en la casilla (0) >  no ((((((((((((((El número 0 está en la casilla (0) O El número 1 está en la casilla (0)) O El número 2 está en la casilla (0)) O El número 3 está en la casilla (0)) O El número 4 está en la casilla (0)) O El número 5 está en la casilla (0)) O El número 6 está en la casilla (0)) O El número 7 está en la casilla (0)) O El número 8 está en la casilla (0)) O El número 9 está en la casilla (0)) O El número A está en la casilla (0)) O El número B está en la casilla (0)) O El número D está en la casilla (0)) O El número E está en la casilla (0)) O El número F está en la casilla (0)))) Y (El número C está en la casilla (1) >  no ((((((((((((((El número 0 está en la casilla (1) O El número 1 está en la casilla (1)) O El número 2 está en la casilla (1)) O El número 3 está en la casilla (1)) O El número 4 está en la casilla (1)) O El número 5 está en la casilla (1)) O El número 6 está en la casilla (1)) O El número 7 está en la casilla (1)) O El número 8 está en la casilla (1)) O El número 9 está en la casilla (1)) O El número A está en la casilla (1)) O El número B está en la casilla (1)) O El número D está en la casilla (1)) O El número E está en la casilla (1)) O El número F está en la casilla (1)))) Y (El número C está en la casilla (2) >  no ((((((((((((((El número 0 está en la casilla (2) O El número 1 está en la casilla (2)) O El número 2 está en la casilla (2)) O El número 3 está en la casilla (2)) O El número 4 está en la casilla (2)) O El número 5 está en la casilla (2)) O El número 6 está en la casilla (2)) O El número 7 está en la casilla (2)) O El número 8 está en la casilla (2)) O El número 9 está en la casilla (2)) O El número A está en la casilla (2)) O El número B está en la casilla (2)) O El número D está en la casilla (2)) O El número E está en la casilla (2)) O El número F está en la casilla (2)))) Y (El número C está en la casilla (3) >  no ((((((((((((((El número 0 está en la casilla (3) O El número 1 está en la casilla (3)) O El número 2 está en la casilla (3)) O El número 3 está en la casilla (3)) O El número 4 está en la casilla (3)) O El número 5 está en la casilla (3)) O El número 6 está en la casilla (3)) O El número 7 está en la casilla (3)) O El número 8 está en la casilla (3)) O El número 9 está en la casilla (3)) O El número A está en la casilla (3)) O El número B está en la casilla (3)) O El número D está en la casilla (3)) O El número E está en la casilla (3)) O El número F está en la casilla (3)))) Y (El número C está en la casilla (4) >  no ((((((((((((((El número 0 está en la casilla (4) O El número 1 está en la casilla (4)) O El número 2 está en la casilla (4)) O El número 3 está en la casilla (4)) O El número 4 está en la casilla (4)) O El número 5 está en la casilla (4)) O El número 6 está en la casilla (4)) O El número 7 está en la casilla (4)) O El número 8 está en la casilla (4)) O El número 9 está en la casilla (4)) O El número A está en la casilla (4)) O El número B está en la casilla (4)) O El número D está en la casilla (4)) O El número E está en la casilla (4)) O El número F está en la casilla (4)))) Y (El número D está en la casilla (0) >  no ((((((((((((((El número 0 está en la casilla (0) O El número 1 está en la casilla (0)) O El número 2 está en la casilla (0)) O El número 3 está en la casilla (0)) O El número 4 está en la casilla (0)) O El número 5 está en la casilla (0)) O El número 6 está en la casilla (0)) O El número 7 está en la casilla (0)) O El número 8 está en la casilla (0)) O El número 9 está en la casilla (0)) O El número A está en la casilla (0)) O El número B está en la casilla (0)) O El número C está en la casilla (0)) O El número E está en la casilla (0)) O El número F está en la casilla (0)))) Y (El número D está en la casilla (1) >  no ((((((((((((((El número 0 está en la casilla (1) O El número 1 está en la casilla (1)) O El número 2 está en la casilla (1)) O El número 3 está en la casilla (1)) O El número 4 está en la casilla (1)) O El número 5 está en la casilla (1)) O El número 6 está en la casilla (1)) O El número 7 está en la casilla (1)) O El número 8 está en la casilla (1)) O El número 9 está en la casilla (1)) O El número A está en la casilla (1)) O El número B está en la casilla (1)) O El número C está en la casilla (1)) O El número E está en la casilla (1)) O El número F está en la casilla (1)))) Y (El número D está en la casilla (2) >  no ((((((((((((((El número 0 está en la casilla (2) O El número 1 está en la casilla (2)) O El número 2 está en la casilla (2)) O El número 3 está en la casilla (2)) O El número 4 está en la casilla (2)) O El número 5 está en la casilla (2)) O El número 6 está en la casilla (2)) O El número 7 está en la casilla (2)) O El número 8 está en la casilla (2)) O El número 9 está en la casilla (2)) O El número A está en la casilla (2)) O El número B está en la casilla (2)) O El número C está en la casilla (2)) O El número E está en la casilla (2)) O El número F está en la casilla (2)))) Y (El número D está en la casilla (3) >  no ((((((((((((((El número 0 está en la casilla (3) O El número 1 está en la casilla (3)) O El número 2 está en la casilla (3)) O El número 3 está en la casilla (3)) O El número 4 está en la casilla (3)) O El número 5 está en la casilla (3)) O El número 6 está en la casilla (3)) O El número 7 está en la casilla (3)) O El número 8 está en la casilla (3)) O El número 9 está en la casilla (3)) O El número A está en la casilla (3)) O El número B está en la casilla (3)) O El número C está en la casilla (3)) O El número E está en la casilla (3)) O El número F está en la casilla (3)))) Y (El número D está en la casilla (4) >  no ((((((((((((((El número 0 está en la casilla (4) O El número 1 está en la casilla (4)) O El número 2 está en la casilla (4)) O El número 3 está en la casilla (4)) O El número 4 está en la casilla (4)) O El número 5 está en la casilla (4)) O El número 6 está en la casilla (4)) O El número 7 está en la casilla (4)) O El número 8 está en la casilla (4)) O El número 9 está en la casilla (4)) O El número A está en la casilla (4)) O El número B está en la casilla (4)) O El número C está en la casilla (4)) O El número E está en la casilla (4)) O El número F está en la casilla (4)))) Y (El número E está en la casilla (0) >  no ((((((((((((((El número 0 está en la casilla (0) O El número 1 está en la casilla (0)) O El número 2 está en la casilla (0)) O El número 3 está en la casilla (0)) O El número 4 está en la casilla (0)) O El número 5 está en la casilla (0)) O El número 6 está en la casilla (0)) O El número 7 está en la casilla (0)) O El número 8 está en la casilla (0)) O El número 9 está en la casilla (0)) O El número A está en la casilla (0)) O El número B está en la casilla (0)) O El número C está en la casilla (0)) O El número D está en la casilla (0)) O El número F está en la casilla (0)))) Y (El número E está en la casilla (1) >  no ((((((((((((((El número 0 está en la casilla (1) O El número 1 está en la casilla (1)) O El número 2 está en la casilla (1)) O El número 3 está en la casilla (1)) O El número 4 está en la casilla (1)) O El número 5 está en la casilla (1)) O El número 6 está en la casilla (1)) O El número 7 está en la casilla (1)) O El número 8 está en la casilla (1)) O El número 9 está en la casilla (1)) O El número A está en la casilla (1)) O El número B está en la casilla (1)) O El número C está en la casilla (1)) O El número D está en la casilla (1)) O El número F está en la casilla (1)))) Y (El número E está en la casilla (2) >  no ((((((((((((((El número 0 está en la casilla (2) O El número 1 está en la casilla (2)) O El número 2 está en la casilla (2)) O El número 3 está en la casilla (2)) O El número 4 está en la casilla (2)) O El número 5 está en la casilla (2)) O El número 6 está en la casilla (2)) O El número 7 está en la casilla (2)) O El número 8 está en la casilla (2)) O El número 9 está en la casilla (2)) O El número A está en la casilla (2)) O El número B está en la casilla (2)) O El número C está en la casilla (2)) O El número D está en la casilla (2)) O El número F está en la casilla (2)))) Y (El número E está en la casilla (3) >  no ((((((((((((((El número 0 está en la casilla (3) O El número 1 está en la casilla (3)) O El número 2 está en la casilla (3)) O El número 3 está en la casilla (3)) O El número 4 está en la casilla (3)) O El número 5 está en la casilla (3)) O El número 6 está en la casilla (3)) O El número 7 está en la casilla (3)) O El número 8 está en la casilla (3)) O El número 9 está en la casilla (3)) O El número A está en la casilla (3)) O El número B está en la casilla (3)) O El número C está en la casilla (3)) O El número D está en la casilla (3)) O El número F está en la casilla (3)))) Y (El número E está en la casilla (4) >  no ((((((((((((((El número 0 está en la casilla (4) O El número 1 está en la casilla (4)) O El número 2 está en la casilla (4)) O El número 3 está en la casilla (4)) O El número 4 está en la casilla (4)) O El número 5 está en la casilla (4)) O El número 6 está en la casilla (4)) O El número 7 está en la casilla (4)) O El número 8 está en la casilla (4)) O El número 9 está en la casilla (4)) O El número A está en la casilla (4)) O El número B está en la casilla (4)) O El número C está en la casilla (4)) O El número D está en la casilla (4)) O El número F está en la casilla (4)))) Y (El número F está en la casilla (0) >  no ((((((((((((((El número 0 está en la casilla (0) O El número 1 está en la casilla (0)) O El número 2 está en la casilla (0)) O El número 3 está en la casilla (0)) O El número 4 está en la casilla (0)) O El número 5 está en la casilla (0)) O El número 6 está en la casilla (0)) O El número 7 está en la casilla (0)) O El número 8 está en la casilla (0)) O El número 9 está en la casilla (0)) O El número A está en la casilla (0)) O El número B está en la casilla (0)) O El número C está en la casilla (0)) O El número D está en la casilla (0)) O El número E está en la casilla (0)))) Y (El número F está en la casilla (1) >  no ((((((((((((((El número 0 está en la casilla (1) O El número 1 está en la casilla (1)) O El número 2 está en la casilla (1)) O El número 3 está en la casilla (1)) O El número 4 está en la casilla (1)) O El número 5 está en la casilla (1)) O El número 6 está en la casilla (1)) O El número 7 está en la casilla (1)) O El número 8 está en la casilla (1)) O El número 9 está en la casilla (1)) O El número A está en la casilla (1)) O El número B está en la casilla (1)) O El número C está en la casilla (1)) O El número D está en la casilla (1)) O El número E está en la casilla (1)))) Y (El número F está en la casilla (2) >  no ((((((((((((((El número 0 está en la casilla (2) O El número 1 está en la casilla (2)) O El número 2 está en la casilla (2)) O El número 3 está en la casilla (2)) O El número 4 está en la casilla (2)) O El número 5 está en la casilla (2)) O El número 6 está en la casilla (2)) O El número 7 está en la casilla (2)) O El número 8 está en la casilla (2)) O El número 9 está en la casilla (2)) O El número A está en la casilla (2)) O El número B está en la casilla (2)) O El número C está en la casilla (2)) O El número D está en la casilla (2)) O El número E está en la casilla (2)))) Y (El número F está en la casilla (3) >  no ((((((((((((((El número 0 está en la casilla (3) O El número 1 está en la casilla (3)) O El número 2 está en la casilla (3)) O El número 3 está en la casilla (3)) O El número 4 está en la casilla (3)) O El número 5 está en la casilla (3)) O El número 6 está en la casilla (3)) O El número 7 está en la casilla (3)) O El número 8 está en la casilla (3)) O El número 9 está en la casilla (3)) O El número A está en la casilla (3)) O El número B está en la casilla (3)) O El número C está en la casilla (3)) O El número D está en la casilla (3)) O El número E está en la casilla (3)))) Y (El número F está en la casilla (4) >  no ((((((((((((((El número 0 está en la casilla (4) O El número 1 está en la casilla (4)) O El número 2 está en la casilla (4)) O El número 3 está en la casilla (4)) O El número 4 está en la casilla (4)) O El número 5 está en la casilla (4)) O El número 6 está en la casilla (4)) O El número 7 está en la casilla (4)) O El número 8 está en la casilla (4)) O El número 9 está en la casilla (4)) O El número A está en la casilla (4)) O El número B está en la casilla (4)) O El número C está en la casilla (4)) O El número D está en la casilla (4)) O El número E está en la casilla (4))))\n"
     ]
    }
   ],
   "source": [
    "from Logica import visualizar_formula\n",
    "\n",
    "print(visualizar_formula(formula8, CaracterenCasilla))"
   ]
  },
  {
   "cell_type": "markdown",
   "metadata": {},
   "source": [
    "# Implementación de Tablas De Verdad <a class=\"anchor\" id=\"imp\"></a>\n",
    "\n",
    "([Volver al inicio](#inicio))\n",
    "\n",
    "Ahora es necesario crear utilizar las reglas que creamos para el desarrollo de sus modelos y empezaremos con el metodo de tablas de verdad:\n"
   ]
  },
  {
   "cell_type": "code",
   "execution_count": 38,
   "metadata": {},
   "outputs": [],
   "source": [
    "from itertools import product\n",
    " \n",
    "#Creamos una función que nos retorne la lista de interpretaciones según la cantidad de atomos en la formula\n",
    "\n",
    "def interpretaciones_totales(formula):\n",
    "        I=[True,False]\n",
    "        atomos=formula.letras()\n",
    "        cantidad=len(atomos) #Cantidad de atomos\n",
    "        interpretaciones=list(product(I, repeat=cantidad))\n",
    "        return interpretaciones\n",
    "\n",
    "#Creamos una función que nos retorne una lista con los modelos \n",
    "\n",
    "def modelos(formula):\n",
    "    intepretaciones=interpretaciones_totales(formula)\n",
    "    model=[] #Lista con los modelos\n",
    "    atomos=formula.letras()\n",
    "    cantidad=len(atomos) #Cantidad de atomos\n",
    "    atomos=sorted(list(atomos)) #Atomos organizados\n",
    "    \n",
    "    for I in intepretaciones:\n",
    "        interpretacion={}\n",
    "        for i in range(0,cantidad):\n",
    "            interpretacion[atomos[i]]=I[i] #Le asignamos a cada atomo un valor de verdad\n",
    "        resultado=formula.valor(interpretacion)\n",
    "        if resultado==True:\n",
    "            return interpretacion #Si la interpretación es verdad, entonces se agrega a la lista de modelos\n",
    "    if model==[]:\n",
    "        return \"No hay modelos\"\n",
    "    else:\n",
    "        return \"Los modelos son: \" + str(model)\n"
   ]
  },
  {
   "cell_type": "code",
   "execution_count": 43,
   "metadata": {},
   "outputs": [
    {
     "data": {
      "image/png": "[encoded data removed]",
      "text/plain": [
       "<Figure size 500x100 with 1 Axes>"
      ]
     },
     "metadata": {},
     "output_type": "display_data"
    }
   ],
   "source": [
    "t3 = inorder_to_tree(formula3)\n",
    "t3 = modelos(t3)\n",
    "\n",
    "r = Rejilla()\n",
    "r.visualizar(t3)"
   ]
  },
  {
   "cell_type": "code",
   "execution_count": 44,
   "metadata": {},
   "outputs": [
    {
     "data": {
      "image/png": "[encoded data removed]",
      "text/plain": [
       "<Figure size 500x100 with 1 Axes>"
      ]
     },
     "metadata": {},
     "output_type": "display_data"
    }
   ],
   "source": [
    "t4 = inorder_to_tree(formula4)\n",
    "t4 = modelos(t4)\n",
    "\n",
    "r = Rejilla()\n",
    "r.visualizar(t4)"
   ]
  },
  {
   "cell_type": "code",
   "execution_count": 45,
   "metadata": {},
   "outputs": [
    {
     "data": {
      "image/png": "[encoded data removed]",
      "text/plain": [
       "<Figure size 500x100 with 1 Axes>"
      ]
     },
     "metadata": {},
     "output_type": "display_data"
    }
   ],
   "source": [
    "t5 = inorder_to_tree(formula5)\n",
    "t5 = modelos(t5)\n",
    "\n",
    "r = Rejilla()\n",
    "r.visualizar(t5)"
   ]
  },
  {
   "cell_type": "code",
   "execution_count": 46,
   "metadata": {},
   "outputs": [
    {
     "data": {
      "image/png": "[encoded data removed]",
      "text/plain": [
       "<Figure size 500x100 with 1 Axes>"
      ]
     },
     "metadata": {},
     "output_type": "display_data"
    }
   ],
   "source": [
    "t6 = inorder_to_tree(formula6)\n",
    "t6 = modelos(t6)\n",
    "\n",
    "r = Rejilla()\n",
    "r.visualizar(t6)"
   ]
  },
  {
   "cell_type": "code",
   "execution_count": 47,
   "metadata": {},
   "outputs": [
    {
     "data": {
      "image/png": "[encoded data removed]",
      "text/plain": [
       "<Figure size 500x100 with 1 Axes>"
      ]
     },
     "metadata": {},
     "output_type": "display_data"
    }
   ],
   "source": [
    "t7 = inorder_to_tree(formula7)\n",
    "t7 = modelos(t7)\n",
    "\n",
    "r = Rejilla()\n",
    "r.visualizar(t7)"
   ]
  },
  {
   "cell_type": "markdown",
   "metadata": {},
   "source": [
    "# Implementación de AD-SOLVER SAT TABLEUX <a class=\"anchor\" id=\"imp\"></a>\n",
    "\n",
    "([Volver al inicio](#inicio))\n",
    "\n",
    "Ahora es necesario crear utilizar las reglas que creamos para el desarrollo de sus modelos y empezaremos con el metodo de tableux:\n"
   ]
  },
  {
   "cell_type": "code",
   "execution_count": 21,
   "metadata": {},
   "outputs": [
    {
     "data": {
      "image/png": "[encoded data removed]",
      "text/plain": [
       "<Figure size 500x100 with 1 Axes>"
      ]
     },
     "metadata": {},
     "output_type": "display_data"
    }
   ],
   "source": [
    "from Logica import *\n",
    "\n",
    "A= inorder_to_tree(formula1)\n",
    "A = A.SATtableaux()\n",
    "\n",
    "\n",
    "r = Rejilla()\n",
    "r.visualizar(A[1])\n",
    "\n"
   ]
  },
  {
   "cell_type": "code",
   "execution_count": 119,
   "metadata": {},
   "outputs": [
    {
     "data": {
      "image/png": "[encoded data removed]",
      "text/plain": [
       "<Figure size 500x100 with 1 Axes>"
      ]
     },
     "metadata": {},
     "output_type": "display_data"
    }
   ],
   "source": [
    "from Logica import *\n",
    "\n",
    "B= inorder_to_tree(formula2)\n",
    "B = B.SATtableaux()\n",
    "\n",
    "\n",
    "\n",
    "r = Rejilla()\n",
    "r.visualizar(B[1])"
   ]
  },
  {
   "cell_type": "code",
   "execution_count": 120,
   "metadata": {},
   "outputs": [
    {
     "data": {
      "image/png": "[encoded data removed]",
      "text/plain": [
       "<Figure size 500x100 with 1 Axes>"
      ]
     },
     "metadata": {},
     "output_type": "display_data"
    }
   ],
   "source": [
    "from Logica import *\n",
    "\n",
    "C= inorder_to_tree(formula3)\n",
    "C= C.SATtableaux()\n",
    "r = Rejilla()\n",
    "r.visualizar(C[1])"
   ]
  },
  {
   "cell_type": "code",
   "execution_count": 121,
   "metadata": {},
   "outputs": [
    {
     "data": {
      "image/png": "[encoded data removed]",
      "text/plain": [
       "<Figure size 500x100 with 1 Axes>"
      ]
     },
     "metadata": {},
     "output_type": "display_data"
    }
   ],
   "source": [
    "from Logica import *\n",
    "\n",
    "D= inorder_to_tree(formula4)\n",
    "D = D.SATtableaux()\n",
    "r = Rejilla()\n",
    "r.visualizar(D[1])"
   ]
  },
  {
   "cell_type": "code",
   "execution_count": 124,
   "metadata": {},
   "outputs": [
    {
     "data": {
      "image/png": "[encoded data removed]",
      "text/plain": [
       "<Figure size 500x100 with 1 Axes>"
      ]
     },
     "metadata": {},
     "output_type": "display_data"
    }
   ],
   "source": [
    "from Logica import *\n",
    "\n",
    "E= inorder_to_tree(formula5)\n",
    "E= E.SATtableaux()\n",
    "\n",
    "r = Rejilla()\n",
    "r.visualizar(E[1])"
   ]
  },
  {
   "cell_type": "code",
   "execution_count": 125,
   "metadata": {},
   "outputs": [
    {
     "data": {
      "image/png": "[encoded data removed]",
      "text/plain": [
       "<Figure size 500x100 with 1 Axes>"
      ]
     },
     "metadata": {},
     "output_type": "display_data"
    }
   ],
   "source": [
    "from Logica import *\n",
    "\n",
    "F= inorder_to_tree(formula6)\n",
    "F= F.SATtableaux()\n",
    "\n",
    "r = Rejilla()\n",
    "r.visualizar(F[1])"
   ]
  },
  {
   "cell_type": "code",
   "execution_count": 126,
   "metadata": {},
   "outputs": [
    {
     "data": {
      "image/png": "[encoded data removed]",
      "text/plain": [
       "<Figure size 500x100 with 1 Axes>"
      ]
     },
     "metadata": {},
     "output_type": "display_data"
    }
   ],
   "source": [
    "from Logica import *\n",
    "\n",
    "G = inorder_to_tree(formula7)\n",
    "G= G.SATtableaux()\n",
    "\n",
    "r = Rejilla()\n",
    "r.visualizar(G[1])"
   ]
  },
  {
   "cell_type": "code",
   "execution_count": 22,
   "metadata": {},
   "outputs": [
    {
     "ename": "KeyboardInterrupt",
     "evalue": "",
     "output_type": "error",
     "traceback": [
      "\u001b[1;31m---------------------------------------------------------------------------\u001b[0m",
      "\u001b[1;31mKeyboardInterrupt\u001b[0m                         Traceback (most recent call last)",
      "\u001b[1;32mc:\\Users\\juand\\OneDrive\\Proyecto_Logica\\Notebook_proyecto.ipynb Cell 58\u001b[0m line \u001b[0;36m4\n\u001b[0;32m      <a href='vscode-notebook-cell:/c%3A/Users/juand/OneDrive/Proyecto_Logica/Notebook_proyecto.ipynb#Y111sZmlsZQ%3D%3D?line=0'>1</a>\u001b[0m \u001b[39mfrom\u001b[39;00m \u001b[39mLogica\u001b[39;00m \u001b[39mimport\u001b[39;00m \u001b[39m*\u001b[39m\n\u001b[0;32m      <a href='vscode-notebook-cell:/c%3A/Users/juand/OneDrive/Proyecto_Logica/Notebook_proyecto.ipynb#Y111sZmlsZQ%3D%3D?line=2'>3</a>\u001b[0m H \u001b[39m=\u001b[39m inorder_to_tree(formula8)\n\u001b[1;32m----> <a href='vscode-notebook-cell:/c%3A/Users/juand/OneDrive/Proyecto_Logica/Notebook_proyecto.ipynb#Y111sZmlsZQ%3D%3D?line=3'>4</a>\u001b[0m H\u001b[39m=\u001b[39m H\u001b[39m.\u001b[39;49mSATtableaux()\n\u001b[0;32m      <a href='vscode-notebook-cell:/c%3A/Users/juand/OneDrive/Proyecto_Logica/Notebook_proyecto.ipynb#Y111sZmlsZQ%3D%3D?line=5'>6</a>\u001b[0m r \u001b[39m=\u001b[39m Rejilla()\n\u001b[0;32m      <a href='vscode-notebook-cell:/c%3A/Users/juand/OneDrive/Proyecto_Logica/Notebook_proyecto.ipynb#Y111sZmlsZQ%3D%3D?line=6'>7</a>\u001b[0m r\u001b[39m.\u001b[39mvisualizar(H[\u001b[39m1\u001b[39m])\n",
      "File \u001b[1;32mc:\\Users\\juand\\OneDrive\\Proyecto_Logica\\Logica.py:347\u001b[0m, in \u001b[0;36mFormula.SATtableaux\u001b[1;34m(self)\u001b[0m\n\u001b[0;32m    344\u001b[0m estado \u001b[39m=\u001b[39m frontera\u001b[39m.\u001b[39mpop(\u001b[39m0\u001b[39m)\n\u001b[0;32m    345\u001b[0m \u001b[39m# print('Frontera:\\n', [str(x) for x in frontera])\u001b[39;00m\n\u001b[0;32m    346\u001b[0m \u001b[39m# print('Estado a explorar:\\n', str(estado))\u001b[39;00m\n\u001b[1;32m--> 347\u001b[0m hijos \u001b[39m=\u001b[39m estado\u001b[39m.\u001b[39;49mexpandir()\n\u001b[0;32m    348\u001b[0m \u001b[39mfor\u001b[39;00m a \u001b[39min\u001b[39;00m hijos:\n\u001b[0;32m    349\u001b[0m     \u001b[39mif\u001b[39;00m a \u001b[39m!=\u001b[39m \u001b[39mNone\u001b[39;00m:\n",
      "File \u001b[1;32mc:\\Users\\juand\\OneDrive\\Proyecto_Logica\\Logica.py:553\u001b[0m, in \u001b[0;36mnodos_tableaux.expandir\u001b[1;34m(self)\u001b[0m\n\u001b[0;32m    551\u001b[0m \u001b[39m\u001b[39m\u001b[39m'''Escoge última alfa, si no última beta, si no None'''\u001b[39;00m\n\u001b[0;32m    552\u001b[0m f_alfas \u001b[39m=\u001b[39m deepcopy(\u001b[39mself\u001b[39m\u001b[39m.\u001b[39malfas)\n\u001b[1;32m--> 553\u001b[0m f_betas \u001b[39m=\u001b[39m deepcopy(\u001b[39mself\u001b[39;49m\u001b[39m.\u001b[39;49mbetas)\n\u001b[0;32m    554\u001b[0m f_literales \u001b[39m=\u001b[39m deepcopy(\u001b[39mself\u001b[39m\u001b[39m.\u001b[39mliterales)\n\u001b[0;32m    555\u001b[0m \u001b[39mif\u001b[39;00m \u001b[39mlen\u001b[39m(\u001b[39mself\u001b[39m\u001b[39m.\u001b[39malfas) \u001b[39m>\u001b[39m \u001b[39m0\u001b[39m:\n",
      "File \u001b[1;32mC:\\Program Files\\WindowsApps\\PythonSoftwareFoundation.Python.3.10_3.10.3056.0_x64__qbz5n2kfra8p0\\lib\\copy.py:146\u001b[0m, in \u001b[0;36mdeepcopy\u001b[1;34m(x, memo, _nil)\u001b[0m\n\u001b[0;32m    144\u001b[0m copier \u001b[39m=\u001b[39m _deepcopy_dispatch\u001b[39m.\u001b[39mget(\u001b[39mcls\u001b[39m)\n\u001b[0;32m    145\u001b[0m \u001b[39mif\u001b[39;00m copier \u001b[39mis\u001b[39;00m \u001b[39mnot\u001b[39;00m \u001b[39mNone\u001b[39;00m:\n\u001b[1;32m--> 146\u001b[0m     y \u001b[39m=\u001b[39m copier(x, memo)\n\u001b[0;32m    147\u001b[0m \u001b[39melse\u001b[39;00m:\n\u001b[0;32m    148\u001b[0m     \u001b[39mif\u001b[39;00m \u001b[39missubclass\u001b[39m(\u001b[39mcls\u001b[39m, \u001b[39mtype\u001b[39m):\n",
      "File \u001b[1;32mC:\\Program Files\\WindowsApps\\PythonSoftwareFoundation.Python.3.10_3.10.3056.0_x64__qbz5n2kfra8p0\\lib\\copy.py:206\u001b[0m, in \u001b[0;36m_deepcopy_list\u001b[1;34m(x, memo, deepcopy)\u001b[0m\n\u001b[0;32m    204\u001b[0m append \u001b[39m=\u001b[39m y\u001b[39m.\u001b[39mappend\n\u001b[0;32m    205\u001b[0m \u001b[39mfor\u001b[39;00m a \u001b[39min\u001b[39;00m x:\n\u001b[1;32m--> 206\u001b[0m     append(deepcopy(a, memo))\n\u001b[0;32m    207\u001b[0m \u001b[39mreturn\u001b[39;00m y\n",
      "File \u001b[1;32mC:\\Program Files\\WindowsApps\\PythonSoftwareFoundation.Python.3.10_3.10.3056.0_x64__qbz5n2kfra8p0\\lib\\copy.py:146\u001b[0m, in \u001b[0;36mdeepcopy\u001b[1;34m(x, memo, _nil)\u001b[0m\n\u001b[0;32m    144\u001b[0m copier \u001b[39m=\u001b[39m _deepcopy_dispatch\u001b[39m.\u001b[39mget(\u001b[39mcls\u001b[39m)\n\u001b[0;32m    145\u001b[0m \u001b[39mif\u001b[39;00m copier \u001b[39mis\u001b[39;00m \u001b[39mnot\u001b[39;00m \u001b[39mNone\u001b[39;00m:\n\u001b[1;32m--> 146\u001b[0m     y \u001b[39m=\u001b[39m copier(x, memo)\n\u001b[0;32m    147\u001b[0m \u001b[39melse\u001b[39;00m:\n\u001b[0;32m    148\u001b[0m     \u001b[39mif\u001b[39;00m \u001b[39missubclass\u001b[39m(\u001b[39mcls\u001b[39m, \u001b[39mtype\u001b[39m):\n",
      "File \u001b[1;32mC:\\Program Files\\WindowsApps\\PythonSoftwareFoundation.Python.3.10_3.10.3056.0_x64__qbz5n2kfra8p0\\lib\\copy.py:211\u001b[0m, in \u001b[0;36m_deepcopy_tuple\u001b[1;34m(x, memo, deepcopy)\u001b[0m\n\u001b[0;32m    210\u001b[0m \u001b[39mdef\u001b[39;00m \u001b[39m_deepcopy_tuple\u001b[39m(x, memo, deepcopy\u001b[39m=\u001b[39mdeepcopy):\n\u001b[1;32m--> 211\u001b[0m     y \u001b[39m=\u001b[39m [deepcopy(a, memo) \u001b[39mfor\u001b[39;00m a \u001b[39min\u001b[39;00m x]\n\u001b[0;32m    212\u001b[0m     \u001b[39m# We're not going to put the tuple in the memo, but it's still important we\u001b[39;00m\n\u001b[0;32m    213\u001b[0m     \u001b[39m# check for it, in case the tuple contains recursive mutable structures.\u001b[39;00m\n\u001b[0;32m    214\u001b[0m     \u001b[39mtry\u001b[39;00m:\n",
      "File \u001b[1;32mC:\\Program Files\\WindowsApps\\PythonSoftwareFoundation.Python.3.10_3.10.3056.0_x64__qbz5n2kfra8p0\\lib\\copy.py:211\u001b[0m, in \u001b[0;36m<listcomp>\u001b[1;34m(.0)\u001b[0m\n\u001b[0;32m    210\u001b[0m \u001b[39mdef\u001b[39;00m \u001b[39m_deepcopy_tuple\u001b[39m(x, memo, deepcopy\u001b[39m=\u001b[39mdeepcopy):\n\u001b[1;32m--> 211\u001b[0m     y \u001b[39m=\u001b[39m [deepcopy(a, memo) \u001b[39mfor\u001b[39;00m a \u001b[39min\u001b[39;00m x]\n\u001b[0;32m    212\u001b[0m     \u001b[39m# We're not going to put the tuple in the memo, but it's still important we\u001b[39;00m\n\u001b[0;32m    213\u001b[0m     \u001b[39m# check for it, in case the tuple contains recursive mutable structures.\u001b[39;00m\n\u001b[0;32m    214\u001b[0m     \u001b[39mtry\u001b[39;00m:\n",
      "File \u001b[1;32mC:\\Program Files\\WindowsApps\\PythonSoftwareFoundation.Python.3.10_3.10.3056.0_x64__qbz5n2kfra8p0\\lib\\copy.py:172\u001b[0m, in \u001b[0;36mdeepcopy\u001b[1;34m(x, memo, _nil)\u001b[0m\n\u001b[0;32m    170\u001b[0m                 y \u001b[39m=\u001b[39m x\n\u001b[0;32m    171\u001b[0m             \u001b[39melse\u001b[39;00m:\n\u001b[1;32m--> 172\u001b[0m                 y \u001b[39m=\u001b[39m _reconstruct(x, memo, \u001b[39m*\u001b[39;49mrv)\n\u001b[0;32m    174\u001b[0m \u001b[39m# If is its own copy, don't memoize.\u001b[39;00m\n\u001b[0;32m    175\u001b[0m \u001b[39mif\u001b[39;00m y \u001b[39mis\u001b[39;00m \u001b[39mnot\u001b[39;00m x:\n",
      "File \u001b[1;32mC:\\Program Files\\WindowsApps\\PythonSoftwareFoundation.Python.3.10_3.10.3056.0_x64__qbz5n2kfra8p0\\lib\\copy.py:271\u001b[0m, in \u001b[0;36m_reconstruct\u001b[1;34m(x, memo, func, args, state, listiter, dictiter, deepcopy)\u001b[0m\n\u001b[0;32m    269\u001b[0m \u001b[39mif\u001b[39;00m state \u001b[39mis\u001b[39;00m \u001b[39mnot\u001b[39;00m \u001b[39mNone\u001b[39;00m:\n\u001b[0;32m    270\u001b[0m     \u001b[39mif\u001b[39;00m deep:\n\u001b[1;32m--> 271\u001b[0m         state \u001b[39m=\u001b[39m deepcopy(state, memo)\n\u001b[0;32m    272\u001b[0m     \u001b[39mif\u001b[39;00m \u001b[39mhasattr\u001b[39m(y, \u001b[39m'\u001b[39m\u001b[39m__setstate__\u001b[39m\u001b[39m'\u001b[39m):\n\u001b[0;32m    273\u001b[0m         y\u001b[39m.\u001b[39m__setstate__(state)\n",
      "File \u001b[1;32mC:\\Program Files\\WindowsApps\\PythonSoftwareFoundation.Python.3.10_3.10.3056.0_x64__qbz5n2kfra8p0\\lib\\copy.py:146\u001b[0m, in \u001b[0;36mdeepcopy\u001b[1;34m(x, memo, _nil)\u001b[0m\n\u001b[0;32m    144\u001b[0m copier \u001b[39m=\u001b[39m _deepcopy_dispatch\u001b[39m.\u001b[39mget(\u001b[39mcls\u001b[39m)\n\u001b[0;32m    145\u001b[0m \u001b[39mif\u001b[39;00m copier \u001b[39mis\u001b[39;00m \u001b[39mnot\u001b[39;00m \u001b[39mNone\u001b[39;00m:\n\u001b[1;32m--> 146\u001b[0m     y \u001b[39m=\u001b[39m copier(x, memo)\n\u001b[0;32m    147\u001b[0m \u001b[39melse\u001b[39;00m:\n\u001b[0;32m    148\u001b[0m     \u001b[39mif\u001b[39;00m \u001b[39missubclass\u001b[39m(\u001b[39mcls\u001b[39m, \u001b[39mtype\u001b[39m):\n",
      "File \u001b[1;32mC:\\Program Files\\WindowsApps\\PythonSoftwareFoundation.Python.3.10_3.10.3056.0_x64__qbz5n2kfra8p0\\lib\\copy.py:231\u001b[0m, in \u001b[0;36m_deepcopy_dict\u001b[1;34m(x, memo, deepcopy)\u001b[0m\n\u001b[0;32m    229\u001b[0m memo[\u001b[39mid\u001b[39m(x)] \u001b[39m=\u001b[39m y\n\u001b[0;32m    230\u001b[0m \u001b[39mfor\u001b[39;00m key, value \u001b[39min\u001b[39;00m x\u001b[39m.\u001b[39mitems():\n\u001b[1;32m--> 231\u001b[0m     y[deepcopy(key, memo)] \u001b[39m=\u001b[39m deepcopy(value, memo)\n\u001b[0;32m    232\u001b[0m \u001b[39mreturn\u001b[39;00m y\n",
      "File \u001b[1;32mC:\\Program Files\\WindowsApps\\PythonSoftwareFoundation.Python.3.10_3.10.3056.0_x64__qbz5n2kfra8p0\\lib\\copy.py:172\u001b[0m, in \u001b[0;36mdeepcopy\u001b[1;34m(x, memo, _nil)\u001b[0m\n\u001b[0;32m    170\u001b[0m                 y \u001b[39m=\u001b[39m x\n\u001b[0;32m    171\u001b[0m             \u001b[39melse\u001b[39;00m:\n\u001b[1;32m--> 172\u001b[0m                 y \u001b[39m=\u001b[39m _reconstruct(x, memo, \u001b[39m*\u001b[39;49mrv)\n\u001b[0;32m    174\u001b[0m \u001b[39m# If is its own copy, don't memoize.\u001b[39;00m\n\u001b[0;32m    175\u001b[0m \u001b[39mif\u001b[39;00m y \u001b[39mis\u001b[39;00m \u001b[39mnot\u001b[39;00m x:\n",
      "File \u001b[1;32mC:\\Program Files\\WindowsApps\\PythonSoftwareFoundation.Python.3.10_3.10.3056.0_x64__qbz5n2kfra8p0\\lib\\copy.py:271\u001b[0m, in \u001b[0;36m_reconstruct\u001b[1;34m(x, memo, func, args, state, listiter, dictiter, deepcopy)\u001b[0m\n\u001b[0;32m    269\u001b[0m \u001b[39mif\u001b[39;00m state \u001b[39mis\u001b[39;00m \u001b[39mnot\u001b[39;00m \u001b[39mNone\u001b[39;00m:\n\u001b[0;32m    270\u001b[0m     \u001b[39mif\u001b[39;00m deep:\n\u001b[1;32m--> 271\u001b[0m         state \u001b[39m=\u001b[39m deepcopy(state, memo)\n\u001b[0;32m    272\u001b[0m     \u001b[39mif\u001b[39;00m \u001b[39mhasattr\u001b[39m(y, \u001b[39m'\u001b[39m\u001b[39m__setstate__\u001b[39m\u001b[39m'\u001b[39m):\n\u001b[0;32m    273\u001b[0m         y\u001b[39m.\u001b[39m__setstate__(state)\n",
      "File \u001b[1;32mC:\\Program Files\\WindowsApps\\PythonSoftwareFoundation.Python.3.10_3.10.3056.0_x64__qbz5n2kfra8p0\\lib\\copy.py:146\u001b[0m, in \u001b[0;36mdeepcopy\u001b[1;34m(x, memo, _nil)\u001b[0m\n\u001b[0;32m    144\u001b[0m copier \u001b[39m=\u001b[39m _deepcopy_dispatch\u001b[39m.\u001b[39mget(\u001b[39mcls\u001b[39m)\n\u001b[0;32m    145\u001b[0m \u001b[39mif\u001b[39;00m copier \u001b[39mis\u001b[39;00m \u001b[39mnot\u001b[39;00m \u001b[39mNone\u001b[39;00m:\n\u001b[1;32m--> 146\u001b[0m     y \u001b[39m=\u001b[39m copier(x, memo)\n\u001b[0;32m    147\u001b[0m \u001b[39melse\u001b[39;00m:\n\u001b[0;32m    148\u001b[0m     \u001b[39mif\u001b[39;00m \u001b[39missubclass\u001b[39m(\u001b[39mcls\u001b[39m, \u001b[39mtype\u001b[39m):\n",
      "File \u001b[1;32mC:\\Program Files\\WindowsApps\\PythonSoftwareFoundation.Python.3.10_3.10.3056.0_x64__qbz5n2kfra8p0\\lib\\copy.py:231\u001b[0m, in \u001b[0;36m_deepcopy_dict\u001b[1;34m(x, memo, deepcopy)\u001b[0m\n\u001b[0;32m    229\u001b[0m memo[\u001b[39mid\u001b[39m(x)] \u001b[39m=\u001b[39m y\n\u001b[0;32m    230\u001b[0m \u001b[39mfor\u001b[39;00m key, value \u001b[39min\u001b[39;00m x\u001b[39m.\u001b[39mitems():\n\u001b[1;32m--> 231\u001b[0m     y[deepcopy(key, memo)] \u001b[39m=\u001b[39m deepcopy(value, memo)\n\u001b[0;32m    232\u001b[0m \u001b[39mreturn\u001b[39;00m y\n",
      "    \u001b[1;31m[... skipping similar frames: deepcopy at line 172 (12 times), _deepcopy_dict at line 231 (11 times), _reconstruct at line 271 (11 times), deepcopy at line 146 (11 times)]\u001b[0m\n",
      "File \u001b[1;32mC:\\Program Files\\WindowsApps\\PythonSoftwareFoundation.Python.3.10_3.10.3056.0_x64__qbz5n2kfra8p0\\lib\\copy.py:271\u001b[0m, in \u001b[0;36m_reconstruct\u001b[1;34m(x, memo, func, args, state, listiter, dictiter, deepcopy)\u001b[0m\n\u001b[0;32m    269\u001b[0m \u001b[39mif\u001b[39;00m state \u001b[39mis\u001b[39;00m \u001b[39mnot\u001b[39;00m \u001b[39mNone\u001b[39;00m:\n\u001b[0;32m    270\u001b[0m     \u001b[39mif\u001b[39;00m deep:\n\u001b[1;32m--> 271\u001b[0m         state \u001b[39m=\u001b[39m deepcopy(state, memo)\n\u001b[0;32m    272\u001b[0m     \u001b[39mif\u001b[39;00m \u001b[39mhasattr\u001b[39m(y, \u001b[39m'\u001b[39m\u001b[39m__setstate__\u001b[39m\u001b[39m'\u001b[39m):\n\u001b[0;32m    273\u001b[0m         y\u001b[39m.\u001b[39m__setstate__(state)\n",
      "File \u001b[1;32mC:\\Program Files\\WindowsApps\\PythonSoftwareFoundation.Python.3.10_3.10.3056.0_x64__qbz5n2kfra8p0\\lib\\copy.py:146\u001b[0m, in \u001b[0;36mdeepcopy\u001b[1;34m(x, memo, _nil)\u001b[0m\n\u001b[0;32m    144\u001b[0m copier \u001b[39m=\u001b[39m _deepcopy_dispatch\u001b[39m.\u001b[39mget(\u001b[39mcls\u001b[39m)\n\u001b[0;32m    145\u001b[0m \u001b[39mif\u001b[39;00m copier \u001b[39mis\u001b[39;00m \u001b[39mnot\u001b[39;00m \u001b[39mNone\u001b[39;00m:\n\u001b[1;32m--> 146\u001b[0m     y \u001b[39m=\u001b[39m copier(x, memo)\n\u001b[0;32m    147\u001b[0m \u001b[39melse\u001b[39;00m:\n\u001b[0;32m    148\u001b[0m     \u001b[39mif\u001b[39;00m \u001b[39missubclass\u001b[39m(\u001b[39mcls\u001b[39m, \u001b[39mtype\u001b[39m):\n",
      "File \u001b[1;32mC:\\Program Files\\WindowsApps\\PythonSoftwareFoundation.Python.3.10_3.10.3056.0_x64__qbz5n2kfra8p0\\lib\\copy.py:231\u001b[0m, in \u001b[0;36m_deepcopy_dict\u001b[1;34m(x, memo, deepcopy)\u001b[0m\n\u001b[0;32m    229\u001b[0m memo[\u001b[39mid\u001b[39m(x)] \u001b[39m=\u001b[39m y\n\u001b[0;32m    230\u001b[0m \u001b[39mfor\u001b[39;00m key, value \u001b[39min\u001b[39;00m x\u001b[39m.\u001b[39mitems():\n\u001b[1;32m--> 231\u001b[0m     y[deepcopy(key, memo)] \u001b[39m=\u001b[39m deepcopy(value, memo)\n\u001b[0;32m    232\u001b[0m \u001b[39mreturn\u001b[39;00m y\n",
      "File \u001b[1;32mC:\\Program Files\\WindowsApps\\PythonSoftwareFoundation.Python.3.10_3.10.3056.0_x64__qbz5n2kfra8p0\\lib\\copy.py:172\u001b[0m, in \u001b[0;36mdeepcopy\u001b[1;34m(x, memo, _nil)\u001b[0m\n\u001b[0;32m    170\u001b[0m                 y \u001b[39m=\u001b[39m x\n\u001b[0;32m    171\u001b[0m             \u001b[39melse\u001b[39;00m:\n\u001b[1;32m--> 172\u001b[0m                 y \u001b[39m=\u001b[39m _reconstruct(x, memo, \u001b[39m*\u001b[39;49mrv)\n\u001b[0;32m    174\u001b[0m \u001b[39m# If is its own copy, don't memoize.\u001b[39;00m\n\u001b[0;32m    175\u001b[0m \u001b[39mif\u001b[39;00m y \u001b[39mis\u001b[39;00m \u001b[39mnot\u001b[39;00m x:\n",
      "File \u001b[1;32mC:\\Program Files\\WindowsApps\\PythonSoftwareFoundation.Python.3.10_3.10.3056.0_x64__qbz5n2kfra8p0\\lib\\copy.py:265\u001b[0m, in \u001b[0;36m_reconstruct\u001b[1;34m(x, memo, func, args, state, listiter, dictiter, deepcopy)\u001b[0m\n\u001b[0;32m    263\u001b[0m \u001b[39mif\u001b[39;00m deep \u001b[39mand\u001b[39;00m args:\n\u001b[0;32m    264\u001b[0m     args \u001b[39m=\u001b[39m (deepcopy(arg, memo) \u001b[39mfor\u001b[39;00m arg \u001b[39min\u001b[39;00m args)\n\u001b[1;32m--> 265\u001b[0m y \u001b[39m=\u001b[39m func(\u001b[39m*\u001b[39;49margs)\n\u001b[0;32m    266\u001b[0m \u001b[39mif\u001b[39;00m deep:\n\u001b[0;32m    267\u001b[0m     memo[\u001b[39mid\u001b[39m(x)] \u001b[39m=\u001b[39m y\n",
      "File \u001b[1;32mC:\\Program Files\\WindowsApps\\PythonSoftwareFoundation.Python.3.10_3.10.3056.0_x64__qbz5n2kfra8p0\\lib\\copy.py:264\u001b[0m, in \u001b[0;36m<genexpr>\u001b[1;34m(.0)\u001b[0m\n\u001b[0;32m    262\u001b[0m deep \u001b[39m=\u001b[39m memo \u001b[39mis\u001b[39;00m \u001b[39mnot\u001b[39;00m \u001b[39mNone\u001b[39;00m\n\u001b[0;32m    263\u001b[0m \u001b[39mif\u001b[39;00m deep \u001b[39mand\u001b[39;00m args:\n\u001b[1;32m--> 264\u001b[0m     args \u001b[39m=\u001b[39m (deepcopy(arg, memo) \u001b[39mfor\u001b[39;00m arg \u001b[39min\u001b[39;00m args)\n\u001b[0;32m    265\u001b[0m y \u001b[39m=\u001b[39m func(\u001b[39m*\u001b[39margs)\n\u001b[0;32m    266\u001b[0m \u001b[39mif\u001b[39;00m deep:\n",
      "\u001b[1;31mKeyboardInterrupt\u001b[0m: "
     ]
    }
   ],
   "source": [
    "from Logica import *\n",
    "\n",
    "H = inorder_to_tree(formula8)\n",
    "H= H.SATtableaux()\n",
    "\n",
    "r = Rejilla()\n",
    "r.visualizar(H[1])"
   ]
  },
  {
   "cell_type": "code",
   "execution_count": 16,
   "metadata": {},
   "outputs": [
    {
     "ename": "KeyboardInterrupt",
     "evalue": "",
     "output_type": "error",
     "traceback": [
      "\u001b[1;31m---------------------------------------------------------------------------\u001b[0m",
      "\u001b[1;31mKeyboardInterrupt\u001b[0m                         Traceback (most recent call last)",
      "\u001b[1;32mc:\\Users\\juand\\OneDrive\\Proyecto_Logica\\Notebook_proyecto.ipynb Cell 59\u001b[0m line \u001b[0;36m9\n\u001b[0;32m      <a href='vscode-notebook-cell:/c%3A/Users/juand/OneDrive/Proyecto_Logica/Notebook_proyecto.ipynb#Y112sZmlsZQ%3D%3D?line=4'>5</a>\u001b[0m Itoria_formulas \u001b[39m=\u001b[39m Ytoria(Itoria_formulas)\n\u001b[0;32m      <a href='vscode-notebook-cell:/c%3A/Users/juand/OneDrive/Proyecto_Logica/Notebook_proyecto.ipynb#Y112sZmlsZQ%3D%3D?line=6'>7</a>\u001b[0m Itoria_formulas \u001b[39m=\u001b[39m inorder_to_tree(Itoria_formulas)\n\u001b[1;32m----> <a href='vscode-notebook-cell:/c%3A/Users/juand/OneDrive/Proyecto_Logica/Notebook_proyecto.ipynb#Y112sZmlsZQ%3D%3D?line=8'>9</a>\u001b[0m I_final \u001b[39m=\u001b[39m Itoria_formulas\u001b[39m.\u001b[39;49mSATtableaux()\n\u001b[0;32m     <a href='vscode-notebook-cell:/c%3A/Users/juand/OneDrive/Proyecto_Logica/Notebook_proyecto.ipynb#Y112sZmlsZQ%3D%3D?line=10'>11</a>\u001b[0m r \u001b[39m=\u001b[39m Rejilla()\n\u001b[0;32m     <a href='vscode-notebook-cell:/c%3A/Users/juand/OneDrive/Proyecto_Logica/Notebook_proyecto.ipynb#Y112sZmlsZQ%3D%3D?line=11'>12</a>\u001b[0m r\u001b[39m.\u001b[39mvisualizar(I_final[\u001b[39m1\u001b[39m])\n",
      "File \u001b[1;32mc:\\Users\\juand\\OneDrive\\Proyecto_Logica\\Logica.py:347\u001b[0m, in \u001b[0;36mFormula.SATtableaux\u001b[1;34m(self)\u001b[0m\n\u001b[0;32m    344\u001b[0m estado \u001b[39m=\u001b[39m frontera\u001b[39m.\u001b[39mpop(\u001b[39m0\u001b[39m)\n\u001b[0;32m    345\u001b[0m \u001b[39m# print('Frontera:\\n', [str(x) for x in frontera])\u001b[39;00m\n\u001b[0;32m    346\u001b[0m \u001b[39m# print('Estado a explorar:\\n', str(estado))\u001b[39;00m\n\u001b[1;32m--> 347\u001b[0m hijos \u001b[39m=\u001b[39m estado\u001b[39m.\u001b[39;49mexpandir()\n\u001b[0;32m    348\u001b[0m \u001b[39mfor\u001b[39;00m a \u001b[39min\u001b[39;00m hijos:\n\u001b[0;32m    349\u001b[0m     \u001b[39mif\u001b[39;00m a \u001b[39m!=\u001b[39m \u001b[39mNone\u001b[39;00m:\n",
      "File \u001b[1;32mc:\\Users\\juand\\OneDrive\\Proyecto_Logica\\Logica.py:553\u001b[0m, in \u001b[0;36mnodos_tableaux.expandir\u001b[1;34m(self)\u001b[0m\n\u001b[0;32m    551\u001b[0m \u001b[39m\u001b[39m\u001b[39m'''Escoge última alfa, si no última beta, si no None'''\u001b[39;00m\n\u001b[0;32m    552\u001b[0m f_alfas \u001b[39m=\u001b[39m deepcopy(\u001b[39mself\u001b[39m\u001b[39m.\u001b[39malfas)\n\u001b[1;32m--> 553\u001b[0m f_betas \u001b[39m=\u001b[39m deepcopy(\u001b[39mself\u001b[39;49m\u001b[39m.\u001b[39;49mbetas)\n\u001b[0;32m    554\u001b[0m f_literales \u001b[39m=\u001b[39m deepcopy(\u001b[39mself\u001b[39m\u001b[39m.\u001b[39mliterales)\n\u001b[0;32m    555\u001b[0m \u001b[39mif\u001b[39;00m \u001b[39mlen\u001b[39m(\u001b[39mself\u001b[39m\u001b[39m.\u001b[39malfas) \u001b[39m>\u001b[39m \u001b[39m0\u001b[39m:\n",
      "File \u001b[1;32mC:\\Program Files\\WindowsApps\\PythonSoftwareFoundation.Python.3.10_3.10.3056.0_x64__qbz5n2kfra8p0\\lib\\copy.py:146\u001b[0m, in \u001b[0;36mdeepcopy\u001b[1;34m(x, memo, _nil)\u001b[0m\n\u001b[0;32m    144\u001b[0m copier \u001b[39m=\u001b[39m _deepcopy_dispatch\u001b[39m.\u001b[39mget(\u001b[39mcls\u001b[39m)\n\u001b[0;32m    145\u001b[0m \u001b[39mif\u001b[39;00m copier \u001b[39mis\u001b[39;00m \u001b[39mnot\u001b[39;00m \u001b[39mNone\u001b[39;00m:\n\u001b[1;32m--> 146\u001b[0m     y \u001b[39m=\u001b[39m copier(x, memo)\n\u001b[0;32m    147\u001b[0m \u001b[39melse\u001b[39;00m:\n\u001b[0;32m    148\u001b[0m     \u001b[39mif\u001b[39;00m \u001b[39missubclass\u001b[39m(\u001b[39mcls\u001b[39m, \u001b[39mtype\u001b[39m):\n",
      "File \u001b[1;32mC:\\Program Files\\WindowsApps\\PythonSoftwareFoundation.Python.3.10_3.10.3056.0_x64__qbz5n2kfra8p0\\lib\\copy.py:206\u001b[0m, in \u001b[0;36m_deepcopy_list\u001b[1;34m(x, memo, deepcopy)\u001b[0m\n\u001b[0;32m    204\u001b[0m append \u001b[39m=\u001b[39m y\u001b[39m.\u001b[39mappend\n\u001b[0;32m    205\u001b[0m \u001b[39mfor\u001b[39;00m a \u001b[39min\u001b[39;00m x:\n\u001b[1;32m--> 206\u001b[0m     append(deepcopy(a, memo))\n\u001b[0;32m    207\u001b[0m \u001b[39mreturn\u001b[39;00m y\n",
      "File \u001b[1;32mC:\\Program Files\\WindowsApps\\PythonSoftwareFoundation.Python.3.10_3.10.3056.0_x64__qbz5n2kfra8p0\\lib\\copy.py:146\u001b[0m, in \u001b[0;36mdeepcopy\u001b[1;34m(x, memo, _nil)\u001b[0m\n\u001b[0;32m    144\u001b[0m copier \u001b[39m=\u001b[39m _deepcopy_dispatch\u001b[39m.\u001b[39mget(\u001b[39mcls\u001b[39m)\n\u001b[0;32m    145\u001b[0m \u001b[39mif\u001b[39;00m copier \u001b[39mis\u001b[39;00m \u001b[39mnot\u001b[39;00m \u001b[39mNone\u001b[39;00m:\n\u001b[1;32m--> 146\u001b[0m     y \u001b[39m=\u001b[39m copier(x, memo)\n\u001b[0;32m    147\u001b[0m \u001b[39melse\u001b[39;00m:\n\u001b[0;32m    148\u001b[0m     \u001b[39mif\u001b[39;00m \u001b[39missubclass\u001b[39m(\u001b[39mcls\u001b[39m, \u001b[39mtype\u001b[39m):\n",
      "File \u001b[1;32mC:\\Program Files\\WindowsApps\\PythonSoftwareFoundation.Python.3.10_3.10.3056.0_x64__qbz5n2kfra8p0\\lib\\copy.py:211\u001b[0m, in \u001b[0;36m_deepcopy_tuple\u001b[1;34m(x, memo, deepcopy)\u001b[0m\n\u001b[0;32m    210\u001b[0m \u001b[39mdef\u001b[39;00m \u001b[39m_deepcopy_tuple\u001b[39m(x, memo, deepcopy\u001b[39m=\u001b[39mdeepcopy):\n\u001b[1;32m--> 211\u001b[0m     y \u001b[39m=\u001b[39m [deepcopy(a, memo) \u001b[39mfor\u001b[39;00m a \u001b[39min\u001b[39;00m x]\n\u001b[0;32m    212\u001b[0m     \u001b[39m# We're not going to put the tuple in the memo, but it's still important we\u001b[39;00m\n\u001b[0;32m    213\u001b[0m     \u001b[39m# check for it, in case the tuple contains recursive mutable structures.\u001b[39;00m\n\u001b[0;32m    214\u001b[0m     \u001b[39mtry\u001b[39;00m:\n",
      "File \u001b[1;32mC:\\Program Files\\WindowsApps\\PythonSoftwareFoundation.Python.3.10_3.10.3056.0_x64__qbz5n2kfra8p0\\lib\\copy.py:211\u001b[0m, in \u001b[0;36m<listcomp>\u001b[1;34m(.0)\u001b[0m\n\u001b[0;32m    210\u001b[0m \u001b[39mdef\u001b[39;00m \u001b[39m_deepcopy_tuple\u001b[39m(x, memo, deepcopy\u001b[39m=\u001b[39mdeepcopy):\n\u001b[1;32m--> 211\u001b[0m     y \u001b[39m=\u001b[39m [deepcopy(a, memo) \u001b[39mfor\u001b[39;00m a \u001b[39min\u001b[39;00m x]\n\u001b[0;32m    212\u001b[0m     \u001b[39m# We're not going to put the tuple in the memo, but it's still important we\u001b[39;00m\n\u001b[0;32m    213\u001b[0m     \u001b[39m# check for it, in case the tuple contains recursive mutable structures.\u001b[39;00m\n\u001b[0;32m    214\u001b[0m     \u001b[39mtry\u001b[39;00m:\n",
      "File \u001b[1;32mC:\\Program Files\\WindowsApps\\PythonSoftwareFoundation.Python.3.10_3.10.3056.0_x64__qbz5n2kfra8p0\\lib\\copy.py:172\u001b[0m, in \u001b[0;36mdeepcopy\u001b[1;34m(x, memo, _nil)\u001b[0m\n\u001b[0;32m    170\u001b[0m                 y \u001b[39m=\u001b[39m x\n\u001b[0;32m    171\u001b[0m             \u001b[39melse\u001b[39;00m:\n\u001b[1;32m--> 172\u001b[0m                 y \u001b[39m=\u001b[39m _reconstruct(x, memo, \u001b[39m*\u001b[39;49mrv)\n\u001b[0;32m    174\u001b[0m \u001b[39m# If is its own copy, don't memoize.\u001b[39;00m\n\u001b[0;32m    175\u001b[0m \u001b[39mif\u001b[39;00m y \u001b[39mis\u001b[39;00m \u001b[39mnot\u001b[39;00m x:\n",
      "File \u001b[1;32mC:\\Program Files\\WindowsApps\\PythonSoftwareFoundation.Python.3.10_3.10.3056.0_x64__qbz5n2kfra8p0\\lib\\copy.py:271\u001b[0m, in \u001b[0;36m_reconstruct\u001b[1;34m(x, memo, func, args, state, listiter, dictiter, deepcopy)\u001b[0m\n\u001b[0;32m    269\u001b[0m \u001b[39mif\u001b[39;00m state \u001b[39mis\u001b[39;00m \u001b[39mnot\u001b[39;00m \u001b[39mNone\u001b[39;00m:\n\u001b[0;32m    270\u001b[0m     \u001b[39mif\u001b[39;00m deep:\n\u001b[1;32m--> 271\u001b[0m         state \u001b[39m=\u001b[39m deepcopy(state, memo)\n\u001b[0;32m    272\u001b[0m     \u001b[39mif\u001b[39;00m \u001b[39mhasattr\u001b[39m(y, \u001b[39m'\u001b[39m\u001b[39m__setstate__\u001b[39m\u001b[39m'\u001b[39m):\n\u001b[0;32m    273\u001b[0m         y\u001b[39m.\u001b[39m__setstate__(state)\n",
      "File \u001b[1;32mC:\\Program Files\\WindowsApps\\PythonSoftwareFoundation.Python.3.10_3.10.3056.0_x64__qbz5n2kfra8p0\\lib\\copy.py:146\u001b[0m, in \u001b[0;36mdeepcopy\u001b[1;34m(x, memo, _nil)\u001b[0m\n\u001b[0;32m    144\u001b[0m copier \u001b[39m=\u001b[39m _deepcopy_dispatch\u001b[39m.\u001b[39mget(\u001b[39mcls\u001b[39m)\n\u001b[0;32m    145\u001b[0m \u001b[39mif\u001b[39;00m copier \u001b[39mis\u001b[39;00m \u001b[39mnot\u001b[39;00m \u001b[39mNone\u001b[39;00m:\n\u001b[1;32m--> 146\u001b[0m     y \u001b[39m=\u001b[39m copier(x, memo)\n\u001b[0;32m    147\u001b[0m \u001b[39melse\u001b[39;00m:\n\u001b[0;32m    148\u001b[0m     \u001b[39mif\u001b[39;00m \u001b[39missubclass\u001b[39m(\u001b[39mcls\u001b[39m, \u001b[39mtype\u001b[39m):\n",
      "File \u001b[1;32mC:\\Program Files\\WindowsApps\\PythonSoftwareFoundation.Python.3.10_3.10.3056.0_x64__qbz5n2kfra8p0\\lib\\copy.py:231\u001b[0m, in \u001b[0;36m_deepcopy_dict\u001b[1;34m(x, memo, deepcopy)\u001b[0m\n\u001b[0;32m    229\u001b[0m memo[\u001b[39mid\u001b[39m(x)] \u001b[39m=\u001b[39m y\n\u001b[0;32m    230\u001b[0m \u001b[39mfor\u001b[39;00m key, value \u001b[39min\u001b[39;00m x\u001b[39m.\u001b[39mitems():\n\u001b[1;32m--> 231\u001b[0m     y[deepcopy(key, memo)] \u001b[39m=\u001b[39m deepcopy(value, memo)\n\u001b[0;32m    232\u001b[0m \u001b[39mreturn\u001b[39;00m y\n",
      "File \u001b[1;32mC:\\Program Files\\WindowsApps\\PythonSoftwareFoundation.Python.3.10_3.10.3056.0_x64__qbz5n2kfra8p0\\lib\\copy.py:172\u001b[0m, in \u001b[0;36mdeepcopy\u001b[1;34m(x, memo, _nil)\u001b[0m\n\u001b[0;32m    170\u001b[0m                 y \u001b[39m=\u001b[39m x\n\u001b[0;32m    171\u001b[0m             \u001b[39melse\u001b[39;00m:\n\u001b[1;32m--> 172\u001b[0m                 y \u001b[39m=\u001b[39m _reconstruct(x, memo, \u001b[39m*\u001b[39;49mrv)\n\u001b[0;32m    174\u001b[0m \u001b[39m# If is its own copy, don't memoize.\u001b[39;00m\n\u001b[0;32m    175\u001b[0m \u001b[39mif\u001b[39;00m y \u001b[39mis\u001b[39;00m \u001b[39mnot\u001b[39;00m x:\n",
      "File \u001b[1;32mC:\\Program Files\\WindowsApps\\PythonSoftwareFoundation.Python.3.10_3.10.3056.0_x64__qbz5n2kfra8p0\\lib\\copy.py:271\u001b[0m, in \u001b[0;36m_reconstruct\u001b[1;34m(x, memo, func, args, state, listiter, dictiter, deepcopy)\u001b[0m\n\u001b[0;32m    269\u001b[0m \u001b[39mif\u001b[39;00m state \u001b[39mis\u001b[39;00m \u001b[39mnot\u001b[39;00m \u001b[39mNone\u001b[39;00m:\n\u001b[0;32m    270\u001b[0m     \u001b[39mif\u001b[39;00m deep:\n\u001b[1;32m--> 271\u001b[0m         state \u001b[39m=\u001b[39m deepcopy(state, memo)\n\u001b[0;32m    272\u001b[0m     \u001b[39mif\u001b[39;00m \u001b[39mhasattr\u001b[39m(y, \u001b[39m'\u001b[39m\u001b[39m__setstate__\u001b[39m\u001b[39m'\u001b[39m):\n\u001b[0;32m    273\u001b[0m         y\u001b[39m.\u001b[39m__setstate__(state)\n",
      "File \u001b[1;32mC:\\Program Files\\WindowsApps\\PythonSoftwareFoundation.Python.3.10_3.10.3056.0_x64__qbz5n2kfra8p0\\lib\\copy.py:146\u001b[0m, in \u001b[0;36mdeepcopy\u001b[1;34m(x, memo, _nil)\u001b[0m\n\u001b[0;32m    144\u001b[0m copier \u001b[39m=\u001b[39m _deepcopy_dispatch\u001b[39m.\u001b[39mget(\u001b[39mcls\u001b[39m)\n\u001b[0;32m    145\u001b[0m \u001b[39mif\u001b[39;00m copier \u001b[39mis\u001b[39;00m \u001b[39mnot\u001b[39;00m \u001b[39mNone\u001b[39;00m:\n\u001b[1;32m--> 146\u001b[0m     y \u001b[39m=\u001b[39m copier(x, memo)\n\u001b[0;32m    147\u001b[0m \u001b[39melse\u001b[39;00m:\n\u001b[0;32m    148\u001b[0m     \u001b[39mif\u001b[39;00m \u001b[39missubclass\u001b[39m(\u001b[39mcls\u001b[39m, \u001b[39mtype\u001b[39m):\n",
      "File \u001b[1;32mC:\\Program Files\\WindowsApps\\PythonSoftwareFoundation.Python.3.10_3.10.3056.0_x64__qbz5n2kfra8p0\\lib\\copy.py:231\u001b[0m, in \u001b[0;36m_deepcopy_dict\u001b[1;34m(x, memo, deepcopy)\u001b[0m\n\u001b[0;32m    229\u001b[0m memo[\u001b[39mid\u001b[39m(x)] \u001b[39m=\u001b[39m y\n\u001b[0;32m    230\u001b[0m \u001b[39mfor\u001b[39;00m key, value \u001b[39min\u001b[39;00m x\u001b[39m.\u001b[39mitems():\n\u001b[1;32m--> 231\u001b[0m     y[deepcopy(key, memo)] \u001b[39m=\u001b[39m deepcopy(value, memo)\n\u001b[0;32m    232\u001b[0m \u001b[39mreturn\u001b[39;00m y\n",
      "    \u001b[1;31m[... skipping similar frames: _deepcopy_dict at line 231 (2 times), _reconstruct at line 271 (2 times), deepcopy at line 172 (2 times), deepcopy at line 146 (2 times)]\u001b[0m\n",
      "File \u001b[1;32mC:\\Program Files\\WindowsApps\\PythonSoftwareFoundation.Python.3.10_3.10.3056.0_x64__qbz5n2kfra8p0\\lib\\copy.py:172\u001b[0m, in \u001b[0;36mdeepcopy\u001b[1;34m(x, memo, _nil)\u001b[0m\n\u001b[0;32m    170\u001b[0m                 y \u001b[39m=\u001b[39m x\n\u001b[0;32m    171\u001b[0m             \u001b[39melse\u001b[39;00m:\n\u001b[1;32m--> 172\u001b[0m                 y \u001b[39m=\u001b[39m _reconstruct(x, memo, \u001b[39m*\u001b[39;49mrv)\n\u001b[0;32m    174\u001b[0m \u001b[39m# If is its own copy, don't memoize.\u001b[39;00m\n\u001b[0;32m    175\u001b[0m \u001b[39mif\u001b[39;00m y \u001b[39mis\u001b[39;00m \u001b[39mnot\u001b[39;00m x:\n",
      "File \u001b[1;32mC:\\Program Files\\WindowsApps\\PythonSoftwareFoundation.Python.3.10_3.10.3056.0_x64__qbz5n2kfra8p0\\lib\\copy.py:271\u001b[0m, in \u001b[0;36m_reconstruct\u001b[1;34m(x, memo, func, args, state, listiter, dictiter, deepcopy)\u001b[0m\n\u001b[0;32m    269\u001b[0m \u001b[39mif\u001b[39;00m state \u001b[39mis\u001b[39;00m \u001b[39mnot\u001b[39;00m \u001b[39mNone\u001b[39;00m:\n\u001b[0;32m    270\u001b[0m     \u001b[39mif\u001b[39;00m deep:\n\u001b[1;32m--> 271\u001b[0m         state \u001b[39m=\u001b[39m deepcopy(state, memo)\n\u001b[0;32m    272\u001b[0m     \u001b[39mif\u001b[39;00m \u001b[39mhasattr\u001b[39m(y, \u001b[39m'\u001b[39m\u001b[39m__setstate__\u001b[39m\u001b[39m'\u001b[39m):\n\u001b[0;32m    273\u001b[0m         y\u001b[39m.\u001b[39m__setstate__(state)\n",
      "File \u001b[1;32mC:\\Program Files\\WindowsApps\\PythonSoftwareFoundation.Python.3.10_3.10.3056.0_x64__qbz5n2kfra8p0\\lib\\copy.py:146\u001b[0m, in \u001b[0;36mdeepcopy\u001b[1;34m(x, memo, _nil)\u001b[0m\n\u001b[0;32m    144\u001b[0m copier \u001b[39m=\u001b[39m _deepcopy_dispatch\u001b[39m.\u001b[39mget(\u001b[39mcls\u001b[39m)\n\u001b[0;32m    145\u001b[0m \u001b[39mif\u001b[39;00m copier \u001b[39mis\u001b[39;00m \u001b[39mnot\u001b[39;00m \u001b[39mNone\u001b[39;00m:\n\u001b[1;32m--> 146\u001b[0m     y \u001b[39m=\u001b[39m copier(x, memo)\n\u001b[0;32m    147\u001b[0m \u001b[39melse\u001b[39;00m:\n\u001b[0;32m    148\u001b[0m     \u001b[39mif\u001b[39;00m \u001b[39missubclass\u001b[39m(\u001b[39mcls\u001b[39m, \u001b[39mtype\u001b[39m):\n",
      "File \u001b[1;32mC:\\Program Files\\WindowsApps\\PythonSoftwareFoundation.Python.3.10_3.10.3056.0_x64__qbz5n2kfra8p0\\lib\\copy.py:231\u001b[0m, in \u001b[0;36m_deepcopy_dict\u001b[1;34m(x, memo, deepcopy)\u001b[0m\n\u001b[0;32m    229\u001b[0m memo[\u001b[39mid\u001b[39m(x)] \u001b[39m=\u001b[39m y\n\u001b[0;32m    230\u001b[0m \u001b[39mfor\u001b[39;00m key, value \u001b[39min\u001b[39;00m x\u001b[39m.\u001b[39mitems():\n\u001b[1;32m--> 231\u001b[0m     y[deepcopy(key, memo)] \u001b[39m=\u001b[39m deepcopy(value, memo)\n\u001b[0;32m    232\u001b[0m \u001b[39mreturn\u001b[39;00m y\n",
      "File \u001b[1;32mC:\\Program Files\\WindowsApps\\PythonSoftwareFoundation.Python.3.10_3.10.3056.0_x64__qbz5n2kfra8p0\\lib\\copy.py:169\u001b[0m, in \u001b[0;36mdeepcopy\u001b[1;34m(x, memo, _nil)\u001b[0m\n\u001b[0;32m    166\u001b[0m         \u001b[39melse\u001b[39;00m:\n\u001b[0;32m    167\u001b[0m             \u001b[39mraise\u001b[39;00m Error(\n\u001b[0;32m    168\u001b[0m                 \u001b[39m\"\u001b[39m\u001b[39mun(deep)copyable object of type \u001b[39m\u001b[39m%s\u001b[39;00m\u001b[39m\"\u001b[39m \u001b[39m%\u001b[39m \u001b[39mcls\u001b[39m)\n\u001b[1;32m--> 169\u001b[0m \u001b[39mif\u001b[39;00m \u001b[39misinstance\u001b[39m(rv, \u001b[39mstr\u001b[39m):\n\u001b[0;32m    170\u001b[0m     y \u001b[39m=\u001b[39m x\n\u001b[0;32m    171\u001b[0m \u001b[39melse\u001b[39;00m:\n",
      "\u001b[1;31mKeyboardInterrupt\u001b[0m: "
     ]
    }
   ],
   "source": [
    "from Logica import *\n",
    "\n",
    "Itoria_formulas = [formula1,formula2,formula3,formula4,formula5,formula6,formula7,formula8]\n",
    "\n",
    "Itoria_formulas = Ytoria(Itoria_formulas)\n",
    "\n",
    "Itoria_formulas = inorder_to_tree(Itoria_formulas)\n",
    "\n",
    "I_final = Itoria_formulas.SATtableaux()\n",
    "\n",
    "r = Rejilla()\n",
    "r.visualizar(I_final[1])"
   ]
  },
  {
   "cell_type": "markdown",
   "metadata": {},
   "source": [
    "# Implementación de AD-SOLVER DPLL <a class=\"anchor\" id=\"imp\"></a>\n",
    "\n",
    "([Volver al inicio](#inicio))\n",
    "\n",
    "Ahora es necesario crear utilizar las reglas que creamos para el desarrollo de sus modelos y seguiremos con DPLL:\n"
   ]
  },
  {
   "cell_type": "code",
   "execution_count": 137,
   "metadata": {},
   "outputs": [
    {
     "data": {
      "image/png": "[encoded data removed]",
      "text/plain": [
       "<Figure size 500x100 with 1 Axes>"
      ]
     },
     "metadata": {},
     "output_type": "display_data"
    }
   ],
   "source": [
    "from Logica import *\n",
    "\n",
    "S1 = tseitin(Ytoria([formula1,formula8]))\n",
    "S1,I1 = dpll(S1,{})\n",
    "\n",
    "r = Rejilla()\n",
    "r.visualizar(I1)\n",
    "\n"
   ]
  },
  {
   "cell_type": "code",
   "execution_count": 138,
   "metadata": {},
   "outputs": [
    {
     "data": {
      "image/png": "[encoded data removed]",
      "text/plain": [
       "<Figure size 500x100 with 1 Axes>"
      ]
     },
     "metadata": {},
     "output_type": "display_data"
    }
   ],
   "source": [
    "from Logica import *\n",
    "\n",
    "S2 = tseitin(formula2)\n",
    "S2,I2 = dpll(S2,{})\n",
    "\n",
    "r = Rejilla()\n",
    "r.visualizar(I2)\n"
   ]
  },
  {
   "cell_type": "code",
   "execution_count": 152,
   "metadata": {},
   "outputs": [
    {
     "data": {
      "image/png": "[encoded data removed]",
      "text/plain": [
       "<Figure size 500x100 with 1 Axes>"
      ]
     },
     "metadata": {},
     "output_type": "display_data"
    }
   ],
   "source": [
    "from Logica import *\n",
    "\n",
    "Ytoria3 = Ytoria([formula3,formula8])\n",
    "S3 = tseitin(Ytoria3)\n",
    "\n",
    "S3,I3 = dpll(S3,{})\n",
    "\n",
    "r = Rejilla()\n",
    "r.visualizar(I3)"
   ]
  },
  {
   "cell_type": "code",
   "execution_count": 153,
   "metadata": {},
   "outputs": [
    {
     "data": {
      "image/png": "[encoded data removed]",
      "text/plain": [
       "<Figure size 500x100 with 1 Axes>"
      ]
     },
     "metadata": {},
     "output_type": "display_data"
    }
   ],
   "source": [
    "from Logica import *\n",
    "\n",
    "Ytoria4 = Ytoria([formula4,formula8])\n",
    "S4 = tseitin(Ytoria4)\n",
    "\n",
    "S4,I4 = dpll(S4,{})\n",
    "\n",
    "r = Rejilla()\n",
    "r.visualizar(I4)"
   ]
  },
  {
   "cell_type": "code",
   "execution_count": 155,
   "metadata": {},
   "outputs": [
    {
     "data": {
      "image/png": "[encoded data removed]",
      "text/plain": [
       "<Figure size 500x100 with 1 Axes>"
      ]
     },
     "metadata": {},
     "output_type": "display_data"
    }
   ],
   "source": [
    "from Logica import *\n",
    "\n",
    "S5 = tseitin(Ytoria([formula5,formula1,formula8]))\n",
    "S5,I5 = dpll(S5,{})\n",
    "\n",
    "r = Rejilla()\n",
    "r.visualizar(I5)"
   ]
  },
  {
   "cell_type": "code",
   "execution_count": 158,
   "metadata": {},
   "outputs": [
    {
     "data": {
      "image/png": "[encoded data removed]",
      "text/plain": [
       "<Figure size 500x100 with 1 Axes>"
      ]
     },
     "metadata": {},
     "output_type": "display_data"
    }
   ],
   "source": [
    "from Logica import *\n",
    "\n",
    "S6 = tseitin(Ytoria([formula6,formula8]))\n",
    "S6,I6 = dpll(S6,{})\n",
    "\n",
    "r = Rejilla()\n",
    "r.visualizar(I6)"
   ]
  },
  {
   "cell_type": "code",
   "execution_count": 89,
   "metadata": {},
   "outputs": [
    {
     "data": {
      "image/png": "[encoded data removed]",
      "text/plain": [
       "<Figure size 500x100 with 1 Axes>"
      ]
     },
     "metadata": {},
     "output_type": "display_data"
    }
   ],
   "source": [
    "from Logica import *\n",
    "\n",
    "S7 = tseitin(formula7)\n",
    "S7,I7 = dpll(S7,{})\n",
    "\n",
    "r = Rejilla()\n",
    "r.visualizar(I7)"
   ]
  },
  {
   "cell_type": "code",
   "execution_count": 90,
   "metadata": {},
   "outputs": [
    {
     "data": {
      "image/png": "[encoded data removed]",
      "text/plain": [
       "<Figure size 500x100 with 1 Axes>"
      ]
     },
     "metadata": {},
     "output_type": "display_data"
    }
   ],
   "source": [
    "from Logica import *\n",
    "\n",
    "S8 = tseitin(formula8)\n",
    "S8,I8 = dpll(S8,{})\n",
    "\n",
    "r = Rejilla()\n",
    "r.visualizar(I8)"
   ]
  },
  {
   "cell_type": "code",
   "execution_count": 207,
   "metadata": {},
   "outputs": [
    {
     "data": {
      "image/png": "[encoded data removed]",
      "text/plain": [
       "<Figure size 500x100 with 1 Axes>"
      ]
     },
     "metadata": {},
     "output_type": "display_data"
    }
   ],
   "source": [
    "from Logica import *\n",
    "\n",
    "\n",
    "Itoria_formulas = [formula1,formula2,formula3,formula4,formula5,formula6,formula7,formula8]\n",
    "Itoria_formulas = Ytoria(Itoria_formulas)\n",
    "\n",
    "\n",
    "Sf = tseitin(Itoria_formulas)\n",
    "\n",
    "Sf,If = dpll(Sf,{})\n",
    "r = Rejilla()\n",
    "r.visualizar(If)"
   ]
  },
  {
   "cell_type": "markdown",
   "metadata": {},
   "source": [
    "# Implementación de AD-SOLVER WALKSAT <a class=\"anchor\" id=\"imp\"></a>\n",
    "\n",
    "([Volver al inicio](#inicio))\n",
    "\n",
    "Ahora es necesario crear utilizar las reglas que creamos para el desarrollo de sus modelos y seguiremos con WALKSAT:"
   ]
  },
  {
   "cell_type": "code",
   "execution_count": null,
   "metadata": {},
   "outputs": [],
   "source": []
  },
  {
   "cell_type": "code",
   "execution_count": null,
   "metadata": {},
   "outputs": [
    {
     "ename": "KeyboardInterrupt",
     "evalue": "",
     "output_type": "error",
     "traceback": [
      "\u001b[1;31m---------------------------------------------------------------------------\u001b[0m",
      "\u001b[1;31mKeyboardInterrupt\u001b[0m                         Traceback (most recent call last)",
      "\u001b[1;32mc:\\Users\\juand\\OneDrive\\Proyecto_Logica\\Notebook_proyecto.ipynb Cell 59\u001b[0m line \u001b[0;36m4\n\u001b[0;32m      <a href='vscode-notebook-cell:/c%3A/Users/juand/OneDrive/Proyecto_Logica/Notebook_proyecto.ipynb#Y120sZmlsZQ%3D%3D?line=0'>1</a>\u001b[0m \u001b[39mfrom\u001b[39;00m \u001b[39mLogica\u001b[39;00m \u001b[39mimport\u001b[39;00m \u001b[39m*\u001b[39m\n\u001b[0;32m      <a href='vscode-notebook-cell:/c%3A/Users/juand/OneDrive/Proyecto_Logica/Notebook_proyecto.ipynb#Y120sZmlsZQ%3D%3D?line=2'>3</a>\u001b[0m W1 \u001b[39m=\u001b[39m tseitin(formula1)\n\u001b[1;32m----> <a href='vscode-notebook-cell:/c%3A/Users/juand/OneDrive/Proyecto_Logica/Notebook_proyecto.ipynb#Y120sZmlsZQ%3D%3D?line=3'>4</a>\u001b[0m walkSAT(W1)\n",
      "File \u001b[1;32mc:\\Users\\juand\\OneDrive\\Proyecto_Logica\\Logica.py:851\u001b[0m, in \u001b[0;36mwalkSAT\u001b[1;34m(A, max_flips, max_tries, p)\u001b[0m\n\u001b[0;32m    849\u001b[0m                 v \u001b[39m=\u001b[39m min_breaks[\u001b[39m0\u001b[39m]\n\u001b[0;32m    850\u001b[0m         I \u001b[39m=\u001b[39m flip_literal(w\u001b[39m.\u001b[39mI, v)\n\u001b[1;32m--> 851\u001b[0m         w\u001b[39m.\u001b[39;49mactualizar(I)\n\u001b[0;32m    852\u001b[0m \u001b[39mreturn\u001b[39;00m \u001b[39mNone\u001b[39;00m, {}\n",
      "File \u001b[1;32mc:\\Users\\juand\\OneDrive\\Proyecto_Logica\\Logica.py:818\u001b[0m, in \u001b[0;36mWalkSatEstado.actualizar\u001b[1;34m(self, I)\u001b[0m\n\u001b[0;32m    816\u001b[0m \u001b[39mself\u001b[39m\u001b[39m.\u001b[39mI_lits \u001b[39m=\u001b[39m \u001b[39mset\u001b[39m([p \u001b[39mfor\u001b[39;00m p \u001b[39min\u001b[39;00m \u001b[39mself\u001b[39m\u001b[39m.\u001b[39mletrasp \u001b[39mif\u001b[39;00m \u001b[39mself\u001b[39m\u001b[39m.\u001b[39mI[p]] \u001b[39m+\u001b[39m [\u001b[39m'\u001b[39m\u001b[39m-\u001b[39m\u001b[39m'\u001b[39m\u001b[39m+\u001b[39mp \u001b[39mfor\u001b[39;00m p \u001b[39min\u001b[39;00m \u001b[39mself\u001b[39m\u001b[39m.\u001b[39mletrasp \u001b[39mif\u001b[39;00m \u001b[39mnot\u001b[39;00m \u001b[39mself\u001b[39m\u001b[39m.\u001b[39mI[p]])\n\u001b[0;32m    817\u001b[0m \u001b[39mself\u001b[39m\u001b[39m.\u001b[39mclausulas_sat \u001b[39m=\u001b[39m [C \u001b[39mfor\u001b[39;00m C \u001b[39min\u001b[39;00m \u001b[39mself\u001b[39m\u001b[39m.\u001b[39mS \u001b[39mif\u001b[39;00m \u001b[39many\u001b[39m((\u001b[39mTrue\u001b[39;00m \u001b[39mfor\u001b[39;00m x \u001b[39min\u001b[39;00m \u001b[39mself\u001b[39m\u001b[39m.\u001b[39mI_lits \u001b[39mif\u001b[39;00m x \u001b[39min\u001b[39;00m C))]\n\u001b[1;32m--> 818\u001b[0m \u001b[39mself\u001b[39m\u001b[39m.\u001b[39mclausulas_unsat \u001b[39m=\u001b[39m [C \u001b[39mfor\u001b[39;00m C \u001b[39min\u001b[39;00m \u001b[39mself\u001b[39m\u001b[39m.\u001b[39mS \u001b[39mif\u001b[39;00m C \u001b[39mnot\u001b[39;00m \u001b[39min\u001b[39;00m \u001b[39mself\u001b[39m\u001b[39m.\u001b[39mclausulas_sat]\n",
      "File \u001b[1;32mc:\\Users\\juand\\OneDrive\\Proyecto_Logica\\Logica.py:818\u001b[0m, in \u001b[0;36m<listcomp>\u001b[1;34m(.0)\u001b[0m\n\u001b[0;32m    816\u001b[0m \u001b[39mself\u001b[39m\u001b[39m.\u001b[39mI_lits \u001b[39m=\u001b[39m \u001b[39mset\u001b[39m([p \u001b[39mfor\u001b[39;00m p \u001b[39min\u001b[39;00m \u001b[39mself\u001b[39m\u001b[39m.\u001b[39mletrasp \u001b[39mif\u001b[39;00m \u001b[39mself\u001b[39m\u001b[39m.\u001b[39mI[p]] \u001b[39m+\u001b[39m [\u001b[39m'\u001b[39m\u001b[39m-\u001b[39m\u001b[39m'\u001b[39m\u001b[39m+\u001b[39mp \u001b[39mfor\u001b[39;00m p \u001b[39min\u001b[39;00m \u001b[39mself\u001b[39m\u001b[39m.\u001b[39mletrasp \u001b[39mif\u001b[39;00m \u001b[39mnot\u001b[39;00m \u001b[39mself\u001b[39m\u001b[39m.\u001b[39mI[p]])\n\u001b[0;32m    817\u001b[0m \u001b[39mself\u001b[39m\u001b[39m.\u001b[39mclausulas_sat \u001b[39m=\u001b[39m [C \u001b[39mfor\u001b[39;00m C \u001b[39min\u001b[39;00m \u001b[39mself\u001b[39m\u001b[39m.\u001b[39mS \u001b[39mif\u001b[39;00m \u001b[39many\u001b[39m((\u001b[39mTrue\u001b[39;00m \u001b[39mfor\u001b[39;00m x \u001b[39min\u001b[39;00m \u001b[39mself\u001b[39m\u001b[39m.\u001b[39mI_lits \u001b[39mif\u001b[39;00m x \u001b[39min\u001b[39;00m C))]\n\u001b[1;32m--> 818\u001b[0m \u001b[39mself\u001b[39m\u001b[39m.\u001b[39mclausulas_unsat \u001b[39m=\u001b[39m [C \u001b[39mfor\u001b[39;00m C \u001b[39min\u001b[39;00m \u001b[39mself\u001b[39m\u001b[39m.\u001b[39mS \u001b[39mif\u001b[39;00m C \u001b[39mnot\u001b[39;49;00m \u001b[39min\u001b[39;49;00m \u001b[39mself\u001b[39;49m\u001b[39m.\u001b[39;49mclausulas_sat]\n",
      "\u001b[1;31mKeyboardInterrupt\u001b[0m: "
     ]
    }
   ],
   "source": [
    "from Logica import *\n",
    "\n",
    "W1 = tseitin(formula1)\n",
    "walkSAT(W1)"
   ]
  },
  {
   "cell_type": "code",
   "execution_count": 101,
   "metadata": {},
   "outputs": [
    {
     "data": {
      "image/png": "[encoded data removed]",
      "text/plain": [
       "<Figure size 500x100 with 1 Axes>"
      ]
     },
     "metadata": {},
     "output_type": "display_data"
    }
   ],
   "source": [
    "from Logica import *\n",
    "\n",
    "W2 = tseitin(formula2)\n",
    "W2 = walkSAT(W2)\n",
    "\n",
    "r = Rejilla()\n",
    "r.visualizar(W2[1])"
   ]
  },
  {
   "cell_type": "code",
   "execution_count": 177,
   "metadata": {},
   "outputs": [
    {
     "data": {
      "image/png": "[encoded data removed]",
      "text/plain": [
       "<Figure size 500x100 with 1 Axes>"
      ]
     },
     "metadata": {},
     "output_type": "display_data"
    }
   ],
   "source": [
    "from Logica import *\n",
    "\n",
    "W3 = tseitin(formula3)\n",
    "W3 = walkSAT(W3)\n",
    "\n",
    "r = Rejilla()\n",
    "r.visualizar(W3[1])\n"
   ]
  },
  {
   "cell_type": "code",
   "execution_count": 171,
   "metadata": {},
   "outputs": [
    {
     "data": {
      "image/png": "[encoded data removed]",
      "text/plain": [
       "<Figure size 500x100 with 1 Axes>"
      ]
     },
     "metadata": {},
     "output_type": "display_data"
    }
   ],
   "source": [
    "from Logica import *\n",
    "\n",
    "W4 = tseitin(formula4)\n",
    "W4 = walkSAT(W4)\n",
    "\n",
    "r = Rejilla()\n",
    "r.visualizar(W4[1])"
   ]
  },
  {
   "cell_type": "code",
   "execution_count": 190,
   "metadata": {},
   "outputs": [
    {
     "data": {
      "image/png": "[encoded data removed]",
      "text/plain": [
       "<Figure size 500x100 with 1 Axes>"
      ]
     },
     "metadata": {},
     "output_type": "display_data"
    }
   ],
   "source": [
    "from Logica import *\n",
    "\n",
    "W5 = tseitin(formula5)\n",
    "W5 = walkSAT(W5)\n",
    "\n",
    "r = Rejilla()\n",
    "r.visualizar(W5[1])"
   ]
  },
  {
   "cell_type": "code",
   "execution_count": 194,
   "metadata": {},
   "outputs": [
    {
     "data": {
      "image/png": "[encoded data removed]",
      "text/plain": [
       "<Figure size 500x100 with 1 Axes>"
      ]
     },
     "metadata": {},
     "output_type": "display_data"
    }
   ],
   "source": [
    "from Logica import *\n",
    "\n",
    "W6 = tseitin(formula6)\n",
    "W6= walkSAT(W6)\n",
    "\n",
    "r = Rejilla()\n",
    "r.visualizar(W6[1])"
   ]
  },
  {
   "cell_type": "code",
   "execution_count": 195,
   "metadata": {},
   "outputs": [
    {
     "data": {
      "image/png": "[encoded data removed]",
      "text/plain": [
       "<Figure size 500x100 with 1 Axes>"
      ]
     },
     "metadata": {},
     "output_type": "display_data"
    }
   ],
   "source": [
    "from Logica import *\n",
    "\n",
    "W7 = tseitin(formula7)\n",
    "W7 = walkSAT(W7)\n",
    "\n",
    "r = Rejilla()\n",
    "r.visualizar(W7[1])"
   ]
  },
  {
   "cell_type": "code",
   "execution_count": 17,
   "metadata": {},
   "outputs": [
    {
     "ename": "KeyboardInterrupt",
     "evalue": "",
     "output_type": "error",
     "traceback": [
      "\u001b[1;31m---------------------------------------------------------------------------\u001b[0m",
      "\u001b[1;31mKeyboardInterrupt\u001b[0m                         Traceback (most recent call last)",
      "\u001b[1;32mc:\\Users\\juand\\OneDrive\\Proyecto_Logica\\Notebook_proyecto.ipynb Cell 79\u001b[0m line \u001b[0;36m4\n\u001b[0;32m      <a href='vscode-notebook-cell:/c%3A/Users/juand/OneDrive/Proyecto_Logica/Notebook_proyecto.ipynb#Y145sZmlsZQ%3D%3D?line=0'>1</a>\u001b[0m \u001b[39mfrom\u001b[39;00m \u001b[39mLogica\u001b[39;00m \u001b[39mimport\u001b[39;00m \u001b[39m*\u001b[39m\n\u001b[0;32m      <a href='vscode-notebook-cell:/c%3A/Users/juand/OneDrive/Proyecto_Logica/Notebook_proyecto.ipynb#Y145sZmlsZQ%3D%3D?line=2'>3</a>\u001b[0m W8 \u001b[39m=\u001b[39m tseitin(formula8)\n\u001b[1;32m----> <a href='vscode-notebook-cell:/c%3A/Users/juand/OneDrive/Proyecto_Logica/Notebook_proyecto.ipynb#Y145sZmlsZQ%3D%3D?line=3'>4</a>\u001b[0m W8 \u001b[39m=\u001b[39m walkSAT(W8)\n\u001b[0;32m      <a href='vscode-notebook-cell:/c%3A/Users/juand/OneDrive/Proyecto_Logica/Notebook_proyecto.ipynb#Y145sZmlsZQ%3D%3D?line=5'>6</a>\u001b[0m r \u001b[39m=\u001b[39m Rejilla()\n\u001b[0;32m      <a href='vscode-notebook-cell:/c%3A/Users/juand/OneDrive/Proyecto_Logica/Notebook_proyecto.ipynb#Y145sZmlsZQ%3D%3D?line=6'>7</a>\u001b[0m r\u001b[39m.\u001b[39mvisualizar(W8[\u001b[39m1\u001b[39m])\n",
      "File \u001b[1;32mc:\\Users\\juand\\OneDrive\\Proyecto_Logica\\Logica.py:851\u001b[0m, in \u001b[0;36mwalkSAT\u001b[1;34m(A, max_flips, max_tries, p)\u001b[0m\n\u001b[0;32m    849\u001b[0m                 v \u001b[39m=\u001b[39m min_breaks[\u001b[39m0\u001b[39m]\n\u001b[0;32m    850\u001b[0m         I \u001b[39m=\u001b[39m flip_literal(w\u001b[39m.\u001b[39mI, v)\n\u001b[1;32m--> 851\u001b[0m         w\u001b[39m.\u001b[39;49mactualizar(I)\n\u001b[0;32m    852\u001b[0m \u001b[39mreturn\u001b[39;00m \u001b[39mNone\u001b[39;00m, {}\n",
      "File \u001b[1;32mc:\\Users\\juand\\OneDrive\\Proyecto_Logica\\Logica.py:817\u001b[0m, in \u001b[0;36mWalkSatEstado.actualizar\u001b[1;34m(self, I)\u001b[0m\n\u001b[0;32m    815\u001b[0m \u001b[39mself\u001b[39m\u001b[39m.\u001b[39mI \u001b[39m=\u001b[39m I\n\u001b[0;32m    816\u001b[0m \u001b[39mself\u001b[39m\u001b[39m.\u001b[39mI_lits \u001b[39m=\u001b[39m \u001b[39mset\u001b[39m([p \u001b[39mfor\u001b[39;00m p \u001b[39min\u001b[39;00m \u001b[39mself\u001b[39m\u001b[39m.\u001b[39mletrasp \u001b[39mif\u001b[39;00m \u001b[39mself\u001b[39m\u001b[39m.\u001b[39mI[p]] \u001b[39m+\u001b[39m [\u001b[39m'\u001b[39m\u001b[39m-\u001b[39m\u001b[39m'\u001b[39m\u001b[39m+\u001b[39mp \u001b[39mfor\u001b[39;00m p \u001b[39min\u001b[39;00m \u001b[39mself\u001b[39m\u001b[39m.\u001b[39mletrasp \u001b[39mif\u001b[39;00m \u001b[39mnot\u001b[39;00m \u001b[39mself\u001b[39m\u001b[39m.\u001b[39mI[p]])\n\u001b[1;32m--> 817\u001b[0m \u001b[39mself\u001b[39m\u001b[39m.\u001b[39mclausulas_sat \u001b[39m=\u001b[39m [C \u001b[39mfor\u001b[39;00m C \u001b[39min\u001b[39;00m \u001b[39mself\u001b[39m\u001b[39m.\u001b[39mS \u001b[39mif\u001b[39;00m \u001b[39many\u001b[39m((\u001b[39mTrue\u001b[39;00m \u001b[39mfor\u001b[39;00m x \u001b[39min\u001b[39;00m \u001b[39mself\u001b[39m\u001b[39m.\u001b[39mI_lits \u001b[39mif\u001b[39;00m x \u001b[39min\u001b[39;00m C))]\n\u001b[0;32m    818\u001b[0m \u001b[39mself\u001b[39m\u001b[39m.\u001b[39mclausulas_unsat \u001b[39m=\u001b[39m [C \u001b[39mfor\u001b[39;00m C \u001b[39min\u001b[39;00m \u001b[39mself\u001b[39m\u001b[39m.\u001b[39mS \u001b[39mif\u001b[39;00m C \u001b[39mnot\u001b[39;00m \u001b[39min\u001b[39;00m \u001b[39mself\u001b[39m\u001b[39m.\u001b[39mclausulas_sat]\n",
      "File \u001b[1;32mc:\\Users\\juand\\OneDrive\\Proyecto_Logica\\Logica.py:817\u001b[0m, in \u001b[0;36m<listcomp>\u001b[1;34m(.0)\u001b[0m\n\u001b[0;32m    815\u001b[0m \u001b[39mself\u001b[39m\u001b[39m.\u001b[39mI \u001b[39m=\u001b[39m I\n\u001b[0;32m    816\u001b[0m \u001b[39mself\u001b[39m\u001b[39m.\u001b[39mI_lits \u001b[39m=\u001b[39m \u001b[39mset\u001b[39m([p \u001b[39mfor\u001b[39;00m p \u001b[39min\u001b[39;00m \u001b[39mself\u001b[39m\u001b[39m.\u001b[39mletrasp \u001b[39mif\u001b[39;00m \u001b[39mself\u001b[39m\u001b[39m.\u001b[39mI[p]] \u001b[39m+\u001b[39m [\u001b[39m'\u001b[39m\u001b[39m-\u001b[39m\u001b[39m'\u001b[39m\u001b[39m+\u001b[39mp \u001b[39mfor\u001b[39;00m p \u001b[39min\u001b[39;00m \u001b[39mself\u001b[39m\u001b[39m.\u001b[39mletrasp \u001b[39mif\u001b[39;00m \u001b[39mnot\u001b[39;00m \u001b[39mself\u001b[39m\u001b[39m.\u001b[39mI[p]])\n\u001b[1;32m--> 817\u001b[0m \u001b[39mself\u001b[39m\u001b[39m.\u001b[39mclausulas_sat \u001b[39m=\u001b[39m [C \u001b[39mfor\u001b[39;00m C \u001b[39min\u001b[39;00m \u001b[39mself\u001b[39m\u001b[39m.\u001b[39mS \u001b[39mif\u001b[39;00m \u001b[39many\u001b[39;49m((\u001b[39mTrue\u001b[39;49;00m \u001b[39mfor\u001b[39;49;00m x \u001b[39min\u001b[39;49;00m \u001b[39mself\u001b[39;49m\u001b[39m.\u001b[39;49mI_lits \u001b[39mif\u001b[39;49;00m x \u001b[39min\u001b[39;49;00m C))]\n\u001b[0;32m    818\u001b[0m \u001b[39mself\u001b[39m\u001b[39m.\u001b[39mclausulas_unsat \u001b[39m=\u001b[39m [C \u001b[39mfor\u001b[39;00m C \u001b[39min\u001b[39;00m \u001b[39mself\u001b[39m\u001b[39m.\u001b[39mS \u001b[39mif\u001b[39;00m C \u001b[39mnot\u001b[39;00m \u001b[39min\u001b[39;00m \u001b[39mself\u001b[39m\u001b[39m.\u001b[39mclausulas_sat]\n",
      "File \u001b[1;32mc:\\Users\\juand\\OneDrive\\Proyecto_Logica\\Logica.py:817\u001b[0m, in \u001b[0;36m<genexpr>\u001b[1;34m(.0)\u001b[0m\n\u001b[0;32m    815\u001b[0m \u001b[39mself\u001b[39m\u001b[39m.\u001b[39mI \u001b[39m=\u001b[39m I\n\u001b[0;32m    816\u001b[0m \u001b[39mself\u001b[39m\u001b[39m.\u001b[39mI_lits \u001b[39m=\u001b[39m \u001b[39mset\u001b[39m([p \u001b[39mfor\u001b[39;00m p \u001b[39min\u001b[39;00m \u001b[39mself\u001b[39m\u001b[39m.\u001b[39mletrasp \u001b[39mif\u001b[39;00m \u001b[39mself\u001b[39m\u001b[39m.\u001b[39mI[p]] \u001b[39m+\u001b[39m [\u001b[39m'\u001b[39m\u001b[39m-\u001b[39m\u001b[39m'\u001b[39m\u001b[39m+\u001b[39mp \u001b[39mfor\u001b[39;00m p \u001b[39min\u001b[39;00m \u001b[39mself\u001b[39m\u001b[39m.\u001b[39mletrasp \u001b[39mif\u001b[39;00m \u001b[39mnot\u001b[39;00m \u001b[39mself\u001b[39m\u001b[39m.\u001b[39mI[p]])\n\u001b[1;32m--> 817\u001b[0m \u001b[39mself\u001b[39m\u001b[39m.\u001b[39mclausulas_sat \u001b[39m=\u001b[39m [C \u001b[39mfor\u001b[39;00m C \u001b[39min\u001b[39;00m \u001b[39mself\u001b[39m\u001b[39m.\u001b[39mS \u001b[39mif\u001b[39;00m \u001b[39many\u001b[39m((\u001b[39mTrue\u001b[39;00m \u001b[39mfor\u001b[39;00m x \u001b[39min\u001b[39;00m \u001b[39mself\u001b[39m\u001b[39m.\u001b[39mI_lits \u001b[39mif\u001b[39;00m x \u001b[39min\u001b[39;49;00m C))]\n\u001b[0;32m    818\u001b[0m \u001b[39mself\u001b[39m\u001b[39m.\u001b[39mclausulas_unsat \u001b[39m=\u001b[39m [C \u001b[39mfor\u001b[39;00m C \u001b[39min\u001b[39;00m \u001b[39mself\u001b[39m\u001b[39m.\u001b[39mS \u001b[39mif\u001b[39;00m C \u001b[39mnot\u001b[39;00m \u001b[39min\u001b[39;00m \u001b[39mself\u001b[39m\u001b[39m.\u001b[39mclausulas_sat]\n",
      "\u001b[1;31mKeyboardInterrupt\u001b[0m: "
     ]
    }
   ],
   "source": [
    "from Logica import *\n",
    "\n",
    "W8 = tseitin(formula8)\n",
    "W8 = walkSAT(W8)\n",
    "\n",
    "r = Rejilla()\n",
    "r.visualizar(W8[1])"
   ]
  },
  {
   "cell_type": "code",
   "execution_count": 18,
   "metadata": {},
   "outputs": [
    {
     "ename": "KeyboardInterrupt",
     "evalue": "",
     "output_type": "error",
     "traceback": [
      "\u001b[1;31m---------------------------------------------------------------------------\u001b[0m",
      "\u001b[1;31mKeyboardInterrupt\u001b[0m                         Traceback (most recent call last)",
      "\u001b[1;32mc:\\Users\\juand\\OneDrive\\Proyecto_Logica\\Notebook_proyecto.ipynb Cell 80\u001b[0m line \u001b[0;36m7\n\u001b[0;32m      <a href='vscode-notebook-cell:/c%3A/Users/juand/OneDrive/Proyecto_Logica/Notebook_proyecto.ipynb#Y146sZmlsZQ%3D%3D?line=1'>2</a>\u001b[0m Itoria_formulas \u001b[39m=\u001b[39m Ytoria(Itoria_formulas)\n\u001b[0;32m      <a href='vscode-notebook-cell:/c%3A/Users/juand/OneDrive/Proyecto_Logica/Notebook_proyecto.ipynb#Y146sZmlsZQ%3D%3D?line=4'>5</a>\u001b[0m Wf \u001b[39m=\u001b[39m tseitin(Itoria_formulas)\n\u001b[1;32m----> <a href='vscode-notebook-cell:/c%3A/Users/juand/OneDrive/Proyecto_Logica/Notebook_proyecto.ipynb#Y146sZmlsZQ%3D%3D?line=6'>7</a>\u001b[0m Wf \u001b[39m=\u001b[39m walkSAT(Wf)\n\u001b[0;32m      <a href='vscode-notebook-cell:/c%3A/Users/juand/OneDrive/Proyecto_Logica/Notebook_proyecto.ipynb#Y146sZmlsZQ%3D%3D?line=7'>8</a>\u001b[0m r \u001b[39m=\u001b[39m Rejilla()\n\u001b[0;32m      <a href='vscode-notebook-cell:/c%3A/Users/juand/OneDrive/Proyecto_Logica/Notebook_proyecto.ipynb#Y146sZmlsZQ%3D%3D?line=8'>9</a>\u001b[0m r\u001b[39m.\u001b[39mvisualizar(Wf[\u001b[39m1\u001b[39m])\n",
      "File \u001b[1;32mc:\\Users\\juand\\OneDrive\\Proyecto_Logica\\Logica.py:851\u001b[0m, in \u001b[0;36mwalkSAT\u001b[1;34m(A, max_flips, max_tries, p)\u001b[0m\n\u001b[0;32m    849\u001b[0m                 v \u001b[39m=\u001b[39m min_breaks[\u001b[39m0\u001b[39m]\n\u001b[0;32m    850\u001b[0m         I \u001b[39m=\u001b[39m flip_literal(w\u001b[39m.\u001b[39mI, v)\n\u001b[1;32m--> 851\u001b[0m         w\u001b[39m.\u001b[39;49mactualizar(I)\n\u001b[0;32m    852\u001b[0m \u001b[39mreturn\u001b[39;00m \u001b[39mNone\u001b[39;00m, {}\n",
      "File \u001b[1;32mc:\\Users\\juand\\OneDrive\\Proyecto_Logica\\Logica.py:818\u001b[0m, in \u001b[0;36mWalkSatEstado.actualizar\u001b[1;34m(self, I)\u001b[0m\n\u001b[0;32m    816\u001b[0m \u001b[39mself\u001b[39m\u001b[39m.\u001b[39mI_lits \u001b[39m=\u001b[39m \u001b[39mset\u001b[39m([p \u001b[39mfor\u001b[39;00m p \u001b[39min\u001b[39;00m \u001b[39mself\u001b[39m\u001b[39m.\u001b[39mletrasp \u001b[39mif\u001b[39;00m \u001b[39mself\u001b[39m\u001b[39m.\u001b[39mI[p]] \u001b[39m+\u001b[39m [\u001b[39m'\u001b[39m\u001b[39m-\u001b[39m\u001b[39m'\u001b[39m\u001b[39m+\u001b[39mp \u001b[39mfor\u001b[39;00m p \u001b[39min\u001b[39;00m \u001b[39mself\u001b[39m\u001b[39m.\u001b[39mletrasp \u001b[39mif\u001b[39;00m \u001b[39mnot\u001b[39;00m \u001b[39mself\u001b[39m\u001b[39m.\u001b[39mI[p]])\n\u001b[0;32m    817\u001b[0m \u001b[39mself\u001b[39m\u001b[39m.\u001b[39mclausulas_sat \u001b[39m=\u001b[39m [C \u001b[39mfor\u001b[39;00m C \u001b[39min\u001b[39;00m \u001b[39mself\u001b[39m\u001b[39m.\u001b[39mS \u001b[39mif\u001b[39;00m \u001b[39many\u001b[39m((\u001b[39mTrue\u001b[39;00m \u001b[39mfor\u001b[39;00m x \u001b[39min\u001b[39;00m \u001b[39mself\u001b[39m\u001b[39m.\u001b[39mI_lits \u001b[39mif\u001b[39;00m x \u001b[39min\u001b[39;00m C))]\n\u001b[1;32m--> 818\u001b[0m \u001b[39mself\u001b[39m\u001b[39m.\u001b[39mclausulas_unsat \u001b[39m=\u001b[39m [C \u001b[39mfor\u001b[39;00m C \u001b[39min\u001b[39;00m \u001b[39mself\u001b[39m\u001b[39m.\u001b[39mS \u001b[39mif\u001b[39;00m C \u001b[39mnot\u001b[39;00m \u001b[39min\u001b[39;00m \u001b[39mself\u001b[39m\u001b[39m.\u001b[39mclausulas_sat]\n",
      "File \u001b[1;32mc:\\Users\\juand\\OneDrive\\Proyecto_Logica\\Logica.py:818\u001b[0m, in \u001b[0;36m<listcomp>\u001b[1;34m(.0)\u001b[0m\n\u001b[0;32m    816\u001b[0m \u001b[39mself\u001b[39m\u001b[39m.\u001b[39mI_lits \u001b[39m=\u001b[39m \u001b[39mset\u001b[39m([p \u001b[39mfor\u001b[39;00m p \u001b[39min\u001b[39;00m \u001b[39mself\u001b[39m\u001b[39m.\u001b[39mletrasp \u001b[39mif\u001b[39;00m \u001b[39mself\u001b[39m\u001b[39m.\u001b[39mI[p]] \u001b[39m+\u001b[39m [\u001b[39m'\u001b[39m\u001b[39m-\u001b[39m\u001b[39m'\u001b[39m\u001b[39m+\u001b[39mp \u001b[39mfor\u001b[39;00m p \u001b[39min\u001b[39;00m \u001b[39mself\u001b[39m\u001b[39m.\u001b[39mletrasp \u001b[39mif\u001b[39;00m \u001b[39mnot\u001b[39;00m \u001b[39mself\u001b[39m\u001b[39m.\u001b[39mI[p]])\n\u001b[0;32m    817\u001b[0m \u001b[39mself\u001b[39m\u001b[39m.\u001b[39mclausulas_sat \u001b[39m=\u001b[39m [C \u001b[39mfor\u001b[39;00m C \u001b[39min\u001b[39;00m \u001b[39mself\u001b[39m\u001b[39m.\u001b[39mS \u001b[39mif\u001b[39;00m \u001b[39many\u001b[39m((\u001b[39mTrue\u001b[39;00m \u001b[39mfor\u001b[39;00m x \u001b[39min\u001b[39;00m \u001b[39mself\u001b[39m\u001b[39m.\u001b[39mI_lits \u001b[39mif\u001b[39;00m x \u001b[39min\u001b[39;00m C))]\n\u001b[1;32m--> 818\u001b[0m \u001b[39mself\u001b[39m\u001b[39m.\u001b[39mclausulas_unsat \u001b[39m=\u001b[39m [C \u001b[39mfor\u001b[39;00m C \u001b[39min\u001b[39;00m \u001b[39mself\u001b[39m\u001b[39m.\u001b[39mS \u001b[39mif\u001b[39;00m C \u001b[39mnot\u001b[39;49;00m \u001b[39min\u001b[39;49;00m \u001b[39mself\u001b[39;49m\u001b[39m.\u001b[39;49mclausulas_sat]\n",
      "\u001b[1;31mKeyboardInterrupt\u001b[0m: "
     ]
    }
   ],
   "source": [
    "Itoria_formulas = [formula1,formula2,formula3,formula4,formula5,formula6,formula7,formula8]\n",
    "Itoria_formulas = Ytoria(Itoria_formulas)\n",
    "\n",
    "\n",
    "Wf = tseitin(Itoria_formulas)\n",
    "\n",
    "Wf = walkSAT(Wf)\n",
    "r = Rejilla()\n",
    "r.visualizar(Wf[1])"
   ]
  },
  {
   "cell_type": "markdown",
   "metadata": {},
   "source": [
    "# Implementación de AD-SOLVER MINISAT <a class=\"anchor\" id=\"imp\"></a>\n",
    "\n",
    "([Volver al inicio](#inicio))\n",
    "\n",
    "Ahora es necesario crear utilizar las reglas que creamos para el desarrollo de sus modelos y seguiremos con MINISAT:"
   ]
  },
  {
   "cell_type": "code",
   "execution_count": 196,
   "metadata": {},
   "outputs": [],
   "source": [
    "from pysat.solvers import Solver, Minisat22\n",
    "\n",
    "def SATsolver(A):\n",
    "    \n",
    "    def lit_numero(l):\n",
    "        if '-' in l:\n",
    "            return -ord(l[1:]) + 256\n",
    "        else:\n",
    "            return ord(l) - 256\n",
    "    \n",
    "    def clausula_numero(C):\n",
    "        return [lit_numero(l) for l in C]\n",
    "\n",
    "    def fnc_numero(S):\n",
    "        return [clausula_numero(C) for C in S]\n",
    "\n",
    "    def obtener_int(mod):\n",
    "        return {chr(256 + abs(n)):n>0 for n in mod}\n",
    "        \n",
    "    S = tseitin(A)\n",
    "    S = fnc_numero(S)\n",
    "    with Minisat22(bootstrap_with=S) as m:\n",
    "        if m.solve():\n",
    "            return 'Satisfacible', obtener_int(m.get_model())\n",
    "        else:\n",
    "            return 'Insatisfacible', {}"
   ]
  },
  {
   "cell_type": "code",
   "execution_count": 31,
   "metadata": {},
   "outputs": [
    {
     "name": "stdout",
     "output_type": "stream",
     "text": [
      "{'ā': False, 'Ă': False, 'ă': False, 'Ą': False, 'ą': False, 'Ć': False, 'ć': False, 'Ĉ': False, 'ĉ': False, 'Ċ': False, 'ċ': False, 'Č': False, 'č': False, 'Ď': True, 'ď': False, 'Đ': False, 'đ': False, 'Ē': False, 'ē': False, 'Ĕ': False, 'ĕ': False, 'Ė': False, 'ė': False, 'Ę': False, 'ę': False, 'Ě': False, 'ě': True, 'Ĝ': False, 'ĝ': False, 'Ğ': False, 'ğ': True, 'Ġ': False, 'ġ': False, 'Ģ': False, 'ģ': False, 'Ĥ': False, 'ĥ': False, 'Ħ': False, 'ħ': False, 'Ĩ': False, 'ĩ': False, 'Ī': False, 'ī': False, 'Ĭ': False, 'ĭ': False, 'Į': False, 'į': True, 'İ': False, 'ı': False, 'Ĳ': False, 'ĳ': False, 'Ĵ': False, 'ĵ': False, 'Ķ': False, 'ķ': False, 'ĸ': False, 'Ĺ': False, 'ĺ': False, 'Ļ': False, 'ļ': False, 'Ľ': True, 'ľ': False, 'Ŀ': False, 'ŀ': False, 'Ł': False, 'ł': False, 'Ń': False, 'ń': False, 'Ņ': False, 'ņ': False, 'Ň': False, 'ň': False, 'ŉ': False, 'Ŋ': False, 'ŋ': False, 'Ō': False, 'ō': False, 'Ŏ': False, 'ŏ': True, 'Ő': True, 'ő': True, 'Œ': True, 'œ': True, 'Ŕ': True, 'ŕ': True, 'Ŗ': True, 'ŗ': True, 'Ř': True, 'ř': True, 'Ś': True, 'ś': True, 'Ŝ': True, 'ŝ': True, 'Ş': True, 'ş': True, 'Š': True, 'š': True, 'Ţ': False, 'ţ': False, 'Ť': False, 'ť': False, 'Ŧ': False, 'ŧ': True, 'Ũ': True, 'ũ': False, 'Ū': False, 'ū': False, 'Ŭ': False, 'ŭ': True, 'Ů': True, 'ů': False, 'Ű': False, 'ű': False, 'Ų': False, 'ų': False, 'Ŵ': False, 'ŵ': True, 'Ŷ': True, 'ŷ': False, 'Ÿ': False, 'Ź': False, 'ź': False, 'Ż': True, 'ż': True, 'Ž': False, 'ž': False, 'ſ': False, 'ƀ': False, 'Ɓ': False, 'Ƃ': False, 'ƃ': True, 'Ƅ': True}\n"
     ]
    },
    {
     "data": {
      "image/png": "[encoded data removed]",
      "text/plain": [
       "<Figure size 500x100 with 1 Axes>"
      ]
     },
     "metadata": {},
     "output_type": "display_data"
    }
   ],
   "source": [
    "from Logica import *\n",
    "from pysat.solvers import Solver, Minisat22\n",
    "\n",
    "\n",
    "def SATsolver(A):\n",
    "    \n",
    "    def lit_numero(l):\n",
    "        if '-' in l:\n",
    "            return -ord(l[1:]) + 256\n",
    "        else:\n",
    "            return ord(l) - 256\n",
    "    \n",
    "    def clausula_numero(C):\n",
    "        return [lit_numero(l) for l in C]\n",
    "\n",
    "    def fnc_numero(S):\n",
    "        return [clausula_numero(C) for C in S]\n",
    "\n",
    "    def obtener_int(mod):\n",
    "        return {chr(256 + abs(n)):n>0 for n in mod}\n",
    "        \n",
    "    S = tseitin(A)\n",
    "    S = fnc_numero(S)\n",
    "    with Minisat22(bootstrap_with=S) as m:\n",
    "        if m.solve():\n",
    "            return 'Satisfacible', obtener_int(m.get_model())\n",
    "        else:\n",
    "            return 'Insatisfacible', {}\n",
    "\n",
    "Itoria_formulas = [formula1,formula2,formula3,formula4,formula5,formula6,formula7]\n",
    "Itoria_formulas = Ytoria(Itoria_formulas)\n",
    "\n",
    "\n",
    "Mini_F = SATsolver(Itoria_formulas)\n",
    "\n",
    "print(Mini_F[1])\n",
    "\n",
    "r = Rejilla()\n",
    "r.visualizar(Mini_F[1])"
   ]
  }
 ],
 "metadata": {
  "kernelspec": {
   "display_name": "Python 3",
   "language": "python",
   "name": "python3"
  },
  "language_info": {
   "codemirror_mode": {
    "name": "ipython",
    "version": 3
   },
   "file_extension": ".py",
   "mimetype": "text/x-python",
   "name": "python",
   "nbconvert_exporter": "python",
   "pygments_lexer": "ipython3",
   "version": "3.10.11"
  }
 },
 "nbformat": 4,
 "nbformat_minor": 2
}
